{
  "cells": [
    {
      "cell_type": "code",
      "execution_count": null,
      "id": "f7979d4c",
      "metadata": {
        "colab": {
          "base_uri": "https://localhost:8080/"
        },
        "id": "f7979d4c",
        "outputId": "341c1f81-77c1-4e47-fe77-e267cdef9fbe"
      },
      "outputs": [
        {
          "name": "stdout",
          "output_type": "stream",
          "text": [
            "Seed set for reproducibility.\n"
          ]
        }
      ],
      "source": [
        "import pandas as pd\n",
        "import torch.nn as nn\n",
        "import torch.nn.functional as F\n",
        "import random\n",
        "import numpy as np\n",
        "import torch\n",
        "\n",
        "# Modify this for your machine\n",
        "DEVICE = \"cuda\" if torch.cuda.is_available() else \"mps\"\n",
        "\n",
        "train_df = pd.read_pickle(\"train_df.pkl\")\n",
        "val_df = pd.read_pickle(\"val_df.pkl\")\n",
        "test_df = pd.read_pickle(\"test_data.pkl\")\n",
        "\n",
        "INPUT_LENGTH = 9000\n",
        "BATCH_SIZE = 64\n",
        "EPOCHS = 20\n",
        "NUM_WORKERS = 2 if DEVICE == \"cuda\" else 0\n",
        "NUM_CLASSES = 4\n",
        "\n",
        "N_FFT = 256\n",
        "HOP_LENGTH = 128\n",
        "HIDDEN_SIZE = 128\n",
        "\n",
        "\n",
        "CLASS_NAMES = {0: \"Normal\", 1: \"AF\", 2: \"Other\", 3: \"Noisy\"}\n",
        "\n",
        "\n",
        "TRAINING_MEAN = 1.07e-09\n",
        "TRAINING_STD = 175.11\n",
        "\n",
        "\n",
        "def set_seed(seed=42):\n",
        "    random.seed(seed)  # Python random\n",
        "    np.random.seed(seed)  # NumPy\n",
        "    torch.manual_seed(seed)  # PyTorch CPU\n",
        "    torch.cuda.manual_seed(seed)  # PyTorch GPU\n",
        "    torch.backends.cudnn.deterministic = True\n",
        "    torch.backends.cudnn.benchmark = False\n",
        "\n",
        "\n",
        "set_seed(42)\n",
        "print(\"Seed set for reproducibility.\")"
      ]
    },
    {
      "cell_type": "code",
      "execution_count": null,
      "id": "e107ab98",
      "metadata": {
        "id": "e107ab98"
      },
      "outputs": [],
      "source": [
        "# Augmentation functions\n",
        "import scipy.signal\n",
        "import torch\n",
        "import numpy as np\n",
        "import random\n",
        "from torch.nn.utils.rnn import pack_sequence\n",
        "\n",
        "# wrapping them in nn.Module should not introduce huge overhead\n",
        "\n",
        "\n",
        "def time_shift(signal, shift_range=(-100, 100)):\n",
        "    shift = np.roll(signal, shift=random.randint(shift_range[0], shift_range[1]))\n",
        "    return shift\n",
        "\n",
        "\n",
        "def add_noise(signal, noise_level=0.1):\n",
        "    noise = np.random.normal(0, noise_level, signal.shape)\n",
        "    return signal + noise\n",
        "\n",
        "\n",
        "def time_warp(signal, warp_factor=0.1):\n",
        "    return scipy.signal.resample(\n",
        "        signal, int(len(signal) * (1 + np.random.uniform(-warp_factor, warp_factor)))\n",
        "    )\n",
        "\n",
        "\n",
        "def amplitude_scaling(signal, scale_range=(0.8, 1.2)):\n",
        "    scale = random.uniform(scale_range[0], scale_range[1])\n",
        "    return signal * scale\n",
        "\n",
        "\n",
        "def augment(signal, augmentation=\"all\"):\n",
        "    if augmentation in (\"all\", \"warp_only\") and np.random.rand() < 0.5:\n",
        "        signal = time_warp(signal)\n",
        "    if augmentation in (\"all\", \"noise_only\") and np.random.rand() < 0.5:\n",
        "        signal = add_noise(signal)\n",
        "    if augmentation in (\"all\", \"shift_only\") and np.random.rand() < 0.5:\n",
        "        signal = time_shift(signal)\n",
        "    if augmentation in (\"all\", \"scale_only\") and np.random.rand() < 0.5:\n",
        "        signal = amplitude_scaling(signal)\n",
        "    return signal\n",
        "\n",
        "\n",
        "class ECGDataset(torch.utils.data.Dataset):\n",
        "    def __init__(self, df, augmentation=None):\n",
        "        self.df = df\n",
        "        self.augmentation = augmentation\n",
        "\n",
        "    def __len__(self):\n",
        "        return len(self.df)\n",
        "\n",
        "    def __getitem__(self, idx):\n",
        "        signal = self.df.iloc[idx][\"signal\"]\n",
        "        signal = np.array(signal, dtype=np.float32)\n",
        "        signal = augment(signal, self.augmentation) \n",
        "        \n",
        "        signal = (signal - TRAINING_MEAN) / TRAINING_STD\n",
        "        signal = torch.tensor(signal, dtype=torch.float32)\n",
        "\n",
        "        label = int(self.df.iloc[idx][\"label\"])\n",
        "        label = torch.tensor(label, dtype=torch.long)\n",
        "\n",
        "        length = len(signal)\n",
        "\n",
        "        return signal, label, length\n",
        "\n",
        "\n",
        "def collate_fn(batch):\n",
        "    # TODO: Optimization: sort by length\n",
        "    signals, labels, lengths = zip(*batch)\n",
        "    signals = [s.unsqueeze(-1) if s.dim() == 1 else s for s in signals]\n",
        "    packed_signals = pack_sequence(signals, enforce_sorted=False)\n",
        "\n",
        "    lengths = torch.tensor(lengths, dtype=torch.int64)\n",
        "    labels = torch.stack(labels)\n",
        "\n",
        "    return packed_signals, labels, lengths"
      ]
    },
    {
      "cell_type": "code",
      "execution_count": null,
      "id": "1882f6aa",
      "metadata": {
        "id": "1882f6aa"
      },
      "outputs": [],
      "source": [
        "import torch\n",
        "import torch.nn as nn\n",
        "import torch.nn.functional as F\n",
        "\n",
        "\n",
        "@torch.jit.script\n",
        "def batch_apply_stft(\n",
        "    signals: torch.Tensor, \n",
        "    lengths: torch.Tensor, \n",
        "    n_fft: int = N_FFT,  \n",
        "    hop_length: int = HOP_LENGTH,  \n",
        "    pad_mode: str = \"constant\"\n",
        ") -> tuple[torch.Tensor, torch.Tensor]:\n",
        "\n",
        "    batch_stft = torch.stft(\n",
        "        signals.squeeze(-1),\n",
        "        n_fft,\n",
        "        hop_length,\n",
        "        window=torch.hann_window(n_fft, device=signals.device),\n",
        "        pad_mode=pad_mode,\n",
        "        return_complex=True,\n",
        "    )\n",
        "    magnitude = torch.abs(batch_stft)\n",
        "\n",
        "    new_lengths = torch.clamp((lengths - n_fft) // hop_length + 1, min=1)\n",
        "\n",
        "    return magnitude, new_lengths\n",
        "\n",
        "def he_init_weights(m):\n",
        "    if isinstance(m, (nn.Linear, nn.Conv2d)):\n",
        "        nn.init.kaiming_normal_(m.weight, mode='fan_out', nonlinearity='relu')\n",
        "        if m.bias is not None:\n",
        "            nn.init.constant_(m.bias, 0)\n",
        "    elif isinstance(m, nn.LSTM):\n",
        "        for name, param in m.named_parameters():\n",
        "            if 'weight' in name:\n",
        "                nn.init.xavier_uniform_(param)\n",
        "            elif 'bias' in name:\n",
        "                nn.init.constant_(param, 0)"
      ]
    },
    {
      "cell_type": "code",
      "execution_count": 64,
      "id": "69307b23",
      "metadata": {
        "id": "69307b23"
      },
      "outputs": [],
      "source": [
        "import torch.nn as nn\n",
        "from torch.nn.utils.rnn import PackedSequence\n",
        "\n",
        "\n",
        "class VorgabeRNN(nn.Module):\n",
        "\n",
        "    def __init__(\n",
        "        self,\n",
        "        hidden_size=HIDDEN_SIZE,\n",
        "        num_layers=2,\n",
        "        num_classes=NUM_CLASSES,\n",
        "        n_fft=N_FFT,\n",
        "        hop_length=HOP_LENGTH,\n",
        "        dropout_rate=0.2,\n",
        "    ):\n",
        "        super(VorgabeRNN, self).__init__()\n",
        "\n",
        "        # STFT parameters\n",
        "        self.n_fft = n_fft\n",
        "        self.hop_length = hop_length\n",
        "        self.n_freqs = n_fft // 2 + 1\n",
        "\n",
        "        self.conv1 = nn.Conv2d(1, 32, kernel_size=(3, 3), padding=1)\n",
        "        self.conv2 = nn.Conv2d(32, 64, kernel_size=(3, 3), padding=1)\n",
        "        self.pool = nn.MaxPool2d(2, 2)\n",
        "        self.dropout = nn.Dropout(dropout_rate)\n",
        "\n",
        "        self.conv_output_size = 64 * (self.n_freqs // 4)\n",
        "\n",
        "        self.rnn = nn.RNN(self.conv_output_size, hidden_size, num_layers, batch_first=True)\n",
        "        self.fc = nn.Linear(hidden_size, num_classes)\n",
        "        self.n_fft = n_fft\n",
        "        self.hop_length = hop_length\n",
        "        self.stft = batch_apply_stft\n",
        "        self.apply(he_init_weights)\n",
        "\n",
        "        self.rnn_type = \"RNN\"\n",
        "\n",
        "    def feature_extractor(self, x: PackedSequence, lengths: torch.Tensor) -> torch.Tensor:\n",
        "        lengths = lengths.detach().clone().cpu()\n",
        "\n",
        "        x, _ = torch.nn.utils.rnn.pad_packed_sequence(x, batch_first=True)\n",
        "        x, new_lengths = self.stft(\n",
        "            x, lengths, n_fft=self.n_fft, hop_length=self.hop_length\n",
        "        )\n",
        "\n",
        "        x = torch.log2(x + 1e-8)\n",
        "        x = x.unsqueeze(1)\n",
        "\n",
        "        x = self.pool(F.relu(self.conv1(x)))\n",
        "        x = self.dropout(x)\n",
        "        x = self.pool(F.relu(self.conv2(x)))\n",
        "        x = self.dropout(x)\n",
        "\n",
        "        batch_size, channels, freq_bins, time_frames = x.shape\n",
        "        x = x.view(batch_size, time_frames, -1)\n",
        "\n",
        "        new_lengths = new_lengths // 4  # lengths after 2 max pooling\n",
        "        new_lengths = torch.clamp(\n",
        "            new_lengths, min=1\n",
        "        )  # avoids zero lengths, shouldn't be necessary\n",
        "\n",
        "        x = torch.nn.utils.rnn.pack_padded_sequence(\n",
        "            x, new_lengths, batch_first=True, enforce_sorted=False\n",
        "        )\n",
        "\n",
        "        if self.rnn_type == \"LSTM\":\n",
        "            LSTM_output, LSTM_states = self.rnn(x)\n",
        "            return LSTM_states[0][-1]\n",
        "        else:\n",
        "            RNN_output, RNN_states = self.rnn(x)\n",
        "            return RNN_states[-1]\n",
        "\n",
        "    def forward(self, x: PackedSequence, lengths: torch.Tensor) -> torch.Tensor:\n",
        "        x = self.feature_extractor(x, lengths)\n",
        "        x = self.fc(x)\n",
        "        return x\n",
        "\n",
        "    def predict(self, x: PackedSequence, lengths: torch.Tensor) -> torch.Tensor:\n",
        "        with torch.no_grad():\n",
        "            x = self.forward(x, lengths)\n",
        "            _, predicted = torch.max(x, 1)\n",
        "        return predicted"
      ]
    },
    {
      "cell_type": "code",
      "execution_count": 65,
      "id": "6451fda1",
      "metadata": {
        "id": "6451fda1"
      },
      "outputs": [],
      "source": [
        "class VorgabeLSTM(VorgabeRNN):\n",
        "\n",
        "    def __init__(\n",
        "        self,\n",
        "        hidden_size=HIDDEN_SIZE,\n",
        "        num_layers=2,\n",
        "        num_classes=NUM_CLASSES,\n",
        "        n_fft=N_FFT,\n",
        "        hop_length=HOP_LENGTH,\n",
        "        dropout_rate=0.2,\n",
        "    ):\n",
        "        super().__init__(hidden_size, num_layers, num_classes, n_fft, hop_length, dropout_rate)\n",
        "        self.rnn = nn.LSTM(self.conv_output_size, hidden_size, num_layers, batch_first=True)\n",
        "        self.rnn_type = \"LSTM\"\n",
        "\n",
        "\n",
        "class VorgabeGRU(VorgabeRNN):\n",
        "\n",
        "    def __init__(\n",
        "        self,\n",
        "        hidden_size=HIDDEN_SIZE,\n",
        "        num_layers=2,\n",
        "        num_classes=NUM_CLASSES,\n",
        "        n_fft=N_FFT,\n",
        "        hop_length=HOP_LENGTH,\n",
        "        dropout_rate=0.2,\n",
        "    ):\n",
        "        super().__init__(hidden_size, num_layers, num_classes, n_fft, hop_length, dropout_rate)\n",
        "        self.rnn = nn.GRU(self.conv_output_size, hidden_size, num_layers, batch_first=True)\n",
        "        self.rnn_type = \"GRU\""
      ]
    },
    {
      "cell_type": "code",
      "execution_count": null,
      "id": "f0caa10f",
      "metadata": {
        "id": "f0caa10f"
      },
      "outputs": [],
      "source": [
        "import sklearn.svm\n",
        "class RNNwithSVM(VorgabeRNN):\n",
        "    def __init__(\n",
        "        self,\n",
        "        hidden_size=HIDDEN_SIZE, # Use global HIDDEN_SIZE as default\n",
        "        num_layers=2,\n",
        "        num_classes=NUM_CLASSES,\n",
        "        n_fft=N_FFT,\n",
        "        hop_length=HOP_LENGTH,\n",
        "        dropout_rate=0.2,\n",
        "    ):\n",
        "        super(RNNwithSVM, self).__init__(\n",
        "            hidden_size, num_layers, num_classes, n_fft, hop_length, dropout_rate\n",
        "        )\n",
        "        self.fc1 = nn.Linear(hidden_size, hidden_size) \n",
        "        self.fc2 = nn.Linear(hidden_size, num_classes)\n",
        "        self.svm = sklearn.svm.SVC()\n",
        "        self.is_svm_trained = False\n",
        "\n",
        "    def forward(self, x: PackedSequence, lengths: torch.Tensor) -> torch.Tensor:\n",
        "        x = self.feature_extractor(x, lengths)\n",
        "        x = self.fc1(x)\n",
        "        if self.fc2 is not None and not self.is_svm_trained:\n",
        "            return self.fc2(x)\n",
        "        return x\n",
        "\n",
        "    def predict(self, x: PackedSequence, lengths: torch.Tensor) -> torch.Tensor:\n",
        "        if not self.is_svm_trained:\n",
        "            raise ValueError(\"SVM not trained yet!\")\n",
        "        self.eval()\n",
        "        with torch.no_grad():\n",
        "            x = self.feature_extractor(x, lengths) \n",
        "            x = self.fc1(x)\n",
        "            x = self.svm.predict(x.cpu().numpy())\n",
        "        return x\n",
        "    def _remove_temp_classifier(self):\n",
        "        self.fc2 = None"
      ]
    },
    {
      "cell_type": "code",
      "execution_count": 67,
      "id": "99f21593",
      "metadata": {
        "colab": {
          "base_uri": "https://localhost:8080/"
        },
        "id": "99f21593",
        "outputId": "632e598c-8c5c-4490-a6fc-c32bca11e009"
      },
      "outputs": [
        {
          "name": "stdout",
          "output_type": "stream",
          "text": [
            "Batch size: tensor([64, 64, 64,  ..., 10, 10, 10])\n",
            "Signal lengths: tensor([18000,  9000,  9000,  9000,  9000,  4500,  9000, 14648, 11520,  9000,\n",
            "         8226,  5834,  9000,  9000,  9000,  9000,  9000,  9000,  9000, 18000,\n",
            "         9000,  9000, 18000,  9000,  9000, 10582,  9000,  9000,  9000,  9000,\n",
            "         9000,  9000,  9000, 18000,  9000,  9000,  9000, 18000, 18000,  9000,\n",
            "        18000, 18000,  9000,  9000,  9000,  9000,  9000,  9000,  9000,  9000,\n",
            "         9000,  6162,  9000,  9000,  9000,  9000,  9000,  9000,  9000, 18000,\n",
            "         9000,  9000, 18000,  9000])\n",
            "Signal shapes: [torch.Size([664472, 1]), torch.Size([18000]), torch.Size([64]), torch.Size([64])]\n",
            "padded signal lengths: 18000\n",
            "packed seq lengths: tensor([64, 64, 64,  ..., 10, 10, 10])\n",
            "actual signal lengths: 1\n"
          ]
        }
      ],
      "source": [
        "from torch.utils.data import DataLoader\n",
        "\n",
        "train_dataset = ECGDataset(train_df, augmentation=None)\n",
        "val_dataset = ECGDataset(val_df)\n",
        "\n",
        "train_loader = DataLoader(\n",
        "    train_dataset,\n",
        "    batch_size=BATCH_SIZE,\n",
        "    shuffle=True,\n",
        "    num_workers=NUM_WORKERS,\n",
        "    generator=torch.Generator().manual_seed(42),\n",
        "    collate_fn=collate_fn,\n",
        ")\n",
        "\n",
        "val_loader = DataLoader(\n",
        "    val_dataset,\n",
        "    batch_size=BATCH_SIZE,\n",
        "    shuffle=False,\n",
        "    num_workers=NUM_WORKERS,\n",
        "    collate_fn=collate_fn,\n",
        ")\n",
        "\n",
        "# check the actual signal lengths from the paddedsequences after   x, _ = torch.nn.utils.rnn.pad_packed_sequence(x, batch_first=True)\n",
        "for signals, labels, lengths in val_loader:\n",
        "    print(f\"Batch size: {signals.batch_sizes}\")\n",
        "    print(f\"Signal lengths: {lengths}\")\n",
        "    # signals is a PackedSequence\n",
        "    print(f\"Signal shapes: {[s.shape for s in signals]}\")  # Print shapes of each signal in the batch\n",
        "    x, _ = torch.nn.utils.rnn.pad_packed_sequence(signals, batch_first=True)\n",
        "    print(f\"padded signal lengths: {x.shape[1]}\")\n",
        "    x = torch.nn.utils.rnn.pack_padded_sequence(x, lengths, batch_first=True, enforce_sorted=False)\n",
        "    print(f\"packed seq lengths: {x.batch_sizes}\")\n",
        "    print(f\"actual signal lengths: {x.data.shape[1]}\")\n",
        "    break"
      ]
    },
    {
      "cell_type": "code",
      "execution_count": 68,
      "id": "40b9baf1",
      "metadata": {
        "id": "40b9baf1"
      },
      "outputs": [],
      "source": [
        "import torch\n",
        "import torch.nn as nn\n",
        "import torch.optim as optim\n",
        "from tqdm import tqdm\n",
        "\n",
        "from sklearn.utils.class_weight import compute_class_weight\n",
        "\n",
        "\n",
        "\n",
        "def train_model(model, train_loader, epochs=10, lr=0.001, batch_size_factor=4):\n",
        "    device = \"cuda\" if torch.cuda.is_available() else \"mps\"\n",
        "    model.to(device)\n",
        "\n",
        "    is_nn_svm = hasattr(model, \"svm\")\n",
        "\n",
        "    optimizer = optim.Adam(model.parameters(), lr=lr)\n",
        "\n",
        "    original_weights = compute_class_weight(\n",
        "        class_weight=\"balanced\",\n",
        "        classes=np.array([0, 1, 2, 3]),\n",
        "        y=train_df[\"label\"].values,\n",
        "    )\n",
        "\n",
        "    # Normalize and scale the weights\n",
        "    scaled_weights = original_weights / original_weights.max()  # normalize to max=1\n",
        "    scaled_weights = 0.5 + (\n",
        "        scaled_weights * 0.5\n",
        "    )  # shrink range to [0.5, 1.0] for balance\n",
        "\n",
        "    weights_tensor = torch.tensor(scaled_weights, dtype=torch.float32).to(device)\n",
        "\n",
        "\n",
        "    criterion = nn.CrossEntropyLoss(weight=weights_tensor)\n",
        "\n",
        "    print(f\"Training {model.rnn_type}...\")\n",
        "    model.train()\n",
        "    for epoch in range(epochs):\n",
        "        total_loss, correct, total = 0, 0, 0\n",
        "\n",
        "        for signals, labels, lengths in tqdm(train_loader, desc=f\"Epoch {epoch+1}/{epochs}\"):\n",
        "            signals, labels, lengths = signals.to(device), labels.to(device), lengths.to(device)\n",
        "\n",
        "            optimizer.zero_grad()\n",
        "            outputs = model(signals, lengths)\n",
        "            loss = criterion(outputs, labels)\n",
        "\n",
        "            # ADDED: gradient clipping\n",
        "            loss.backward()\n",
        "            torch.nn.utils.clip_grad_norm_(model.parameters(), max_norm=1.0)\n",
        "            optimizer.step()\n",
        "\n",
        "            total_loss += loss.item()\n",
        "            _, predicted = outputs.max(1)\n",
        "            total += labels.size(0)\n",
        "            correct += predicted.eq(labels).sum().item()\n",
        "\n",
        "        acc = 100.0 * correct / total\n",
        "        print(\n",
        "            f\"Epoch {epoch+1}: Train Loss: {total_loss/len(train_loader):.4f}, Train Acc: {acc:.2f}%\"\n",
        "        )\n",
        "\n",
        "    if is_nn_svm:\n",
        "        model._remove_temp_classifier()\n",
        "        _train_svm_phase(model, train_loader, device, batch_size_factor)\n",
        "\n",
        "    return model\n",
        "\n",
        "\n",
        "\n",
        "def _train_svm_phase(model, train_loader, device, batch_size_factor):\n",
        "\n",
        "    print(\"Training SVM...\")\n",
        "    model.eval()\n",
        "    all_features, all_labels = [], []\n",
        "    batch_features, batch_labels = [], []\n",
        "    assert model.fc2 is None, \"Temporary classifier should be removed before SVM training\"\n",
        "\n",
        "    # extract_features_from_loader(model, data_loader, device):\n",
        "    with torch.no_grad():\n",
        "        for signals, labels, lengths in tqdm(train_loader, desc=\"Extracting features\"):\n",
        "            signals, lengths = signals.to(device), lengths.to(device)\n",
        "            features = model(signals, lengths)\n",
        "\n",
        "            batch_features.append(features)\n",
        "            batch_labels.append(labels)\n",
        "\n",
        "            if len(batch_features) >= batch_size_factor:\n",
        "                combined_features = torch.cat(batch_features, dim=0).cpu().numpy()\n",
        "                combined_labels = torch.cat(batch_labels, dim=0).numpy()\n",
        "                all_features.append(combined_features)\n",
        "                all_labels.append(combined_labels)\n",
        "                batch_features, batch_labels = [], []\n",
        "\n",
        "\n",
        "    if batch_features:\n",
        "        combined_features = torch.cat(batch_features, dim=0).cpu().numpy()\n",
        "        combined_labels = torch.cat(batch_labels, dim=0).numpy()\n",
        "        all_features.append(combined_features)\n",
        "        all_labels.append(combined_labels)\n",
        "\n",
        "    final_features = np.concatenate(all_features, axis=0)\n",
        "    final_labels = np.concatenate(all_labels, axis=0)\n",
        "\n",
        "    print(f\"Training SVM on {len(final_features)} samples\")\n",
        "    model.svm.fit(final_features, final_labels)\n",
        "    model.is_svm_trained = True"
      ]
    },
    {
      "cell_type": "code",
      "execution_count": 69,
      "id": "2eb95fa9",
      "metadata": {
        "id": "2eb95fa9"
      },
      "outputs": [],
      "source": [
        "import matplotlib.pyplot as plt\n",
        "import seaborn as sns\n",
        "from sklearn.metrics import accuracy_score, classification_report, confusion_matrix, f1_score\n",
        "\n",
        "\n",
        "def evaluate_model(model, val_loader, device):\n",
        "    print(\"Evaluating model...\")\n",
        "    model.eval()\n",
        "    all_predictions, all_labels = [], []\n",
        "    is_nn_svm = hasattr(model, \"svm\")\n",
        "\n",
        "    with torch.no_grad():\n",
        "        for signals, labels, lengths in tqdm(val_loader, desc=\"Evaluating\"):\n",
        "            signals, lengths = (\n",
        "                signals.to(device),\n",
        "                lengths.to(device),\n",
        "            )\n",
        "\n",
        "            predictions = model.predict(signals, lengths)\n",
        "            if not is_nn_svm:\n",
        "                predictions = predictions.cpu().numpy()\n",
        "\n",
        "            all_predictions.extend(predictions)\n",
        "            all_labels.extend(labels.numpy())\n",
        "\n",
        "    accuracy = accuracy_score(all_labels, all_predictions)\n",
        "    print(f\"Final Validation Accuracy: {accuracy:.4f}\")\n",
        "    print(classification_report(all_labels, all_predictions))\n",
        "\n",
        "    f1 = f1_score(all_labels, all_predictions, average=\"weighted\")\n",
        "    print(f\"Final Validation F1 Score: {f1:.4f}\")\n",
        "\n",
        "    cm = confusion_matrix(all_labels, all_predictions)\n",
        "    # normalize heatmap colors in each row for class distribution\n",
        "    cm_normalized = cm.astype(\"float\") / cm.sum(axis=1)[:, np.newaxis]\n",
        "    sns.heatmap(\n",
        "        cm_normalized,\n",
        "        annot=True,\n",
        "        fmt=\".2f\",\n",
        "        cmap=\"Blues\",\n",
        "        xticklabels=CLASS_NAMES.values(),\n",
        "        yticklabels=CLASS_NAMES.values(),\n",
        "    )\n",
        "    plt.xlabel(\"Predicted\")\n",
        "    plt.ylabel(\"True\")\n",
        "    plt.title(\"Confusion Matrix\")\n",
        "    plt.show()\n",
        "\n",
        "    return accuracy"
      ]
    },
    {
      "cell_type": "code",
      "execution_count": 70,
      "id": "oMmjfO7riQme",
      "metadata": {
        "colab": {
          "base_uri": "https://localhost:8080/"
        },
        "id": "oMmjfO7riQme",
        "outputId": "a1f31332-1c5b-46eb-b95a-28b58d96ae6e"
      },
      "outputs": [
        {
          "name": "stdout",
          "output_type": "stream",
          "text": [
            "graph(%self : __torch__.___torch_mangle_14.VorgabeRNN,\n",
            "      %x.1 : NamedTuple(data : Tensor, batch_sizes : Tensor, sorted_indices : Tensor?, unsorted_indices : Tensor?),\n",
            "      %lengths.1 : Tensor):\n",
            "  %x.5 : Tensor = prim::CallMethod[name=\"feature_extractor\"](%self, %x.1, %lengths.1) # /tmp/ipython-input-64-3004961502.py:75:12\n",
            "  %fc : __torch__.torch.nn.modules.linear.Linear = prim::GetAttr[name=\"fc\"](%self)\n",
            "  %x.9 : Tensor = prim::CallMethod[name=\"forward\"](%fc, %x.5) # /tmp/ipython-input-64-3004961502.py:76:12\n",
            "  return (%x.9)\n",
            "\n",
            "graph(%self : __torch__.___torch_mangle_15.VorgabeLSTM,\n",
            "      %x.1 : NamedTuple(data : Tensor, batch_sizes : Tensor, sorted_indices : Tensor?, unsorted_indices : Tensor?),\n",
            "      %lengths.1 : Tensor):\n",
            "  %x.5 : Tensor = prim::CallMethod[name=\"feature_extractor\"](%self, %x.1, %lengths.1) # /tmp/ipython-input-64-3004961502.py:75:12\n",
            "  %fc : __torch__.torch.nn.modules.linear.Linear = prim::GetAttr[name=\"fc\"](%self)\n",
            "  %x.9 : Tensor = prim::CallMethod[name=\"forward\"](%fc, %x.5) # /tmp/ipython-input-64-3004961502.py:76:12\n",
            "  return (%x.9)\n",
            "\n",
            "graph(%self : __torch__.___torch_mangle_16.VorgabeGRU,\n",
            "      %x.1 : NamedTuple(data : Tensor, batch_sizes : Tensor, sorted_indices : Tensor?, unsorted_indices : Tensor?),\n",
            "      %lengths.1 : Tensor):\n",
            "  %x.5 : Tensor = prim::CallMethod[name=\"feature_extractor\"](%self, %x.1, %lengths.1) # /tmp/ipython-input-64-3004961502.py:75:12\n",
            "  %fc : __torch__.torch.nn.modules.linear.Linear = prim::GetAttr[name=\"fc\"](%self)\n",
            "  %x.9 : Tensor = prim::CallMethod[name=\"forward\"](%fc, %x.5) # /tmp/ipython-input-64-3004961502.py:76:12\n",
            "  return (%x.9)\n",
            "\n"
          ]
        }
      ],
      "source": [
        "import torch\n",
        "\n",
        "input_shape = (BATCH_SIZE, INPUT_LENGTH, 1)\n",
        "\n",
        "for model in [VorgabeRNN, VorgabeLSTM, VorgabeGRU]:\n",
        "\n",
        "    model_instance = model(\n",
        "        hidden_size=HIDDEN_SIZE,\n",
        "        num_layers=2,\n",
        "        num_classes=NUM_CLASSES,\n",
        "        n_fft=N_FFT,\n",
        "        hop_length=HOP_LENGTH,\n",
        "        dropout_rate=0.2,\n",
        "    )\n",
        "    device = \"cuda\" if torch.cuda.is_available() else \"cpu\"\n",
        "    model_instance = model_instance.to(device)\n",
        "    model_instance.eval()\n",
        "\n",
        "    dummy_input = torch.randn(*input_shape, device=device)\n",
        "    dummy_input = pack_sequence(\n",
        "        [dummy_input] * input_shape[0], enforce_sorted=False\n",
        "    )\n",
        "    dummy_lengths = torch.tensor(\n",
        "        [input_shape[1]] * input_shape[0], dtype=torch.int64, device=device\n",
        "    )\n",
        "    scripted = torch.jit.script(model_instance)\n",
        "    print(scripted.graph)\n",
        "    scripted.save(f\"{model.__name__}.pt\")"
      ]
    },
    {
      "cell_type": "code",
      "execution_count": 71,
      "id": "fa00fa88",
      "metadata": {
        "colab": {
          "base_uri": "https://localhost:8080/"
        },
        "id": "fa00fa88",
        "outputId": "d42ee0a0-2851-4836-b62f-481b2b7ba16f"
      },
      "outputs": [
        {
          "name": "stdout",
          "output_type": "stream",
          "text": [
            "Gradients for rnn.weight_hh_l0 are zero.\n",
            "Gradients for rnn.weight_hh_l1 are zero.\n",
            "Gradients for rnn.weight_hh_l0 are zero.\n",
            "Gradients for rnn.weight_hh_l1 are zero.\n",
            "Gradients for rnn.weight_hh_l0 are zero.\n",
            "Gradients for rnn.weight_hh_l1 are zero.\n"
          ]
        }
      ],
      "source": [
        "def check_gradients(model):\n",
        "    model.train()\n",
        "    device = next(model.parameters()).device\n",
        "\n",
        "    dummy_sequences = []\n",
        "    for i in range(BATCH_SIZE):\n",
        "        seq = torch.randn(\n",
        "            1000, 1, device=device, requires_grad=True\n",
        "        )\n",
        "        dummy_sequences.append(seq)\n",
        "\n",
        "    dummy_input = pack_sequence(dummy_sequences, enforce_sorted=False)\n",
        "    dummy_lengths = torch.tensor(\n",
        "        [1000] * BATCH_SIZE, dtype=torch.int64, device=device\n",
        "    )\n",
        "\n",
        "    output = model(dummy_input, dummy_lengths)\n",
        "    loss = output.sum()\n",
        "    loss.backward()\n",
        "\n",
        "    for name, param in model.named_parameters():\n",
        "        if param.grad is not None:\n",
        "            if param.grad.abs().sum() == 0:\n",
        "                print(f\"Gradients for {name} are zero.\")\n",
        "\n",
        "\n",
        "for model in [VorgabeRNN, VorgabeLSTM, VorgabeGRU]:\n",
        "    model_instance = model(\n",
        "        hidden_size=HIDDEN_SIZE,\n",
        "        num_layers=2,\n",
        "        num_classes=NUM_CLASSES,\n",
        "        n_fft=N_FFT,\n",
        "        hop_length=HOP_LENGTH,\n",
        "        dropout_rate=0.2,\n",
        "    )\n",
        "    device = \"cuda\" if torch.cuda.is_available() else \"cpu\"\n",
        "    model_instance = model_instance.to(device)\n",
        "    check_gradients(model_instance)"
      ]
    },
    {
      "cell_type": "code",
      "execution_count": 72,
      "id": "1133f80a",
      "metadata": {
        "colab": {
          "base_uri": "https://localhost:8080/",
          "height": 1000
        },
        "id": "1133f80a",
        "outputId": "ec141776-886b-4ce5-fd07-f91141d784a4"
      },
      "outputs": [
        {
          "name": "stdout",
          "output_type": "stream",
          "text": [
            "Starting tests with different configurations...\n",
            "Testing RNNwithSVM with all\n",
            "Training RNN...\n"
          ]
        },
        {
          "name": "stderr",
          "output_type": "stream",
          "text": [
            "Epoch 1/20: 100%|██████████| 83/83 [00:08<00:00,  9.58it/s]\n"
          ]
        },
        {
          "name": "stdout",
          "output_type": "stream",
          "text": [
            "Epoch 1: Train Loss: 1.1289, Train Acc: 58.68%\n"
          ]
        },
        {
          "name": "stderr",
          "output_type": "stream",
          "text": [
            "Epoch 2/20: 100%|██████████| 83/83 [00:06<00:00, 12.34it/s]\n"
          ]
        },
        {
          "name": "stdout",
          "output_type": "stream",
          "text": [
            "Epoch 2: Train Loss: 1.1155, Train Acc: 58.91%\n"
          ]
        },
        {
          "name": "stderr",
          "output_type": "stream",
          "text": [
            "Epoch 3/20: 100%|██████████| 83/83 [00:07<00:00, 10.42it/s]\n"
          ]
        },
        {
          "name": "stdout",
          "output_type": "stream",
          "text": [
            "Epoch 3: Train Loss: 1.1079, Train Acc: 58.91%\n"
          ]
        },
        {
          "name": "stderr",
          "output_type": "stream",
          "text": [
            "Epoch 4/20: 100%|██████████| 83/83 [00:06<00:00, 12.61it/s]\n"
          ]
        },
        {
          "name": "stdout",
          "output_type": "stream",
          "text": [
            "Epoch 4: Train Loss: 1.1036, Train Acc: 58.83%\n"
          ]
        },
        {
          "name": "stderr",
          "output_type": "stream",
          "text": [
            "Epoch 5/20: 100%|██████████| 83/83 [00:07<00:00, 10.44it/s]\n"
          ]
        },
        {
          "name": "stdout",
          "output_type": "stream",
          "text": [
            "Epoch 5: Train Loss: 1.0909, Train Acc: 58.66%\n"
          ]
        },
        {
          "name": "stderr",
          "output_type": "stream",
          "text": [
            "Epoch 6/20: 100%|██████████| 83/83 [00:07<00:00, 10.73it/s]\n"
          ]
        },
        {
          "name": "stdout",
          "output_type": "stream",
          "text": [
            "Epoch 6: Train Loss: 1.0985, Train Acc: 58.19%\n"
          ]
        },
        {
          "name": "stderr",
          "output_type": "stream",
          "text": [
            "Epoch 7/20: 100%|██████████| 83/83 [00:10<00:00,  7.87it/s]\n"
          ]
        },
        {
          "name": "stdout",
          "output_type": "stream",
          "text": [
            "Epoch 7: Train Loss: 1.0948, Train Acc: 58.63%\n"
          ]
        },
        {
          "name": "stderr",
          "output_type": "stream",
          "text": [
            "Epoch 8/20: 100%|██████████| 83/83 [00:07<00:00, 11.54it/s]\n"
          ]
        },
        {
          "name": "stdout",
          "output_type": "stream",
          "text": [
            "Epoch 8: Train Loss: 1.0777, Train Acc: 58.43%\n"
          ]
        },
        {
          "name": "stderr",
          "output_type": "stream",
          "text": [
            "Epoch 9/20: 100%|██████████| 83/83 [00:07<00:00, 11.55it/s]\n"
          ]
        },
        {
          "name": "stdout",
          "output_type": "stream",
          "text": [
            "Epoch 9: Train Loss: 1.0742, Train Acc: 58.51%\n"
          ]
        },
        {
          "name": "stderr",
          "output_type": "stream",
          "text": [
            "Epoch 10/20: 100%|██████████| 83/83 [00:08<00:00,  9.99it/s]\n"
          ]
        },
        {
          "name": "stdout",
          "output_type": "stream",
          "text": [
            "Epoch 10: Train Loss: 1.0718, Train Acc: 58.64%\n"
          ]
        },
        {
          "name": "stderr",
          "output_type": "stream",
          "text": [
            "Epoch 11/20: 100%|██████████| 83/83 [00:06<00:00, 12.19it/s]\n"
          ]
        },
        {
          "name": "stdout",
          "output_type": "stream",
          "text": [
            "Epoch 11: Train Loss: 1.0676, Train Acc: 58.53%\n"
          ]
        },
        {
          "name": "stderr",
          "output_type": "stream",
          "text": [
            "Epoch 12/20: 100%|██████████| 83/83 [00:08<00:00,  9.79it/s]\n"
          ]
        },
        {
          "name": "stdout",
          "output_type": "stream",
          "text": [
            "Epoch 12: Train Loss: 1.0677, Train Acc: 58.34%\n"
          ]
        },
        {
          "name": "stderr",
          "output_type": "stream",
          "text": [
            "Epoch 13/20: 100%|██████████| 83/83 [00:06<00:00, 11.98it/s]\n"
          ]
        },
        {
          "name": "stdout",
          "output_type": "stream",
          "text": [
            "Epoch 13: Train Loss: 1.0674, Train Acc: 58.66%\n"
          ]
        },
        {
          "name": "stderr",
          "output_type": "stream",
          "text": [
            "Epoch 14/20: 100%|██████████| 83/83 [00:08<00:00,  9.72it/s]\n"
          ]
        },
        {
          "name": "stdout",
          "output_type": "stream",
          "text": [
            "Epoch 14: Train Loss: 1.0749, Train Acc: 58.11%\n"
          ]
        },
        {
          "name": "stderr",
          "output_type": "stream",
          "text": [
            "Epoch 15/20: 100%|██████████| 83/83 [00:06<00:00, 12.54it/s]\n"
          ]
        },
        {
          "name": "stdout",
          "output_type": "stream",
          "text": [
            "Epoch 15: Train Loss: 1.0748, Train Acc: 58.28%\n"
          ]
        },
        {
          "name": "stderr",
          "output_type": "stream",
          "text": [
            "Epoch 16/20: 100%|██████████| 83/83 [00:08<00:00,  9.72it/s]\n"
          ]
        },
        {
          "name": "stdout",
          "output_type": "stream",
          "text": [
            "Epoch 16: Train Loss: 1.0912, Train Acc: 58.43%\n"
          ]
        },
        {
          "name": "stderr",
          "output_type": "stream",
          "text": [
            "Epoch 17/20: 100%|██████████| 83/83 [00:06<00:00, 12.33it/s]\n"
          ]
        },
        {
          "name": "stdout",
          "output_type": "stream",
          "text": [
            "Epoch 17: Train Loss: 1.0874, Train Acc: 58.49%\n"
          ]
        },
        {
          "name": "stderr",
          "output_type": "stream",
          "text": [
            "Epoch 18/20: 100%|██████████| 83/83 [00:08<00:00,  9.91it/s]\n"
          ]
        },
        {
          "name": "stdout",
          "output_type": "stream",
          "text": [
            "Epoch 18: Train Loss: 1.0787, Train Acc: 58.34%\n"
          ]
        },
        {
          "name": "stderr",
          "output_type": "stream",
          "text": [
            "Epoch 19/20: 100%|██████████| 83/83 [00:06<00:00, 12.68it/s]\n"
          ]
        },
        {
          "name": "stdout",
          "output_type": "stream",
          "text": [
            "Epoch 19: Train Loss: 1.0682, Train Acc: 58.38%\n"
          ]
        },
        {
          "name": "stderr",
          "output_type": "stream",
          "text": [
            "Epoch 20/20: 100%|██████████| 83/83 [00:08<00:00,  9.51it/s]\n"
          ]
        },
        {
          "name": "stdout",
          "output_type": "stream",
          "text": [
            "Epoch 20: Train Loss: 1.0662, Train Acc: 58.28%\n",
            "Training SVM...\n"
          ]
        },
        {
          "name": "stderr",
          "output_type": "stream",
          "text": [
            "Extracting features: 100%|██████████| 83/83 [00:05<00:00, 14.44it/s]\n"
          ]
        },
        {
          "name": "stdout",
          "output_type": "stream",
          "text": [
            "Training SVM on 5252 samples\n",
            "Evaluating model...\n"
          ]
        },
        {
          "name": "stderr",
          "output_type": "stream",
          "text": [
            "Evaluating: 100%|██████████| 15/15 [00:01<00:00, 12.00it/s]\n"
          ]
        },
        {
          "name": "stdout",
          "output_type": "stream",
          "text": [
            "Final Validation Accuracy: 0.5868\n",
            "              precision    recall  f1-score   support\n",
            "\n",
            "           0       0.59      1.00      0.74       544\n",
            "           1       0.00      0.00      0.00        84\n",
            "           2       0.00      0.00      0.00       264\n",
            "           3       0.00      0.00      0.00        35\n",
            "\n",
            "    accuracy                           0.59       927\n",
            "   macro avg       0.15      0.25      0.18       927\n",
            "weighted avg       0.34      0.59      0.43       927\n",
            "\n",
            "Final Validation F1 Score: 0.4340\n"
          ]
        },
        {
          "data": {
            "image/png": "[encoded data removed]",
            "text/plain": [
              "<Figure size 640x480 with 2 Axes>"
            ]
          },
          "metadata": {},
          "output_type": "display_data"
        },
        {
          "name": "stdout",
          "output_type": "stream",
          "text": [
            "Validation Accuracy of RNNwithSVM with all: 0.5868\n",
            "\n",
            "Testing VorgabeLSTM with all\n",
            "Training LSTM...\n"
          ]
        },
        {
          "name": "stderr",
          "output_type": "stream",
          "text": [
            "Epoch 1/20: 100%|██████████| 83/83 [00:06<00:00, 12.21it/s]\n"
          ]
        },
        {
          "name": "stdout",
          "output_type": "stream",
          "text": [
            "Epoch 1: Train Loss: 1.1590, Train Acc: 54.47%\n"
          ]
        },
        {
          "name": "stderr",
          "output_type": "stream",
          "text": [
            "Epoch 2/20: 100%|██████████| 83/83 [00:08<00:00,  9.86it/s]\n"
          ]
        },
        {
          "name": "stdout",
          "output_type": "stream",
          "text": [
            "Epoch 2: Train Loss: 1.0830, Train Acc: 58.49%\n"
          ]
        },
        {
          "name": "stderr",
          "output_type": "stream",
          "text": [
            "Epoch 3/20: 100%|██████████| 83/83 [00:06<00:00, 12.28it/s]\n"
          ]
        },
        {
          "name": "stdout",
          "output_type": "stream",
          "text": [
            "Epoch 3: Train Loss: 1.0845, Train Acc: 58.21%\n"
          ]
        },
        {
          "name": "stderr",
          "output_type": "stream",
          "text": [
            "Epoch 4/20: 100%|██████████| 83/83 [00:08<00:00, 10.07it/s]\n"
          ]
        },
        {
          "name": "stdout",
          "output_type": "stream",
          "text": [
            "Epoch 4: Train Loss: 1.0737, Train Acc: 58.13%\n"
          ]
        },
        {
          "name": "stderr",
          "output_type": "stream",
          "text": [
            "Epoch 5/20: 100%|██████████| 83/83 [00:06<00:00, 12.31it/s]\n"
          ]
        },
        {
          "name": "stdout",
          "output_type": "stream",
          "text": [
            "Epoch 5: Train Loss: 1.0558, Train Acc: 57.48%\n"
          ]
        },
        {
          "name": "stderr",
          "output_type": "stream",
          "text": [
            "Epoch 6/20: 100%|██████████| 83/83 [00:08<00:00,  9.84it/s]\n"
          ]
        },
        {
          "name": "stdout",
          "output_type": "stream",
          "text": [
            "Epoch 6: Train Loss: 1.0424, Train Acc: 57.84%\n"
          ]
        },
        {
          "name": "stderr",
          "output_type": "stream",
          "text": [
            "Epoch 7/20: 100%|██████████| 83/83 [00:06<00:00, 11.88it/s]\n"
          ]
        },
        {
          "name": "stdout",
          "output_type": "stream",
          "text": [
            "Epoch 7: Train Loss: 1.0317, Train Acc: 58.26%\n"
          ]
        },
        {
          "name": "stderr",
          "output_type": "stream",
          "text": [
            "Epoch 8/20: 100%|██████████| 83/83 [00:09<00:00,  8.54it/s]\n"
          ]
        },
        {
          "name": "stdout",
          "output_type": "stream",
          "text": [
            "Epoch 8: Train Loss: 1.0202, Train Acc: 59.04%\n"
          ]
        },
        {
          "name": "stderr",
          "output_type": "stream",
          "text": [
            "Epoch 9/20: 100%|██████████| 83/83 [00:08<00:00,  9.87it/s]\n"
          ]
        },
        {
          "name": "stdout",
          "output_type": "stream",
          "text": [
            "Epoch 9: Train Loss: 1.0124, Train Acc: 58.30%\n"
          ]
        },
        {
          "name": "stderr",
          "output_type": "stream",
          "text": [
            "Epoch 10/20: 100%|██████████| 83/83 [00:06<00:00, 12.36it/s]\n"
          ]
        },
        {
          "name": "stdout",
          "output_type": "stream",
          "text": [
            "Epoch 10: Train Loss: 1.0022, Train Acc: 60.43%\n"
          ]
        },
        {
          "name": "stderr",
          "output_type": "stream",
          "text": [
            "Epoch 11/20: 100%|██████████| 83/83 [00:08<00:00,  9.90it/s]\n"
          ]
        },
        {
          "name": "stdout",
          "output_type": "stream",
          "text": [
            "Epoch 11: Train Loss: 0.9909, Train Acc: 60.30%\n"
          ]
        },
        {
          "name": "stderr",
          "output_type": "stream",
          "text": [
            "Epoch 12/20: 100%|██████████| 83/83 [00:07<00:00, 11.11it/s]\n"
          ]
        },
        {
          "name": "stdout",
          "output_type": "stream",
          "text": [
            "Epoch 12: Train Loss: 0.9720, Train Acc: 61.86%\n"
          ]
        },
        {
          "name": "stderr",
          "output_type": "stream",
          "text": [
            "Epoch 13/20: 100%|██████████| 83/83 [00:08<00:00,  9.93it/s]\n"
          ]
        },
        {
          "name": "stdout",
          "output_type": "stream",
          "text": [
            "Epoch 13: Train Loss: 0.9931, Train Acc: 60.51%\n"
          ]
        },
        {
          "name": "stderr",
          "output_type": "stream",
          "text": [
            "Epoch 14/20: 100%|██████████| 83/83 [00:06<00:00, 12.45it/s]\n"
          ]
        },
        {
          "name": "stdout",
          "output_type": "stream",
          "text": [
            "Epoch 14: Train Loss: 0.9775, Train Acc: 60.89%\n"
          ]
        },
        {
          "name": "stderr",
          "output_type": "stream",
          "text": [
            "Epoch 15/20: 100%|██████████| 83/83 [00:08<00:00, 10.18it/s]\n"
          ]
        },
        {
          "name": "stdout",
          "output_type": "stream",
          "text": [
            "Epoch 15: Train Loss: 0.9500, Train Acc: 62.51%\n"
          ]
        },
        {
          "name": "stderr",
          "output_type": "stream",
          "text": [
            "Epoch 16/20: 100%|██████████| 83/83 [00:07<00:00, 10.42it/s]\n"
          ]
        },
        {
          "name": "stdout",
          "output_type": "stream",
          "text": [
            "Epoch 16: Train Loss: 0.9532, Train Acc: 62.24%\n"
          ]
        },
        {
          "name": "stderr",
          "output_type": "stream",
          "text": [
            "Epoch 17/20: 100%|██████████| 83/83 [00:08<00:00, 10.10it/s]\n"
          ]
        },
        {
          "name": "stdout",
          "output_type": "stream",
          "text": [
            "Epoch 17: Train Loss: 0.9484, Train Acc: 61.86%\n"
          ]
        },
        {
          "name": "stderr",
          "output_type": "stream",
          "text": [
            "Epoch 18/20: 100%|██████████| 83/83 [00:08<00:00, 10.23it/s]\n"
          ]
        },
        {
          "name": "stdout",
          "output_type": "stream",
          "text": [
            "Epoch 18: Train Loss: 0.9497, Train Acc: 61.65%\n"
          ]
        },
        {
          "name": "stderr",
          "output_type": "stream",
          "text": [
            "Epoch 19/20: 100%|██████████| 83/83 [00:07<00:00, 11.84it/s]\n"
          ]
        },
        {
          "name": "stdout",
          "output_type": "stream",
          "text": [
            "Epoch 19: Train Loss: 0.9674, Train Acc: 61.35%\n"
          ]
        },
        {
          "name": "stderr",
          "output_type": "stream",
          "text": [
            "Epoch 20/20: 100%|██████████| 83/83 [00:09<00:00,  8.82it/s]\n"
          ]
        },
        {
          "name": "stdout",
          "output_type": "stream",
          "text": [
            "Epoch 20: Train Loss: 0.9566, Train Acc: 61.75%\n",
            "Evaluating model...\n"
          ]
        },
        {
          "name": "stderr",
          "output_type": "stream",
          "text": [
            "Evaluating: 100%|██████████| 15/15 [00:00<00:00, 18.93it/s]\n"
          ]
        },
        {
          "name": "stdout",
          "output_type": "stream",
          "text": [
            "Final Validation Accuracy: 0.6451\n",
            "              precision    recall  f1-score   support\n",
            "\n",
            "           0       0.72      0.89      0.80       544\n",
            "           1       0.00      0.00      0.00        84\n",
            "           2       0.45      0.44      0.44       264\n",
            "           3       0.00      0.00      0.00        35\n",
            "\n",
            "    accuracy                           0.65       927\n",
            "   macro avg       0.29      0.33      0.31       927\n",
            "weighted avg       0.55      0.65      0.59       927\n",
            "\n",
            "Final Validation F1 Score: 0.5940\n"
          ]
        },
        {
          "data": {
            "image/png": "[encoded data removed]",
            "text/plain": [
              "<Figure size 640x480 with 2 Axes>"
            ]
          },
          "metadata": {},
          "output_type": "display_data"
        },
        {
          "name": "stdout",
          "output_type": "stream",
          "text": [
            "Validation Accuracy of VorgabeLSTM with all: 0.6451\n",
            "\n",
            "Testing VorgabeGRU with all\n",
            "Training GRU...\n"
          ]
        },
        {
          "name": "stderr",
          "output_type": "stream",
          "text": [
            "Epoch 1/20: 100%|██████████| 83/83 [00:07<00:00, 11.58it/s]\n"
          ]
        },
        {
          "name": "stdout",
          "output_type": "stream",
          "text": [
            "Epoch 1: Train Loss: 1.6497, Train Acc: 45.32%\n"
          ]
        },
        {
          "name": "stderr",
          "output_type": "stream",
          "text": [
            "Epoch 2/20: 100%|██████████| 83/83 [00:08<00:00,  9.87it/s]\n"
          ]
        },
        {
          "name": "stdout",
          "output_type": "stream",
          "text": [
            "Epoch 2: Train Loss: 1.2719, Train Acc: 49.52%\n"
          ]
        },
        {
          "name": "stderr",
          "output_type": "stream",
          "text": [
            "Epoch 3/20: 100%|██████████| 83/83 [00:06<00:00, 12.16it/s]\n"
          ]
        },
        {
          "name": "stdout",
          "output_type": "stream",
          "text": [
            "Epoch 3: Train Loss: 1.2559, Train Acc: 49.26%\n"
          ]
        },
        {
          "name": "stderr",
          "output_type": "stream",
          "text": [
            "Epoch 4/20: 100%|██████████| 83/83 [00:09<00:00,  9.02it/s]\n"
          ]
        },
        {
          "name": "stdout",
          "output_type": "stream",
          "text": [
            "Epoch 4: Train Loss: 1.2363, Train Acc: 48.46%\n"
          ]
        },
        {
          "name": "stderr",
          "output_type": "stream",
          "text": [
            "Epoch 5/20: 100%|██████████| 83/83 [00:08<00:00,  9.67it/s]\n"
          ]
        },
        {
          "name": "stdout",
          "output_type": "stream",
          "text": [
            "Epoch 5: Train Loss: 1.1222, Train Acc: 54.00%\n"
          ]
        },
        {
          "name": "stderr",
          "output_type": "stream",
          "text": [
            "Epoch 6/20: 100%|██████████| 83/83 [00:06<00:00, 12.18it/s]\n"
          ]
        },
        {
          "name": "stdout",
          "output_type": "stream",
          "text": [
            "Epoch 6: Train Loss: 1.0866, Train Acc: 57.43%\n"
          ]
        },
        {
          "name": "stderr",
          "output_type": "stream",
          "text": [
            "Epoch 7/20: 100%|██████████| 83/83 [00:08<00:00,  9.90it/s]\n"
          ]
        },
        {
          "name": "stdout",
          "output_type": "stream",
          "text": [
            "Epoch 7: Train Loss: 1.0857, Train Acc: 56.84%\n"
          ]
        },
        {
          "name": "stderr",
          "output_type": "stream",
          "text": [
            "Epoch 8/20: 100%|██████████| 83/83 [00:07<00:00, 11.25it/s]\n"
          ]
        },
        {
          "name": "stdout",
          "output_type": "stream",
          "text": [
            "Epoch 8: Train Loss: 1.0423, Train Acc: 58.42%\n"
          ]
        },
        {
          "name": "stderr",
          "output_type": "stream",
          "text": [
            "Epoch 9/20: 100%|██████████| 83/83 [00:08<00:00, 10.15it/s]\n"
          ]
        },
        {
          "name": "stdout",
          "output_type": "stream",
          "text": [
            "Epoch 9: Train Loss: 1.0141, Train Acc: 60.53%\n"
          ]
        },
        {
          "name": "stderr",
          "output_type": "stream",
          "text": [
            "Epoch 10/20: 100%|██████████| 83/83 [00:06<00:00, 12.35it/s]\n"
          ]
        },
        {
          "name": "stdout",
          "output_type": "stream",
          "text": [
            "Epoch 10: Train Loss: 0.9969, Train Acc: 60.59%\n"
          ]
        },
        {
          "name": "stderr",
          "output_type": "stream",
          "text": [
            "Epoch 11/20: 100%|██████████| 83/83 [00:08<00:00, 10.02it/s]\n"
          ]
        },
        {
          "name": "stdout",
          "output_type": "stream",
          "text": [
            "Epoch 11: Train Loss: 1.0045, Train Acc: 60.57%\n"
          ]
        },
        {
          "name": "stderr",
          "output_type": "stream",
          "text": [
            "Epoch 12/20: 100%|██████████| 83/83 [00:06<00:00, 12.68it/s]\n"
          ]
        },
        {
          "name": "stdout",
          "output_type": "stream",
          "text": [
            "Epoch 12: Train Loss: 0.9768, Train Acc: 61.69%\n"
          ]
        },
        {
          "name": "stderr",
          "output_type": "stream",
          "text": [
            "Epoch 13/20: 100%|██████████| 83/83 [00:08<00:00, 10.13it/s]\n"
          ]
        },
        {
          "name": "stdout",
          "output_type": "stream",
          "text": [
            "Epoch 13: Train Loss: 0.9634, Train Acc: 62.68%\n"
          ]
        },
        {
          "name": "stderr",
          "output_type": "stream",
          "text": [
            "Epoch 14/20: 100%|██████████| 83/83 [00:06<00:00, 12.34it/s]\n"
          ]
        },
        {
          "name": "stdout",
          "output_type": "stream",
          "text": [
            "Epoch 14: Train Loss: 0.9643, Train Acc: 62.03%\n"
          ]
        },
        {
          "name": "stderr",
          "output_type": "stream",
          "text": [
            "Epoch 15/20: 100%|██████████| 83/83 [00:08<00:00, 10.21it/s]\n"
          ]
        },
        {
          "name": "stdout",
          "output_type": "stream",
          "text": [
            "Epoch 15: Train Loss: 0.9524, Train Acc: 62.89%\n"
          ]
        },
        {
          "name": "stderr",
          "output_type": "stream",
          "text": [
            "Epoch 16/20: 100%|██████████| 83/83 [00:07<00:00, 11.57it/s]\n"
          ]
        },
        {
          "name": "stdout",
          "output_type": "stream",
          "text": [
            "Epoch 16: Train Loss: 0.9310, Train Acc: 62.20%\n"
          ]
        },
        {
          "name": "stderr",
          "output_type": "stream",
          "text": [
            "Epoch 17/20: 100%|██████████| 83/83 [00:07<00:00, 10.97it/s]\n"
          ]
        },
        {
          "name": "stdout",
          "output_type": "stream",
          "text": [
            "Epoch 17: Train Loss: 0.9341, Train Acc: 63.16%\n"
          ]
        },
        {
          "name": "stderr",
          "output_type": "stream",
          "text": [
            "Epoch 18/20: 100%|██████████| 83/83 [00:07<00:00, 11.11it/s]\n"
          ]
        },
        {
          "name": "stdout",
          "output_type": "stream",
          "text": [
            "Epoch 18: Train Loss: 0.9353, Train Acc: 63.86%\n"
          ]
        },
        {
          "name": "stderr",
          "output_type": "stream",
          "text": [
            "Epoch 19/20: 100%|██████████| 83/83 [00:07<00:00, 11.64it/s]\n"
          ]
        },
        {
          "name": "stdout",
          "output_type": "stream",
          "text": [
            "Epoch 19: Train Loss: 0.9302, Train Acc: 63.10%\n"
          ]
        },
        {
          "name": "stderr",
          "output_type": "stream",
          "text": [
            "Epoch 20/20: 100%|██████████| 83/83 [00:08<00:00, 10.20it/s]\n"
          ]
        },
        {
          "name": "stdout",
          "output_type": "stream",
          "text": [
            "Epoch 20: Train Loss: 0.9098, Train Acc: 63.37%\n",
            "Evaluating model...\n"
          ]
        },
        {
          "name": "stderr",
          "output_type": "stream",
          "text": [
            "Evaluating: 100%|██████████| 15/15 [00:00<00:00, 16.84it/s]\n"
          ]
        },
        {
          "name": "stdout",
          "output_type": "stream",
          "text": [
            "Final Validation Accuracy: 0.5933\n",
            "              precision    recall  f1-score   support\n",
            "\n",
            "           0       0.78      0.69      0.73       544\n",
            "           1       0.24      0.18      0.21        84\n",
            "           2       0.42      0.61      0.49       264\n",
            "           3       0.00      0.00      0.00        35\n",
            "\n",
            "    accuracy                           0.59       927\n",
            "   macro avg       0.36      0.37      0.36       927\n",
            "weighted avg       0.60      0.59      0.59       927\n",
            "\n",
            "Final Validation F1 Score: 0.5893\n"
          ]
        },
        {
          "data": {
            "image/png": "[encoded data removed]",
            "text/plain": [
              "<Figure size 640x480 with 2 Axes>"
            ]
          },
          "metadata": {},
          "output_type": "display_data"
        },
        {
          "name": "stdout",
          "output_type": "stream",
          "text": [
            "Validation Accuracy of VorgabeGRU with all: 0.5933\n",
            "\n",
            "Testing VorgabeRNN with all\n",
            "Training RNN...\n"
          ]
        },
        {
          "name": "stderr",
          "output_type": "stream",
          "text": [
            "Epoch 1/20: 100%|██████████| 83/83 [00:06<00:00, 12.87it/s]\n"
          ]
        },
        {
          "name": "stdout",
          "output_type": "stream",
          "text": [
            "Epoch 1: Train Loss: 1.9667, Train Acc: 45.87%\n"
          ]
        },
        {
          "name": "stderr",
          "output_type": "stream",
          "text": [
            "Epoch 2/20: 100%|██████████| 83/83 [00:08<00:00, 10.09it/s]\n"
          ]
        },
        {
          "name": "stdout",
          "output_type": "stream",
          "text": [
            "Epoch 2: Train Loss: 1.2175, Train Acc: 54.42%\n"
          ]
        },
        {
          "name": "stderr",
          "output_type": "stream",
          "text": [
            "Epoch 3/20: 100%|██████████| 83/83 [00:06<00:00, 13.08it/s]\n"
          ]
        },
        {
          "name": "stdout",
          "output_type": "stream",
          "text": [
            "Epoch 3: Train Loss: 1.1259, Train Acc: 57.86%\n"
          ]
        },
        {
          "name": "stderr",
          "output_type": "stream",
          "text": [
            "Epoch 4/20: 100%|██████████| 83/83 [00:08<00:00, 10.03it/s]\n"
          ]
        },
        {
          "name": "stdout",
          "output_type": "stream",
          "text": [
            "Epoch 4: Train Loss: 1.1113, Train Acc: 58.89%\n"
          ]
        },
        {
          "name": "stderr",
          "output_type": "stream",
          "text": [
            "Epoch 5/20: 100%|██████████| 83/83 [00:06<00:00, 12.63it/s]\n"
          ]
        },
        {
          "name": "stdout",
          "output_type": "stream",
          "text": [
            "Epoch 5: Train Loss: 1.1049, Train Acc: 58.89%\n"
          ]
        },
        {
          "name": "stderr",
          "output_type": "stream",
          "text": [
            "Epoch 6/20: 100%|██████████| 83/83 [00:08<00:00, 10.26it/s]\n"
          ]
        },
        {
          "name": "stdout",
          "output_type": "stream",
          "text": [
            "Epoch 6: Train Loss: 1.1019, Train Acc: 58.91%\n"
          ]
        },
        {
          "name": "stderr",
          "output_type": "stream",
          "text": [
            "Epoch 7/20: 100%|██████████| 83/83 [00:06<00:00, 12.54it/s]\n"
          ]
        },
        {
          "name": "stdout",
          "output_type": "stream",
          "text": [
            "Epoch 7: Train Loss: 1.1048, Train Acc: 58.85%\n"
          ]
        },
        {
          "name": "stderr",
          "output_type": "stream",
          "text": [
            "Epoch 8/20: 100%|██████████| 83/83 [00:08<00:00, 10.19it/s]\n"
          ]
        },
        {
          "name": "stdout",
          "output_type": "stream",
          "text": [
            "Epoch 8: Train Loss: 1.1033, Train Acc: 58.85%\n"
          ]
        },
        {
          "name": "stderr",
          "output_type": "stream",
          "text": [
            "Epoch 9/20: 100%|██████████| 83/83 [00:06<00:00, 12.82it/s]\n"
          ]
        },
        {
          "name": "stdout",
          "output_type": "stream",
          "text": [
            "Epoch 9: Train Loss: 1.1126, Train Acc: 58.83%\n"
          ]
        },
        {
          "name": "stderr",
          "output_type": "stream",
          "text": [
            "Epoch 10/20: 100%|██████████| 83/83 [00:08<00:00, 10.01it/s]\n"
          ]
        },
        {
          "name": "stdout",
          "output_type": "stream",
          "text": [
            "Epoch 10: Train Loss: 1.1049, Train Acc: 58.87%\n"
          ]
        },
        {
          "name": "stderr",
          "output_type": "stream",
          "text": [
            "Epoch 11/20: 100%|██████████| 83/83 [00:06<00:00, 12.47it/s]\n"
          ]
        },
        {
          "name": "stdout",
          "output_type": "stream",
          "text": [
            "Epoch 11: Train Loss: 1.0961, Train Acc: 58.83%\n"
          ]
        },
        {
          "name": "stderr",
          "output_type": "stream",
          "text": [
            "Epoch 12/20: 100%|██████████| 83/83 [00:08<00:00, 10.02it/s]\n"
          ]
        },
        {
          "name": "stdout",
          "output_type": "stream",
          "text": [
            "Epoch 12: Train Loss: 1.1080, Train Acc: 58.93%\n"
          ]
        },
        {
          "name": "stderr",
          "output_type": "stream",
          "text": [
            "Epoch 13/20: 100%|██████████| 83/83 [00:06<00:00, 12.67it/s]\n"
          ]
        },
        {
          "name": "stdout",
          "output_type": "stream",
          "text": [
            "Epoch 13: Train Loss: 1.1072, Train Acc: 58.93%\n"
          ]
        },
        {
          "name": "stderr",
          "output_type": "stream",
          "text": [
            "Epoch 14/20: 100%|██████████| 83/83 [00:08<00:00, 10.03it/s]\n"
          ]
        },
        {
          "name": "stdout",
          "output_type": "stream",
          "text": [
            "Epoch 14: Train Loss: 1.1016, Train Acc: 58.83%\n"
          ]
        },
        {
          "name": "stderr",
          "output_type": "stream",
          "text": [
            "Epoch 15/20: 100%|██████████| 83/83 [00:06<00:00, 12.40it/s]\n"
          ]
        },
        {
          "name": "stdout",
          "output_type": "stream",
          "text": [
            "Epoch 15: Train Loss: 1.1012, Train Acc: 58.82%\n"
          ]
        },
        {
          "name": "stderr",
          "output_type": "stream",
          "text": [
            "Epoch 16/20: 100%|██████████| 83/83 [00:07<00:00, 10.55it/s]\n"
          ]
        },
        {
          "name": "stdout",
          "output_type": "stream",
          "text": [
            "Epoch 16: Train Loss: 1.0930, Train Acc: 58.89%\n"
          ]
        },
        {
          "name": "stderr",
          "output_type": "stream",
          "text": [
            "Epoch 17/20: 100%|██████████| 83/83 [00:07<00:00, 11.81it/s]\n"
          ]
        },
        {
          "name": "stdout",
          "output_type": "stream",
          "text": [
            "Epoch 17: Train Loss: 1.0963, Train Acc: 58.80%\n"
          ]
        },
        {
          "name": "stderr",
          "output_type": "stream",
          "text": [
            "Epoch 18/20: 100%|██████████| 83/83 [00:07<00:00, 10.94it/s]\n"
          ]
        },
        {
          "name": "stdout",
          "output_type": "stream",
          "text": [
            "Epoch 18: Train Loss: 1.0923, Train Acc: 58.82%\n"
          ]
        },
        {
          "name": "stderr",
          "output_type": "stream",
          "text": [
            "Epoch 19/20: 100%|██████████| 83/83 [00:07<00:00, 11.42it/s]\n"
          ]
        },
        {
          "name": "stdout",
          "output_type": "stream",
          "text": [
            "Epoch 19: Train Loss: 1.0977, Train Acc: 58.91%\n"
          ]
        },
        {
          "name": "stderr",
          "output_type": "stream",
          "text": [
            "Epoch 20/20: 100%|██████████| 83/83 [00:07<00:00, 11.43it/s]\n"
          ]
        },
        {
          "name": "stdout",
          "output_type": "stream",
          "text": [
            "Epoch 20: Train Loss: 1.0954, Train Acc: 58.83%\n",
            "Evaluating model...\n"
          ]
        },
        {
          "name": "stderr",
          "output_type": "stream",
          "text": [
            "Evaluating: 100%|██████████| 15/15 [00:00<00:00, 20.03it/s]\n"
          ]
        },
        {
          "name": "stdout",
          "output_type": "stream",
          "text": [
            "Final Validation Accuracy: 0.5804\n",
            "              precision    recall  f1-score   support\n",
            "\n",
            "           0       0.59      0.99      0.73       544\n",
            "           1       0.00      0.00      0.00        84\n",
            "           2       0.00      0.00      0.00       264\n",
            "           3       0.17      0.06      0.09        35\n",
            "\n",
            "    accuracy                           0.58       927\n",
            "   macro avg       0.19      0.26      0.20       927\n",
            "weighted avg       0.35      0.58      0.43       927\n",
            "\n",
            "Final Validation F1 Score: 0.4344\n"
          ]
        },
        {
          "data": {
            "image/png": "[encoded data removed]",
            "text/plain": [
              "<Figure size 640x480 with 2 Axes>"
            ]
          },
          "metadata": {},
          "output_type": "display_data"
        },
        {
          "name": "stdout",
          "output_type": "stream",
          "text": [
            "Validation Accuracy of VorgabeRNN with all: 0.5804\n",
            "\n",
            "All tests completed.\n",
            "Best Model: VorgabeLSTM, Augmentation: all, Accuracy: 0.6451\n"
          ]
        }
      ],
      "source": [
        "test_space = {\n",
        "    \"model\": [RNNwithSVM,VorgabeLSTM, VorgabeGRU, VorgabeRNN ],\n",
        "    \"augmentation\": [\"all\"],\n",
        "}\n",
        "\n",
        "results = []\n",
        "print(\"Starting tests with different configurations...\")\n",
        "\n",
        "for aug in test_space[\"augmentation\"]:\n",
        "    train_set = ECGDataset(train_df, augmentation=aug)\n",
        "    val_set = ECGDataset(val_df)\n",
        "    train_loader = DataLoader(train_set, batch_size=BATCH_SIZE, shuffle=True, generator=torch.Generator().manual_seed(42), num_workers=NUM_WORKERS, collate_fn=collate_fn)\n",
        "    val_loader = DataLoader(val_set, batch_size=BATCH_SIZE, shuffle=False, num_workers=NUM_WORKERS, collate_fn=collate_fn)\n",
        "\n",
        "    for model_cls in test_space[\"model\"]:\n",
        "        print(f\"Testing {model_cls.__name__} with {aug}\")\n",
        "        model = model_cls(\n",
        "            hidden_size=HIDDEN_SIZE,\n",
        "            num_layers=2,\n",
        "            num_classes=NUM_CLASSES,\n",
        "            n_fft=N_FFT,\n",
        "            hop_length=HOP_LENGTH,\n",
        "            dropout_rate=0.2,\n",
        "        )\n",
        "        device = \"cuda\" if torch.cuda.is_available() else \"mps\"\n",
        "        model = model.to(device)\n",
        "        trained = train_model(model, train_loader, epochs=EPOCHS, lr=0.001, batch_size_factor=4)\n",
        "        acc = evaluate_model(trained, val_loader, device)\n",
        "\n",
        "        print(f\"Validation Accuracy of {model_cls.__name__} with {aug}: {acc:.4f}\\n\")\n",
        "        results.append({\"model\": model_cls.__name__, \"augmentation\": aug, \"accuracy\": acc})\n",
        "        del trained\n",
        "        torch.cuda.empty_cache()\n",
        "\n",
        "    del train_set, val_set, train_loader, val_loader\n",
        "\n",
        "print(\"All tests completed.\")\n",
        "best = max(results, key=lambda x: x[\"accuracy\"])\n",
        "print(f\"Best Model: {best['model']}, Augmentation: {best['augmentation']}, Accuracy: {best['accuracy']:.4f}\")"
      ]
    }
  ],
  "metadata": {
    "accelerator": "GPU",
    "colab": {
      "gpuType": "T4",
      "provenance": []
    },
    "kernelspec": {
      "display_name": "Python 3",
      "name": "python3"
    },
    "language_info": {
      "codemirror_mode": {
        "name": "ipython",
        "version": 3
      },
      "file_extension": ".py",
      "mimetype": "text/x-python",
      "name": "python",
      "nbconvert_exporter": "python",
      "pygments_lexer": "ipython3",
      "version": "3.13.1"
    }
  },
  "nbformat": 4,
  "nbformat_minor": 5
}
