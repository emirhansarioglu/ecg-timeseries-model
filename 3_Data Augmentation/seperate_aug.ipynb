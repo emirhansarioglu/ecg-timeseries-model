{
 "cells": [
  {
   "cell_type": "markdown",
   "id": "b13483a9",
   "metadata": {},
   "source": [
    "# Data"
   ]
  },
  {
   "cell_type": "code",
   "execution_count": 1,
   "id": "85ee30e4",
   "metadata": {},
   "outputs": [
    {
     "name": "stdout",
     "output_type": "stream",
     "text": [
      "Train DataFrame shape: (5252, 4)\n",
      "Validation DataFrame shape: (927, 4)\n"
     ]
    }
   ],
   "source": [
    "from pathlib import Path\n",
    "import pandas as pd\n",
    "FILE_DIR = Path().resolve().parent\n",
    "DATA_DIR = FILE_DIR / \"2_models\"\n",
    "\n",
    "\n",
    "train_df = pd.read_pickle(f\"{DATA_DIR}/train_df.pkl\")\n",
    "val_df = pd.read_pickle(f\"{DATA_DIR}/val_df.pkl\")\n",
    "\n",
    "print(f\"Train DataFrame shape: {train_df.shape}\")\n",
    "print(f\"Validation DataFrame shape: {val_df.shape}\")"
   ]
  },
  {
   "cell_type": "code",
   "execution_count": 2,
   "id": "6c3f27c3",
   "metadata": {},
   "outputs": [],
   "source": [
    "import random\n",
    "import numpy as np\n",
    "import torch\n",
    "import torch.nn as nn\n",
    "def set_seed(seed=42):\n",
    "    random.seed(seed)\n",
    "    np.random.seed(seed)\n",
    "    torch.manual_seed(seed)\n",
    "    torch.cuda.manual_seed_all(seed)\n",
    "    torch.backends.cudnn.deterministic = True\n",
    "    torch.backends.cudnn.benchmark = False\n",
    "set_seed(42)"
   ]
  },
  {
   "cell_type": "code",
   "execution_count": 3,
   "id": "acb16634",
   "metadata": {},
   "outputs": [],
   "source": [
    "def compute_stft_batch(x, n_fft=256, hop_length=128):\n",
    "    stft = torch.stft(\n",
    "        x, n_fft=n_fft, hop_length=hop_length,\n",
    "        return_complex=True\n",
    "    )\n",
    "    return torch.abs(stft)  \n"
   ]
  },
  {
   "cell_type": "code",
   "execution_count": 4,
   "id": "ba18c734",
   "metadata": {},
   "outputs": [],
   "source": [
    "\n",
    "from torch.utils.data import DataLoader\n",
    "set_seed(42)\n",
    "\n",
    "# STDFT function to compute the Short-Time Fourier Transform (STFT) for a batch of signals\n",
    "# It convert into time -frequency representation\n",
    "# n_fft: size of the FFT window(300 hz is the sampling rate, so 256 is a good choice to capture more than 1 heart beat)\n",
    "# hop_length: number of samples between successive frames (128 is a good choice since every window will overlap by 50%)\n",
    "\n",
    "# 2. Model\n",
    "class ECGModel(nn.Module):\n",
    "    def __init__(self,hidden_size=128, dropout_rate=0.0):\n",
    "        super(ECGModel, self).__init__()\n",
    "        self.hidden_size = hidden_size\n",
    "        self.dropout_rate = dropout_rate\n",
    "\n",
    "        self.conv1 = nn.Sequential(\n",
    "            nn.Conv2d(1, 16, kernel_size=3, padding=1),\n",
    "            nn.ReLU(),\n",
    "            nn.MaxPool2d(kernel_size=(2, 2))\n",
    "        )\n",
    "\n",
    "        self.conv2 = nn.Sequential(\n",
    "            nn.Conv2d(16, 32, kernel_size=3, padding=1),\n",
    "            nn.ReLU(),\n",
    "            nn.MaxPool2d(kernel_size=(2, 2))\n",
    "        )\n",
    "\n",
    "        # RNN\n",
    "        self.rnn = nn.GRU(\n",
    "            input_size=32 * 32, # out_channels * frequency_bins // 2 // 2 (due to max pooling) ()\n",
    "            hidden_size= hidden_size,\n",
    "            batch_first=True\n",
    "        )\n",
    "\n",
    "        # Fully connected\n",
    "        self.dropout = nn.Dropout(dropout_rate)\n",
    "        self.fc = nn.Linear(hidden_size, 4)  # 4 classes: Normal, AF, Other, Noisy\n",
    "\n",
    "    def forward(self, x:torch.Tensor)-> torch.Tensor:\n",
    "        # x: (batch_size, signal_length)\n",
    "        #print(\"Input:\", x.shape)\n",
    "        x = compute_stft_batch(x)  # STFT → (batch, freq, time)\n",
    "        #print(\"After STFT:\", x.shape)\n",
    "        x = torch.log1p(x)  # logarithmic scaling\n",
    "        #print(\"After log1p:\", x.shape)\n",
    "        \n",
    "\n",
    "        x = x.unsqueeze(1)  # CNN input shape: (batch, channel, freq, time)\n",
    "        #print(\"After Unsqueeze:\", x.shape)\n",
    "\n",
    "        x = self.conv1(x)\n",
    "        x = self.conv2(x)\n",
    "        #print(\"After conv2:\", x.shape)\n",
    "\n",
    "        # Flatten the output for RNN input\n",
    "        b, c, f, t = x.shape  # batch, channel, freq, time\n",
    "        x = x.view(b, c * f, t)  # (batch, features, time)\n",
    "        #print(\"After view:\", x.shape)\n",
    "        x = x.permute(0, 2, 1)   # (batch, time, features)\n",
    "        #print(\"After permute:\", x.shape)\n",
    "\n",
    "        # RNN\n",
    "        output, h_n = self.rnn(x)\n",
    "        #print(\"After RNN output:\", output.shape)\n",
    "        x = self.dropout(h_n[-1])\n",
    "        x = self.fc(x)  # use the last hidden state for classification\n",
    "        #print(\"Final output:\", x.shape)\n",
    "        return x\n"
   ]
  },
  {
   "cell_type": "code",
   "execution_count": 5,
   "id": "c1523876",
   "metadata": {},
   "outputs": [],
   "source": [
    "set_seed(42)\n",
    "def pad_or_trim(signal, target_length=9000):\n",
    "    current_length = len(signal)\n",
    "\n",
    "    if current_length < target_length:\n",
    "        # Pad with zeros at the end\n",
    "        padding = target_length - current_length\n",
    "        signal = np.pad(signal, (0, padding), 'constant')\n",
    "    elif current_length > target_length:\n",
    "        # Trim from center\n",
    "        start = (current_length - target_length) // 2\n",
    "        signal = signal[start : start + target_length]\n",
    "\n",
    "    return signal\n",
    "\n",
    "def time_shift(signal, shift_max=100):\n",
    "    shift = np.random.randint(-shift_max, shift_max)\n",
    "    return np.roll(signal, shift)\n",
    "\n",
    "\n",
    "def scale_amplitude(signal, scale_range=(0.95, 1.05)):\n",
    "    scale = np.random.uniform(*scale_range)\n",
    "    return signal * scale\n",
    "\n",
    "def add_noise(signal, noise_level=0.001):\n",
    "    noise = np.random.normal(0, noise_level * np.std(signal), size=signal.shape)\n",
    "    return signal + noise"
   ]
  },
  {
   "cell_type": "code",
   "execution_count": 6,
   "id": "67f46c9d",
   "metadata": {},
   "outputs": [],
   "source": [
    "from torch.utils.data import Dataset\n",
    "class ECGDataset(Dataset):\n",
    "    def __init__(self, df, target_length=9000):\n",
    "        self.df = df\n",
    "        self.target_length = target_length\n",
    "\n",
    "    def __len__(self):\n",
    "        return len(self.df)\n",
    "\n",
    "    def __getitem__(self, idx):\n",
    "        row = self.df.iloc[idx]\n",
    "\n",
    "        # Signal processing\n",
    "        # Pad or trim the signal to the target length\n",
    "        signal = pad_or_trim(row['signal'], self.target_length)\n",
    "        signal = torch.tensor(signal, dtype=torch.float32)\n",
    "        label = int(row['label']) \n",
    "\n",
    "        return signal, label"
   ]
  },
  {
   "cell_type": "code",
   "execution_count": 7,
   "id": "331d4494",
   "metadata": {},
   "outputs": [],
   "source": [
    "set_seed(42)\n",
    "from torch.utils.data import DataLoader\n",
    "def train_one_epoch(model:nn.Module, \n",
    "                    dataloader:DataLoader, \n",
    "                    optimizer:torch.optim.Optimizer, \n",
    "                    loss_fn:nn.Module):\n",
    "    \"\"\"\n",
    "    Trains the model for one full epoch.\n",
    "\n",
    "    Args:\n",
    "        model: The neural network model (ECGModel).\n",
    "        dataloader: The training DataLoader providing batches.\n",
    "        optimizer: The optimizer (e.g., Adam).\n",
    "        loss_fn: The loss function (e.g., CrossEntropyLoss).\n",
    "\n",
    "    Returns:\n",
    "        A tuple of (average_loss, accuracy) for the epoch.\n",
    "    \"\"\"\n",
    "    model.train()\n",
    "    total_loss = 0\n",
    "    correct = 0\n",
    "    total = 0\n",
    "\n",
    "    for signals, labels in dataloader:\n",
    "\n",
    "        outputs = model(signals)\n",
    "        loss = loss_fn(outputs, labels)\n",
    "\n",
    "        optimizer.zero_grad()\n",
    "        loss.backward()\n",
    "        optimizer.step()\n",
    "\n",
    "        total_loss += loss.item() * signals.size(0)\n",
    "\n",
    "        preds = outputs.argmax(dim=1)\n",
    "        correct += (preds == labels).sum().item()\n",
    "        total += labels.size(0)\n",
    "\n",
    "    avg_loss = total_loss / total\n",
    "    accuracy = correct / total\n",
    "    return avg_loss, accuracy\n"
   ]
  },
  {
   "cell_type": "code",
   "execution_count": 8,
   "id": "8180f2dd",
   "metadata": {},
   "outputs": [],
   "source": [
    "from sklearn.metrics import f1_score, confusion_matrix, classification_report, precision_score, recall_score,accuracy_score\n",
    "\n",
    "def evaluate_with_metrics(model:nn.Module, dataloader, loss_fn):\n",
    "    model.eval()\n",
    "    all_preds = []\n",
    "    all_labels = []\n",
    "    total_loss = 0\n",
    "\n",
    "    with torch.no_grad():\n",
    "        for signals, labels in dataloader:\n",
    "            outputs = model(signals)\n",
    "            loss = loss_fn(outputs, labels)\n",
    "            total_loss += loss.item()\n",
    "\n",
    "            preds = torch.argmax(outputs, dim=1)\n",
    "            all_preds.extend(preds.numpy())\n",
    "            all_labels.extend(labels.numpy())\n",
    "\n",
    "    avg_loss = total_loss / len(dataloader)\n",
    "    accuracy = accuracy_score(all_labels, all_preds)\n",
    "    f1 = f1_score(all_labels, all_preds, average='macro')\n",
    "    precision = precision_score(all_labels, all_preds, average='macro')\n",
    "    cm = confusion_matrix(all_labels, all_preds, labels=[0, 1, 2, 3])\n",
    "    report = classification_report(\n",
    "    all_labels, all_preds,\n",
    "    labels=[0, 1, 2, 3],\n",
    "    target_names=['Normal', 'AF', 'Other', 'Noisy'],\n",
    "    zero_division=0  # uyarı vermesin\n",
    ")\n",
    "\n",
    "    return avg_loss, accuracy, f1, precision, cm, report\n"
   ]
  },
  {
   "cell_type": "markdown",
   "id": "6aa92ea4",
   "metadata": {},
   "source": [
    "## Augmentation"
   ]
  },
  {
   "cell_type": "code",
   "execution_count": null,
   "id": "ca6b841b",
   "metadata": {},
   "outputs": [],
   "source": [
    "# Aug_dict = {\n",
    "#     \"noise\": add_noise,\n",
    "#     \"shift\": time_shift,\n",
    "#     \"scale\": scale_amplitude\n",
    "# }\n"
   ]
  },
  {
   "cell_type": "code",
   "execution_count": 17,
   "id": "624eded4",
   "metadata": {},
   "outputs": [],
   "source": [
    "Aug_dict = {\n",
    "    \"noise\": add_noise,\n",
    "    \"scale\": scale_amplitude\n",
    "}\n"
   ]
  },
  {
   "cell_type": "code",
   "execution_count": 18,
   "id": "76946b05",
   "metadata": {},
   "outputs": [],
   "source": [
    "def create_augmented_df(train_df, augment_func, augment_name):\n",
    "    augmented_data = []\n",
    "    for i, row in train_df.iterrows():\n",
    "        signal = pad_or_trim(row[\"signal\"])\n",
    "        signal = np.array(signal) \n",
    "        label = row[\"label\"]\n",
    "        rr_std = row[\"rr_std\"]\n",
    "\n",
    "        # Sadece normal sınıfı augment etme!\n",
    "        if label == 0 or label == 1 or label == 3:\n",
    "            continue\n",
    "\n",
    "        aug_signal = augment_func(signal.copy())\n",
    "        aug_signal = pad_or_trim(aug_signal)\n",
    "\n",
    "        augmented_data.append({\n",
    "            \"signal\": aug_signal.tolist(),\n",
    "            \"label\": label,\n",
    "            \"length\": 9000,\n",
    "            \"rr_std\": rr_std,\n",
    "            \"augment_type\": augment_name\n",
    "        })\n",
    "\n",
    "    # Orijinal datayı da ekle\n",
    "    train_df[\"signal\"] = train_df[\"signal\"].apply(pad_or_trim)\n",
    "    train_df[\"length\"] = 9000\n",
    "    train_df[\"augment_type\"] = \"original\"\n",
    "\n",
    "    # Augmented + orijinal veriyi birleştir\n",
    "    full_df = pd.concat([train_df, pd.DataFrame(augmented_data)], ignore_index=True)\n",
    "    return full_df\n"
   ]
  },
  {
   "cell_type": "code",
   "execution_count": 19,
   "id": "eded9b20",
   "metadata": {},
   "outputs": [
    {
     "name": "stdout",
     "output_type": "stream",
     "text": [
      " Full train DataFrame shape: (6753, 5)\n",
      " Validation DataFrame shape: (927, 4)\n",
      "label\n",
      "0    3094\n",
      "1     465\n",
      "2    3002\n",
      "3     192\n",
      "Name: count, dtype: int64\n"
     ]
    }
   ],
   "source": [
    "full_train_df = create_augmented_df(train_df, add_noise, \"noise\")\n",
    "print(\" Full train DataFrame shape:\", full_train_df.shape)\n",
    "print(\" Validation DataFrame shape:\", val_df.shape)\n",
    "print(full_train_df[\"label\"].value_counts().sort_index())"
   ]
  },
  {
   "cell_type": "code",
   "execution_count": 20,
   "id": "3b848d80",
   "metadata": {},
   "outputs": [],
   "source": [
    "from sklearn.utils.class_weight import compute_class_weight\n",
    "def calculate_class_weights(df) -> torch.Tensor:\n",
    "    \"\"\"\n",
    "    Calculate class weights for the given DataFrame.\n",
    "    \n",
    "    Args:\n",
    "        df: DataFrame containing 'label' column with class labels.\n",
    "        \n",
    "    Returns:\n",
    "        A dictionary mapping class labels to their corresponding weights.\n",
    "    \"\"\"\n",
    "    set_seed(42)\n",
    "    # Compute class weights based on the training labels\n",
    "    original_weights = compute_class_weight(\n",
    "        class_weight='balanced',\n",
    "        classes=np.array([0, 1, 2, 3]),\n",
    "        y=df['label'].values\n",
    "    )\n",
    "\n",
    "    scaled_weights = original_weights / original_weights.max()  # normalize to max=1\n",
    "    scaled_weights = 0.5 + (scaled_weights * 0.5)  # shrink range to [0.5, 1.0] for balance\n",
    "    weights_tensor = torch.tensor(scaled_weights, dtype=torch.float32)\n",
    "    return weights_tensor\n",
    "\n",
    "\n"
   ]
  },
  {
   "cell_type": "code",
   "execution_count": 14,
   "id": "d1169870",
   "metadata": {},
   "outputs": [],
   "source": [
    "num_epochs = 15"
   ]
  },
  {
   "cell_type": "code",
   "execution_count": 21,
   "id": "845dc7f8",
   "metadata": {},
   "outputs": [],
   "source": [
    "import copy\n",
    "import pandas as pd\n",
    "\n",
    "results = []\n",
    "\n",
    "def aug_test(train_df,aug_dict):\n",
    "    for aug_name, aug_func in aug_dict.items():\n",
    "        print(f\"\\n--- AUGMENTATION: {aug_name} ---\\n\")\n",
    "\n",
    "        # Augment edilmiş + orijinal seti oluştur\n",
    "        full_train_df = create_augmented_df(train_df, aug_func, aug_name)\n",
    "        \n",
    "        weights_tensor = calculate_class_weights(full_train_df)\n",
    "\n",
    "        # Dataset ve DataLoader\n",
    "        train_dataset = ECGDataset(full_train_df)\n",
    "        val_dataset = ECGDataset(val_df)\n",
    "        train_loader = DataLoader(train_dataset, batch_size=32, shuffle=True, generator=torch.Generator().manual_seed(42))\n",
    "        val_loader = DataLoader(val_dataset, batch_size=32)\n",
    "\n",
    "        # Model ve optimizer\n",
    "        model = ECGModel(hidden_size=256, dropout_rate=0.3)\n",
    "        optimizer = torch.optim.Adam(model.parameters(), lr=0.0005)\n",
    "        loss_fn = nn.CrossEntropyLoss(weight=weights_tensor)\n",
    "\n",
    "        # Training\n",
    "        best_val_f1 = 0\n",
    "        patience = 5\n",
    "        counter = 0\n",
    "        best_model_state = None\n",
    "\n",
    "        for epoch in range(num_epochs):\n",
    "            train_loss, train_acc = train_one_epoch(model, train_loader, optimizer, loss_fn)\n",
    "            val_loss, val_acc, val_f1, val_precision, cm, val_report = evaluate_with_metrics(model, val_loader, loss_fn)\n",
    "\n",
    "            print(f\"Epoch {epoch+1}/{num_epochs}\")\n",
    "            print(f\"Train Loss: {train_loss:.4f} | Train Acc: {train_acc:.4f}\")\n",
    "            print(f\"Val   Loss: {val_loss:.4f} | Val   Acc: {val_acc:.4f}\")\n",
    "            print(f\"Val   F1: {val_f1:.4f} | Val Precision: {val_precision:.4f}\")\n",
    "            print(\"-\" * 40)\n",
    "            if val_f1 > best_val_f1:\n",
    "                best_val_f1 = val_f1\n",
    "                best_model_state = copy.deepcopy(model.state_dict())\n",
    "                counter = 0\n",
    "            else:\n",
    "                counter += 1\n",
    "                print(f\"EarlyStopping Counter: {counter} / {patience}\")\n",
    "                if counter >= patience:\n",
    "                    print(\"Early stopping triggered!\")\n",
    "                    break\n",
    "\n",
    "        # Sonuçları kaydet\n",
    "        results.append({\n",
    "            \"augmentation\": aug_name,\n",
    "            \"best_val_f1\": best_val_f1,\n",
    "            \"best_val_acc\": val_acc,\n",
    "            \"conf_matrix\": cm,\n",
    "            \"val_report\": val_report\n",
    "        })\n",
    "        model.load_state_dict(best_model_state)\n",
    "        val_loss, val_acc, val_f1, val_precision, val_cm, val_report = evaluate_with_metrics(model, val_loader, loss_fn)\n",
    "        print(f\"Validation F1 Score: {val_f1:.4f}\")\n",
    "        print(\"Confusion Matrix:\\n\", val_cm)\n",
    "        print(\"Classification Report:\\n\", val_report)\n",
    "        print(\"vall acc:\", val_acc)\n",
    "\n",
    "\n",
    "    # Sonuç tablosu\n",
    "    results_df = pd.DataFrame(results)\n",
    "    print(\"\\n\\nAUGMENTATION Result:\\n\")\n",
    "    print(results_df[[\"augmentation\", \"best_val_f1\", \"best_val_acc\"]])\n"
   ]
  },
  {
   "cell_type": "markdown",
   "id": "a212b32a",
   "metadata": {},
   "source": [
    "## Augmentation test"
   ]
  },
  {
   "cell_type": "code",
   "execution_count": 22,
   "id": "8552430d",
   "metadata": {},
   "outputs": [
    {
     "name": "stdout",
     "output_type": "stream",
     "text": [
      "\n",
      "--- AUGMENTATION: noise ---\n",
      "\n"
     ]
    },
    {
     "name": "stderr",
     "output_type": "stream",
     "text": [
      "c:\\Users\\emert\\AppData\\Local\\Programs\\Python\\Python311\\Lib\\site-packages\\sklearn\\metrics\\_classification.py:1497: UndefinedMetricWarning: Precision is ill-defined and being set to 0.0 in labels with no predicted samples. Use `zero_division` parameter to control this behavior.\n",
      "  _warn_prf(average, modifier, f\"{metric.capitalize()} is\", len(result))\n"
     ]
    },
    {
     "name": "stdout",
     "output_type": "stream",
     "text": [
      "Epoch 1/15\n",
      "Train Loss: 1.0681 | Train Acc: 0.4746\n",
      "Val   Loss: 1.0484 | Val   Acc: 0.4725\n",
      "Val   F1: 0.2516 | Val Precision: 0.2578\n",
      "----------------------------------------\n"
     ]
    },
    {
     "name": "stderr",
     "output_type": "stream",
     "text": [
      "c:\\Users\\emert\\AppData\\Local\\Programs\\Python\\Python311\\Lib\\site-packages\\sklearn\\metrics\\_classification.py:1497: UndefinedMetricWarning: Precision is ill-defined and being set to 0.0 in labels with no predicted samples. Use `zero_division` parameter to control this behavior.\n",
      "  _warn_prf(average, modifier, f\"{metric.capitalize()} is\", len(result))\n"
     ]
    },
    {
     "name": "stdout",
     "output_type": "stream",
     "text": [
      "Epoch 2/15\n",
      "Train Loss: 0.9900 | Train Acc: 0.5581\n",
      "Val   Loss: 0.9556 | Val   Acc: 0.6192\n",
      "Val   F1: 0.3184 | Val Precision: 0.3519\n",
      "----------------------------------------\n"
     ]
    },
    {
     "name": "stderr",
     "output_type": "stream",
     "text": [
      "c:\\Users\\emert\\AppData\\Local\\Programs\\Python\\Python311\\Lib\\site-packages\\sklearn\\metrics\\_classification.py:1497: UndefinedMetricWarning: Precision is ill-defined and being set to 0.0 in labels with no predicted samples. Use `zero_division` parameter to control this behavior.\n",
      "  _warn_prf(average, modifier, f\"{metric.capitalize()} is\", len(result))\n"
     ]
    },
    {
     "name": "stdout",
     "output_type": "stream",
     "text": [
      "Epoch 3/15\n",
      "Train Loss: 0.9276 | Train Acc: 0.5937\n",
      "Val   Loss: 0.9793 | Val   Acc: 0.5307\n",
      "Val   F1: 0.3558 | Val Precision: 0.4036\n",
      "----------------------------------------\n"
     ]
    },
    {
     "name": "stderr",
     "output_type": "stream",
     "text": [
      "c:\\Users\\emert\\AppData\\Local\\Programs\\Python\\Python311\\Lib\\site-packages\\sklearn\\metrics\\_classification.py:1497: UndefinedMetricWarning: Precision is ill-defined and being set to 0.0 in labels with no predicted samples. Use `zero_division` parameter to control this behavior.\n",
      "  _warn_prf(average, modifier, f\"{metric.capitalize()} is\", len(result))\n"
     ]
    },
    {
     "name": "stdout",
     "output_type": "stream",
     "text": [
      "Epoch 4/15\n",
      "Train Loss: 0.8963 | Train Acc: 0.6141\n",
      "Val   Loss: 0.8666 | Val   Acc: 0.6365\n",
      "Val   F1: 0.3005 | Val Precision: 0.3587\n",
      "----------------------------------------\n",
      "EarlyStopping Counter: 1 / 5\n",
      "Epoch 5/15\n",
      "Train Loss: 0.9092 | Train Acc: 0.6006\n",
      "Val   Loss: 0.8257 | Val   Acc: 0.6419\n",
      "Val   F1: 0.4094 | Val Precision: 0.6162\n",
      "----------------------------------------\n",
      "Epoch 6/15\n",
      "Train Loss: 0.8588 | Train Acc: 0.6276\n",
      "Val   Loss: 1.0133 | Val   Acc: 0.4531\n",
      "Val   F1: 0.2817 | Val Precision: 0.6088\n",
      "----------------------------------------\n",
      "EarlyStopping Counter: 1 / 5\n",
      "Epoch 7/15\n",
      "Train Loss: 0.8375 | Train Acc: 0.6416\n",
      "Val   Loss: 0.7804 | Val   Acc: 0.6688\n",
      "Val   F1: 0.4929 | Val Precision: 0.6581\n",
      "----------------------------------------\n",
      "Epoch 8/15\n",
      "Train Loss: 0.8142 | Train Acc: 0.6504\n",
      "Val   Loss: 0.7780 | Val   Acc: 0.6731\n",
      "Val   F1: 0.4960 | Val Precision: 0.6813\n",
      "----------------------------------------\n",
      "Epoch 9/15\n",
      "Train Loss: 0.8008 | Train Acc: 0.6533\n",
      "Val   Loss: 0.8394 | Val   Acc: 0.6505\n",
      "Val   F1: 0.5710 | Val Precision: 0.5943\n",
      "----------------------------------------\n",
      "Epoch 10/15\n",
      "Train Loss: 0.7838 | Train Acc: 0.6633\n",
      "Val   Loss: 0.8728 | Val   Acc: 0.6613\n",
      "Val   F1: 0.4695 | Val Precision: 0.6325\n",
      "----------------------------------------\n",
      "EarlyStopping Counter: 1 / 5\n",
      "Epoch 11/15\n",
      "Train Loss: 0.7681 | Train Acc: 0.6739\n",
      "Val   Loss: 0.9128 | Val   Acc: 0.6117\n",
      "Val   F1: 0.4856 | Val Precision: 0.6114\n",
      "----------------------------------------\n",
      "EarlyStopping Counter: 2 / 5\n",
      "Epoch 12/15\n",
      "Train Loss: 0.7674 | Train Acc: 0.6690\n",
      "Val   Loss: 0.8096 | Val   Acc: 0.6634\n",
      "Val   F1: 0.5594 | Val Precision: 0.6727\n",
      "----------------------------------------\n",
      "EarlyStopping Counter: 3 / 5\n",
      "Epoch 13/15\n",
      "Train Loss: 0.7395 | Train Acc: 0.6825\n",
      "Val   Loss: 0.7718 | Val   Acc: 0.6947\n",
      "Val   F1: 0.6124 | Val Precision: 0.6887\n",
      "----------------------------------------\n",
      "Epoch 14/15\n",
      "Train Loss: 0.7128 | Train Acc: 0.7016\n",
      "Val   Loss: 0.8236 | Val   Acc: 0.6516\n",
      "Val   F1: 0.5570 | Val Precision: 0.6197\n",
      "----------------------------------------\n",
      "EarlyStopping Counter: 1 / 5\n",
      "Epoch 15/15\n",
      "Train Loss: 0.6919 | Train Acc: 0.7135\n",
      "Val   Loss: 0.8034 | Val   Acc: 0.6764\n",
      "Val   F1: 0.5506 | Val Precision: 0.6310\n",
      "----------------------------------------\n",
      "EarlyStopping Counter: 2 / 5\n",
      "Validation F1 Score: 0.6124\n",
      "Confusion Matrix:\n",
      " [[426   0 113   5]\n",
      " [ 15  23  41   5]\n",
      " [ 84   6 170   4]\n",
      " [  6   0   4  25]]\n",
      "Classification Report:\n",
      "               precision    recall  f1-score   support\n",
      "\n",
      "      Normal       0.80      0.78      0.79       544\n",
      "          AF       0.79      0.27      0.41        84\n",
      "       Other       0.52      0.64      0.57       264\n",
      "       Noisy       0.64      0.71      0.68        35\n",
      "\n",
      "    accuracy                           0.69       927\n",
      "   macro avg       0.69      0.60      0.61       927\n",
      "weighted avg       0.71      0.69      0.69       927\n",
      "\n",
      "vall acc: 0.6947141316073355\n",
      "\n",
      "--- AUGMENTATION: scale ---\n",
      "\n"
     ]
    },
    {
     "name": "stderr",
     "output_type": "stream",
     "text": [
      "c:\\Users\\emert\\AppData\\Local\\Programs\\Python\\Python311\\Lib\\site-packages\\sklearn\\metrics\\_classification.py:1497: UndefinedMetricWarning: Precision is ill-defined and being set to 0.0 in labels with no predicted samples. Use `zero_division` parameter to control this behavior.\n",
      "  _warn_prf(average, modifier, f\"{metric.capitalize()} is\", len(result))\n"
     ]
    },
    {
     "name": "stdout",
     "output_type": "stream",
     "text": [
      "Epoch 1/15\n",
      "Train Loss: 1.0804 | Train Acc: 0.4539\n",
      "Val   Loss: 1.0679 | Val   Acc: 0.3376\n",
      "Val   F1: 0.1680 | Val Precision: 0.2215\n",
      "----------------------------------------\n"
     ]
    },
    {
     "name": "stderr",
     "output_type": "stream",
     "text": [
      "c:\\Users\\emert\\AppData\\Local\\Programs\\Python\\Python311\\Lib\\site-packages\\sklearn\\metrics\\_classification.py:1497: UndefinedMetricWarning: Precision is ill-defined and being set to 0.0 in labels with no predicted samples. Use `zero_division` parameter to control this behavior.\n",
      "  _warn_prf(average, modifier, f\"{metric.capitalize()} is\", len(result))\n"
     ]
    },
    {
     "name": "stdout",
     "output_type": "stream",
     "text": [
      "Epoch 2/15\n",
      "Train Loss: 1.0177 | Train Acc: 0.5088\n",
      "Val   Loss: 0.9731 | Val   Acc: 0.6052\n",
      "Val   F1: 0.3272 | Val Precision: 0.3614\n",
      "----------------------------------------\n"
     ]
    },
    {
     "name": "stderr",
     "output_type": "stream",
     "text": [
      "c:\\Users\\emert\\AppData\\Local\\Programs\\Python\\Python311\\Lib\\site-packages\\sklearn\\metrics\\_classification.py:1497: UndefinedMetricWarning: Precision is ill-defined and being set to 0.0 in labels with no predicted samples. Use `zero_division` parameter to control this behavior.\n",
      "  _warn_prf(average, modifier, f\"{metric.capitalize()} is\", len(result))\n"
     ]
    },
    {
     "name": "stdout",
     "output_type": "stream",
     "text": [
      "Epoch 3/15\n",
      "Train Loss: 0.9756 | Train Acc: 0.5547\n",
      "Val   Loss: 0.9317 | Val   Acc: 0.6106\n",
      "Val   F1: 0.3490 | Val Precision: 0.3610\n",
      "----------------------------------------\n"
     ]
    },
    {
     "name": "stderr",
     "output_type": "stream",
     "text": [
      "c:\\Users\\emert\\AppData\\Local\\Programs\\Python\\Python311\\Lib\\site-packages\\sklearn\\metrics\\_classification.py:1497: UndefinedMetricWarning: Precision is ill-defined and being set to 0.0 in labels with no predicted samples. Use `zero_division` parameter to control this behavior.\n",
      "  _warn_prf(average, modifier, f\"{metric.capitalize()} is\", len(result))\n"
     ]
    },
    {
     "name": "stdout",
     "output_type": "stream",
     "text": [
      "Epoch 4/15\n",
      "Train Loss: 0.9507 | Train Acc: 0.5716\n",
      "Val   Loss: 0.8668 | Val   Acc: 0.6278\n",
      "Val   F1: 0.3201 | Val Precision: 0.3909\n",
      "----------------------------------------\n",
      "EarlyStopping Counter: 1 / 5\n"
     ]
    },
    {
     "name": "stderr",
     "output_type": "stream",
     "text": [
      "c:\\Users\\emert\\AppData\\Local\\Programs\\Python\\Python311\\Lib\\site-packages\\sklearn\\metrics\\_classification.py:1497: UndefinedMetricWarning: Precision is ill-defined and being set to 0.0 in labels with no predicted samples. Use `zero_division` parameter to control this behavior.\n",
      "  _warn_prf(average, modifier, f\"{metric.capitalize()} is\", len(result))\n"
     ]
    },
    {
     "name": "stdout",
     "output_type": "stream",
     "text": [
      "Epoch 5/15\n",
      "Train Loss: 0.9608 | Train Acc: 0.5632\n",
      "Val   Loss: 0.8729 | Val   Acc: 0.6127\n",
      "Val   F1: 0.3492 | Val Precision: 0.3714\n",
      "----------------------------------------\n"
     ]
    },
    {
     "ename": "KeyboardInterrupt",
     "evalue": "",
     "output_type": "error",
     "traceback": [
      "\u001b[1;31m---------------------------------------------------------------------------\u001b[0m",
      "\u001b[1;31mKeyboardInterrupt\u001b[0m                         Traceback (most recent call last)",
      "Cell \u001b[1;32mIn[22], line 1\u001b[0m\n\u001b[1;32m----> 1\u001b[0m \u001b[43maug_test\u001b[49m\u001b[43m(\u001b[49m\u001b[43mtrain_df\u001b[49m\u001b[43m,\u001b[49m\u001b[43m \u001b[49m\u001b[43mAug_dict\u001b[49m\u001b[43m)\u001b[49m\n",
      "Cell \u001b[1;32mIn[21], line 33\u001b[0m, in \u001b[0;36maug_test\u001b[1;34m(train_df, aug_dict)\u001b[0m\n\u001b[0;32m     30\u001b[0m best_model_state \u001b[38;5;241m=\u001b[39m \u001b[38;5;28;01mNone\u001b[39;00m\n\u001b[0;32m     32\u001b[0m \u001b[38;5;28;01mfor\u001b[39;00m epoch \u001b[38;5;129;01min\u001b[39;00m \u001b[38;5;28mrange\u001b[39m(num_epochs):\n\u001b[1;32m---> 33\u001b[0m     train_loss, train_acc \u001b[38;5;241m=\u001b[39m \u001b[43mtrain_one_epoch\u001b[49m\u001b[43m(\u001b[49m\u001b[43mmodel\u001b[49m\u001b[43m,\u001b[49m\u001b[43m \u001b[49m\u001b[43mtrain_loader\u001b[49m\u001b[43m,\u001b[49m\u001b[43m \u001b[49m\u001b[43moptimizer\u001b[49m\u001b[43m,\u001b[49m\u001b[43m \u001b[49m\u001b[43mloss_fn\u001b[49m\u001b[43m)\u001b[49m\n\u001b[0;32m     34\u001b[0m     val_loss, val_acc, val_f1, val_precision, cm, val_report \u001b[38;5;241m=\u001b[39m evaluate_with_metrics(model, val_loader, loss_fn)\n\u001b[0;32m     36\u001b[0m     \u001b[38;5;28mprint\u001b[39m(\u001b[38;5;124mf\u001b[39m\u001b[38;5;124m\"\u001b[39m\u001b[38;5;124mEpoch \u001b[39m\u001b[38;5;132;01m{\u001b[39;00mepoch\u001b[38;5;241m+\u001b[39m\u001b[38;5;241m1\u001b[39m\u001b[38;5;132;01m}\u001b[39;00m\u001b[38;5;124m/\u001b[39m\u001b[38;5;132;01m{\u001b[39;00mnum_epochs\u001b[38;5;132;01m}\u001b[39;00m\u001b[38;5;124m\"\u001b[39m)\n",
      "Cell \u001b[1;32mIn[7], line 30\u001b[0m, in \u001b[0;36mtrain_one_epoch\u001b[1;34m(model, dataloader, optimizer, loss_fn)\u001b[0m\n\u001b[0;32m     27\u001b[0m loss \u001b[38;5;241m=\u001b[39m loss_fn(outputs, labels)\n\u001b[0;32m     29\u001b[0m optimizer\u001b[38;5;241m.\u001b[39mzero_grad()\n\u001b[1;32m---> 30\u001b[0m \u001b[43mloss\u001b[49m\u001b[38;5;241;43m.\u001b[39;49m\u001b[43mbackward\u001b[49m\u001b[43m(\u001b[49m\u001b[43m)\u001b[49m\n\u001b[0;32m     31\u001b[0m optimizer\u001b[38;5;241m.\u001b[39mstep()\n\u001b[0;32m     33\u001b[0m total_loss \u001b[38;5;241m+\u001b[39m\u001b[38;5;241m=\u001b[39m loss\u001b[38;5;241m.\u001b[39mitem() \u001b[38;5;241m*\u001b[39m signals\u001b[38;5;241m.\u001b[39msize(\u001b[38;5;241m0\u001b[39m)\n",
      "File \u001b[1;32mc:\\Users\\emert\\AppData\\Local\\Programs\\Python\\Python311\\Lib\\site-packages\\torch\\_tensor.py:492\u001b[0m, in \u001b[0;36mTensor.backward\u001b[1;34m(self, gradient, retain_graph, create_graph, inputs)\u001b[0m\n\u001b[0;32m    482\u001b[0m \u001b[38;5;28;01mif\u001b[39;00m has_torch_function_unary(\u001b[38;5;28mself\u001b[39m):\n\u001b[0;32m    483\u001b[0m     \u001b[38;5;28;01mreturn\u001b[39;00m handle_torch_function(\n\u001b[0;32m    484\u001b[0m         Tensor\u001b[38;5;241m.\u001b[39mbackward,\n\u001b[0;32m    485\u001b[0m         (\u001b[38;5;28mself\u001b[39m,),\n\u001b[1;32m   (...)\u001b[0m\n\u001b[0;32m    490\u001b[0m         inputs\u001b[38;5;241m=\u001b[39minputs,\n\u001b[0;32m    491\u001b[0m     )\n\u001b[1;32m--> 492\u001b[0m \u001b[43mtorch\u001b[49m\u001b[38;5;241;43m.\u001b[39;49m\u001b[43mautograd\u001b[49m\u001b[38;5;241;43m.\u001b[39;49m\u001b[43mbackward\u001b[49m\u001b[43m(\u001b[49m\n\u001b[0;32m    493\u001b[0m \u001b[43m    \u001b[49m\u001b[38;5;28;43mself\u001b[39;49m\u001b[43m,\u001b[49m\u001b[43m \u001b[49m\u001b[43mgradient\u001b[49m\u001b[43m,\u001b[49m\u001b[43m \u001b[49m\u001b[43mretain_graph\u001b[49m\u001b[43m,\u001b[49m\u001b[43m \u001b[49m\u001b[43mcreate_graph\u001b[49m\u001b[43m,\u001b[49m\u001b[43m \u001b[49m\u001b[43minputs\u001b[49m\u001b[38;5;241;43m=\u001b[39;49m\u001b[43minputs\u001b[49m\n\u001b[0;32m    494\u001b[0m \u001b[43m\u001b[49m\u001b[43m)\u001b[49m\n",
      "File \u001b[1;32mc:\\Users\\emert\\AppData\\Local\\Programs\\Python\\Python311\\Lib\\site-packages\\torch\\autograd\\__init__.py:251\u001b[0m, in \u001b[0;36mbackward\u001b[1;34m(tensors, grad_tensors, retain_graph, create_graph, grad_variables, inputs)\u001b[0m\n\u001b[0;32m    246\u001b[0m     retain_graph \u001b[38;5;241m=\u001b[39m create_graph\n\u001b[0;32m    248\u001b[0m \u001b[38;5;66;03m# The reason we repeat the same comment below is that\u001b[39;00m\n\u001b[0;32m    249\u001b[0m \u001b[38;5;66;03m# some Python versions print out the first line of a multi-line function\u001b[39;00m\n\u001b[0;32m    250\u001b[0m \u001b[38;5;66;03m# calls in the traceback and some print out the last line\u001b[39;00m\n\u001b[1;32m--> 251\u001b[0m \u001b[43mVariable\u001b[49m\u001b[38;5;241;43m.\u001b[39;49m\u001b[43m_execution_engine\u001b[49m\u001b[38;5;241;43m.\u001b[39;49m\u001b[43mrun_backward\u001b[49m\u001b[43m(\u001b[49m\u001b[43m  \u001b[49m\u001b[38;5;66;43;03m# Calls into the C++ engine to run the backward pass\u001b[39;49;00m\n\u001b[0;32m    252\u001b[0m \u001b[43m    \u001b[49m\u001b[43mtensors\u001b[49m\u001b[43m,\u001b[49m\n\u001b[0;32m    253\u001b[0m \u001b[43m    \u001b[49m\u001b[43mgrad_tensors_\u001b[49m\u001b[43m,\u001b[49m\n\u001b[0;32m    254\u001b[0m \u001b[43m    \u001b[49m\u001b[43mretain_graph\u001b[49m\u001b[43m,\u001b[49m\n\u001b[0;32m    255\u001b[0m \u001b[43m    \u001b[49m\u001b[43mcreate_graph\u001b[49m\u001b[43m,\u001b[49m\n\u001b[0;32m    256\u001b[0m \u001b[43m    \u001b[49m\u001b[43minputs\u001b[49m\u001b[43m,\u001b[49m\n\u001b[0;32m    257\u001b[0m \u001b[43m    \u001b[49m\u001b[43mallow_unreachable\u001b[49m\u001b[38;5;241;43m=\u001b[39;49m\u001b[38;5;28;43;01mTrue\u001b[39;49;00m\u001b[43m,\u001b[49m\n\u001b[0;32m    258\u001b[0m \u001b[43m    \u001b[49m\u001b[43maccumulate_grad\u001b[49m\u001b[38;5;241;43m=\u001b[39;49m\u001b[38;5;28;43;01mTrue\u001b[39;49;00m\u001b[43m,\u001b[49m\n\u001b[0;32m    259\u001b[0m \u001b[43m\u001b[49m\u001b[43m)\u001b[49m\n",
      "\u001b[1;31mKeyboardInterrupt\u001b[0m: "
     ]
    }
   ],
   "source": [
    "aug_test(train_df, Aug_dict)"
   ]
  },
  {
   "cell_type": "markdown",
   "id": "5c7620d1",
   "metadata": {},
   "source": [
    "# Oversampling"
   ]
  },
  {
   "cell_type": "code",
   "execution_count": 21,
   "id": "cd065efd",
   "metadata": {},
   "outputs": [
    {
     "data": {
      "text/plain": [
       "label\n",
       "0    3094\n",
       "1     465\n",
       "2    1501\n",
       "3     192\n",
       "Name: count, dtype: int64"
      ]
     },
     "execution_count": 21,
     "metadata": {},
     "output_type": "execute_result"
    }
   ],
   "source": [
    "# get every class total in train set\n",
    "class_totals = train_df['label'].value_counts().sort_index()\n",
    "class_totals"
   ]
  },
  {
   "cell_type": "code",
   "execution_count": 53,
   "id": "b4062afc",
   "metadata": {},
   "outputs": [],
   "source": [
    "from sklearn.utils import resample\n",
    "\n",
    "def oversample_minority_classes(df, target_count=1500):\n",
    "    oversampled_dfs = []\n",
    "\n",
    "    for label in sorted(df[\"label\"].unique()):\n",
    "        class_df = df[df[\"label\"] == label]\n",
    "        if len(class_df) < target_count:\n",
    "            # Oversample: tekrar ederek arttır\n",
    "            resampled = resample(\n",
    "                class_df,\n",
    "                replace=True,\n",
    "                n_samples=target_count,\n",
    "                random_state=42\n",
    "            )\n",
    "        else:\n",
    "            resampled = class_df\n",
    "        oversampled_dfs.append(resampled)\n",
    "\n",
    "    return pd.concat(oversampled_dfs, ignore_index=True)\n"
   ]
  },
  {
   "cell_type": "code",
   "execution_count": null,
   "id": "8a116b5e",
   "metadata": {},
   "outputs": [
    {
     "name": "stdout",
     "output_type": "stream",
     "text": [
      "label\n",
      "0    3094\n",
      "2    1501\n",
      "1    1500\n",
      "3    1500\n",
      "Name: count, dtype: int64\n"
     ]
    }
   ],
   "source": [
    "balanced_train_df = oversample_minority_classes(train_df)\n",
    "\n",
    "\n",
    "print(balanced_train_df['label'].value_counts())\n"
   ]
  },
  {
   "cell_type": "code",
   "execution_count": 28,
   "id": "c81eca98",
   "metadata": {},
   "outputs": [
    {
     "name": "stdout",
     "output_type": "stream",
     "text": [
      "\n",
      "--- AUGMENTATION: noise ---\n",
      "\n",
      "Epoch 1/10\n",
      "Train Loss: 1.1562 | Train Acc: 0.4441\n",
      "Val   Loss: 1.3435 | Val   Acc: 0.4412\n",
      "Val   F1: 0.3597 | Val Precision: 0.3892\n",
      "----------------------------------------\n",
      "Epoch 2/10\n",
      "Train Loss: 0.8896 | Train Acc: 0.6035\n",
      "Val   Loss: 1.0736 | Val   Acc: 0.5286\n",
      "Val   F1: 0.4985 | Val Precision: 0.4666\n",
      "----------------------------------------\n",
      "Epoch 3/10\n",
      "Train Loss: 0.7910 | Train Acc: 0.6517\n",
      "Val   Loss: 0.9670 | Val   Acc: 0.5836\n",
      "Val   F1: 0.4979 | Val Precision: 0.4911\n",
      "----------------------------------------\n",
      "EarlyStopping Counter: 1 / 5\n",
      "Epoch 4/10\n",
      "Train Loss: 0.6749 | Train Acc: 0.7054\n",
      "Val   Loss: 0.8472 | Val   Acc: 0.6537\n",
      "Val   F1: 0.5477 | Val Precision: 0.5561\n",
      "----------------------------------------\n",
      "Epoch 5/10\n",
      "Train Loss: 0.5641 | Train Acc: 0.7567\n",
      "Val   Loss: 0.8955 | Val   Acc: 0.6138\n",
      "Val   F1: 0.5390 | Val Precision: 0.5389\n",
      "----------------------------------------\n",
      "EarlyStopping Counter: 1 / 5\n",
      "Epoch 6/10\n",
      "Train Loss: 0.4561 | Train Acc: 0.8080\n",
      "Val   Loss: 0.8556 | Val   Acc: 0.6537\n",
      "Val   F1: 0.5616 | Val Precision: 0.5766\n",
      "----------------------------------------\n",
      "Epoch 7/10\n",
      "Train Loss: 0.3590 | Train Acc: 0.8486\n",
      "Val   Loss: 0.8772 | Val   Acc: 0.6818\n",
      "Val   F1: 0.5835 | Val Precision: 0.5893\n",
      "----------------------------------------\n",
      "Epoch 8/10\n",
      "Train Loss: 0.2966 | Train Acc: 0.8742\n",
      "Val   Loss: 1.0106 | Val   Acc: 0.6408\n",
      "Val   F1: 0.5376 | Val Precision: 0.5733\n",
      "----------------------------------------\n",
      "EarlyStopping Counter: 1 / 5\n",
      "Epoch 9/10\n",
      "Train Loss: 0.2476 | Train Acc: 0.8910\n",
      "Val   Loss: 1.0583 | Val   Acc: 0.6516\n",
      "Val   F1: 0.5596 | Val Precision: 0.6216\n",
      "----------------------------------------\n",
      "EarlyStopping Counter: 2 / 5\n",
      "Epoch 10/10\n",
      "Train Loss: 0.2149 | Train Acc: 0.9104\n",
      "Val   Loss: 1.0477 | Val   Acc: 0.7098\n",
      "Val   F1: 0.5532 | Val Precision: 0.6501\n",
      "----------------------------------------\n",
      "EarlyStopping Counter: 3 / 5\n",
      "Validation F1 Score: 0.5835\n",
      "Confusion Matrix:\n",
      " [[445  13  81   5]\n",
      " [ 17  36  26   5]\n",
      " [ 99  30 131   4]\n",
      " [  8   1   6  20]]\n",
      "Classification Report:\n",
      "               precision    recall  f1-score   support\n",
      "\n",
      "      Normal       0.78      0.82      0.80       544\n",
      "          AF       0.45      0.43      0.44        84\n",
      "       Other       0.54      0.50      0.52       264\n",
      "       Noisy       0.59      0.57      0.58        35\n",
      "\n",
      "    accuracy                           0.68       927\n",
      "   macro avg       0.59      0.58      0.58       927\n",
      "weighted avg       0.67      0.68      0.68       927\n",
      "\n",
      "vall acc: 0.6817691477885652\n",
      "\n",
      "--- AUGMENTATION: scale ---\n",
      "\n",
      "Epoch 1/10\n",
      "Train Loss: 1.2229 | Train Acc: 0.4035\n",
      "Val   Loss: 1.2266 | Val   Acc: 0.5437\n",
      "Val   F1: 0.3082 | Val Precision: 0.4738\n",
      "----------------------------------------\n",
      "Epoch 2/10\n",
      "Train Loss: 1.0607 | Train Acc: 0.4933\n",
      "Val   Loss: 1.2541 | Val   Acc: 0.4229\n",
      "Val   F1: 0.3760 | Val Precision: 0.3926\n",
      "----------------------------------------\n",
      "Epoch 3/10\n",
      "Train Loss: 0.9283 | Train Acc: 0.5891\n",
      "Val   Loss: 1.1126 | Val   Acc: 0.5210\n",
      "Val   F1: 0.4502 | Val Precision: 0.4452\n",
      "----------------------------------------\n",
      "Epoch 4/10\n",
      "Train Loss: 0.8203 | Train Acc: 0.6415\n",
      "Val   Loss: 0.9261 | Val   Acc: 0.5858\n",
      "Val   F1: 0.4670 | Val Precision: 0.4693\n",
      "----------------------------------------\n",
      "Epoch 5/10\n",
      "Train Loss: 0.7173 | Train Acc: 0.6898\n",
      "Val   Loss: 1.2146 | Val   Acc: 0.4531\n",
      "Val   F1: 0.4158 | Val Precision: 0.4531\n",
      "----------------------------------------\n",
      "EarlyStopping Counter: 1 / 5\n",
      "Epoch 6/10\n",
      "Train Loss: 0.6176 | Train Acc: 0.7312\n",
      "Val   Loss: 1.0197 | Val   Acc: 0.5879\n",
      "Val   F1: 0.5053 | Val Precision: 0.4844\n",
      "----------------------------------------\n",
      "Epoch 7/10\n",
      "Train Loss: 0.5291 | Train Acc: 0.7704\n",
      "Val   Loss: 0.9843 | Val   Acc: 0.6117\n",
      "Val   F1: 0.5173 | Val Precision: 0.4974\n",
      "----------------------------------------\n",
      "Epoch 8/10\n",
      "Train Loss: 0.4462 | Train Acc: 0.7986\n",
      "Val   Loss: 0.9614 | Val   Acc: 0.6516\n",
      "Val   F1: 0.5463 | Val Precision: 0.5402\n",
      "----------------------------------------\n",
      "Epoch 9/10\n",
      "Train Loss: 0.3917 | Train Acc: 0.8162\n",
      "Val   Loss: 0.9833 | Val   Acc: 0.6289\n",
      "Val   F1: 0.5391 | Val Precision: 0.5575\n",
      "----------------------------------------\n",
      "EarlyStopping Counter: 1 / 5\n",
      "Epoch 10/10\n",
      "Train Loss: 0.3297 | Train Acc: 0.8473\n",
      "Val   Loss: 1.0205 | Val   Acc: 0.6451\n",
      "Val   F1: 0.5620 | Val Precision: 0.5702\n",
      "----------------------------------------\n",
      "Validation F1 Score: 0.5620\n",
      "Confusion Matrix:\n",
      " [[400  12 125   7]\n",
      " [ 12  28  38   6]\n",
      " [ 95  16 148   5]\n",
      " [  5   2   6  22]]\n",
      "Classification Report:\n",
      "               precision    recall  f1-score   support\n",
      "\n",
      "      Normal       0.78      0.74      0.76       544\n",
      "          AF       0.48      0.33      0.39        84\n",
      "       Other       0.47      0.56      0.51       264\n",
      "       Noisy       0.55      0.63      0.59        35\n",
      "\n",
      "    accuracy                           0.65       927\n",
      "   macro avg       0.57      0.56      0.56       927\n",
      "weighted avg       0.66      0.65      0.65       927\n",
      "\n",
      "vall acc: 0.645091693635383\n",
      "\n",
      "\n",
      "AUGMENTATION Result:\n",
      "\n",
      "  augmentation  best_val_f1  best_val_acc\n",
      "0        noise     0.583531      0.709817\n",
      "1        scale     0.562019      0.645092\n"
     ]
    }
   ],
   "source": [
    "new_aug_dict = {\n",
    "    \"noise\": add_noise,\n",
    "    \"scale\": scale_amplitude\n",
    "}\n",
    "aug_test(balanced_train_df, new_aug_dict)"
   ]
  },
  {
   "cell_type": "markdown",
   "id": "bfdf98f3",
   "metadata": {},
   "source": [
    "# HeartPY"
   ]
  },
  {
   "cell_type": "code",
   "execution_count": 3,
   "id": "4f1c8f6a",
   "metadata": {},
   "outputs": [
    {
     "name": "stdout",
     "output_type": "stream",
     "text": [
      "Collecting heartpy\n",
      "  Using cached heartpy-1.2.7-py3-none-any.whl.metadata (9.5 kB)\n",
      "Requirement already satisfied: numpy>=1.17 in c:\\users\\emert\\appdata\\local\\programs\\python\\python311\\lib\\site-packages (from heartpy) (1.24.3)\n",
      "Requirement already satisfied: scipy in c:\\users\\emert\\appdata\\local\\programs\\python\\python311\\lib\\site-packages (from heartpy) (1.12.0)\n",
      "Requirement already satisfied: matplotlib in c:\\users\\emert\\appdata\\local\\programs\\python\\python311\\lib\\site-packages (from heartpy) (3.7.2)\n",
      "Requirement already satisfied: contourpy>=1.0.1 in c:\\users\\emert\\appdata\\local\\programs\\python\\python311\\lib\\site-packages (from matplotlib->heartpy) (1.1.0)\n",
      "Requirement already satisfied: cycler>=0.10 in c:\\users\\emert\\appdata\\local\\programs\\python\\python311\\lib\\site-packages (from matplotlib->heartpy) (0.11.0)\n",
      "Requirement already satisfied: fonttools>=4.22.0 in c:\\users\\emert\\appdata\\local\\programs\\python\\python311\\lib\\site-packages (from matplotlib->heartpy) (4.41.1)\n",
      "Requirement already satisfied: kiwisolver>=1.0.1 in c:\\users\\emert\\appdata\\local\\programs\\python\\python311\\lib\\site-packages (from matplotlib->heartpy) (1.4.4)\n",
      "Requirement already satisfied: packaging>=20.0 in c:\\users\\emert\\appdata\\roaming\\python\\python311\\site-packages (from matplotlib->heartpy) (23.1)\n",
      "Requirement already satisfied: pillow>=6.2.0 in c:\\users\\emert\\appdata\\local\\programs\\python\\python311\\lib\\site-packages (from matplotlib->heartpy) (10.0.0)\n",
      "Requirement already satisfied: pyparsing<3.1,>=2.3.1 in c:\\users\\emert\\appdata\\local\\programs\\python\\python311\\lib\\site-packages (from matplotlib->heartpy) (3.0.9)\n",
      "Requirement already satisfied: python-dateutil>=2.7 in c:\\users\\emert\\appdata\\roaming\\python\\python311\\site-packages (from matplotlib->heartpy) (2.8.2)\n",
      "Requirement already satisfied: six>=1.5 in c:\\users\\emert\\appdata\\roaming\\python\\python311\\site-packages (from python-dateutil>=2.7->matplotlib->heartpy) (1.16.0)\n",
      "Using cached heartpy-1.2.7-py3-none-any.whl (1.0 MB)\n",
      "Installing collected packages: heartpy\n",
      "Successfully installed heartpy-1.2.7\n",
      "Note: you may need to restart the kernel to use updated packages.\n"
     ]
    },
    {
     "name": "stderr",
     "output_type": "stream",
     "text": [
      "\n",
      "[notice] A new release of pip is available: 24.0 -> 25.1.1\n",
      "[notice] To update, run: python.exe -m pip install --upgrade pip\n"
     ]
    }
   ],
   "source": [
    "pip install heartpy"
   ]
  },
  {
   "cell_type": "code",
   "execution_count": null,
   "id": "851350db",
   "metadata": {},
   "outputs": [],
   "source": [
    "import heartpy as hp\n",
    "\n",
    "def extract_heartpy_features(signal):\n",
    "    try:\n",
    "        signal = np.array(signal)\n",
    "        wd, m = hp.process(signal, sample_rate=300, bpmmax=250,bpmmin=30)\n",
    "        features = [\n",
    "            m[\"sdnn\"],\n",
    "            m[\"rmssd\"],\n",
    "            m[\"pnn50\"],\n",
    "            m[\"hr_mad\"],\n",
    "        ]\n",
    "        return features\n",
    "    except Exception as e:\n",
    "        print(\"Hata:\", e)\n",
    "        return [0.0] * 4\n",
    " \n"
   ]
  },
  {
   "cell_type": "code",
   "execution_count": 7,
   "id": "89ad9333",
   "metadata": {},
   "outputs": [
    {
     "name": "stdout",
     "output_type": "stream",
     "text": [
      "[-1255 -1488 -1745 -2015 -2253 -2374 -2379 -2286 -2241 -2129]\n",
      "9000\n"
     ]
    },
    {
     "name": "stderr",
     "output_type": "stream",
     "text": [
      "c:\\Users\\emert\\AppData\\Local\\Programs\\Python\\Python311\\Lib\\site-packages\\heartpy\\visualizeutils.py:119: UserWarning: Matplotlib is currently using module://matplotlib_inline.backend_inline, which is a non-GUI backend, so cannot show the figure.\n",
      "  fig.show()\n"
     ]
    },
    {
     "data": {
      "image/png": "[encoded data removed]",
      "text/plain": [
       "<Figure size 640x480 with 1 Axes>"
      ]
     },
     "metadata": {},
     "output_type": "display_data"
    }
   ],
   "source": [
    "test_signal = np.array(train_df.iloc[1][\"signal\"])\n",
    "print(test_signal[:10])  # ilk 10 değere bak\n",
    "print(len(test_signal))  # uzunluk 9000 mi?\n",
    "\n",
    "# normalize etmeden önce deneyelim:\n",
    "wd, m = hp.process(test_signal, sample_rate=300, bpmmax=250,bpmmin=30)\n",
    "hp.plotter(wd, m)  # sinyali görsel olarak incele\n"
   ]
  },
  {
   "cell_type": "code",
   "execution_count": 23,
   "id": "6abaf849",
   "metadata": {},
   "outputs": [
    {
     "name": "stderr",
     "output_type": "stream",
     "text": [
      "c:\\Users\\emert\\AppData\\Local\\Programs\\Python\\Python311\\Lib\\site-packages\\heartpy\\analysis.py:677: UserWarning: \n",
      "The maximal number of iterations maxit (set to 20 by the program)\n",
      "allowed for finding a smoothing spline with fp=s has been reached: s\n",
      "too small.\n",
      "There is an approximation returned but the corresponding weighted sum\n",
      "of squared residuals does not satisfy the condition abs(fp-s)/s < tol.\n",
      "  interp = UnivariateSpline(x, rrlist, k=3)\n",
      "c:\\Users\\emert\\AppData\\Local\\Programs\\Python\\Python311\\Lib\\site-packages\\numpy\\core\\fromnumeric.py:3464: RuntimeWarning: Mean of empty slice.\n",
      "  return _methods._mean(a, axis=axis, dtype=dtype,\n",
      "c:\\Users\\emert\\AppData\\Local\\Programs\\Python\\Python311\\Lib\\site-packages\\numpy\\core\\_methods.py:269: RuntimeWarning: Degrees of freedom <= 0 for slice\n",
      "  ret = _var(a, axis=axis, dtype=dtype, out=out, ddof=ddof,\n",
      "c:\\Users\\emert\\AppData\\Local\\Programs\\Python\\Python311\\Lib\\site-packages\\numpy\\ma\\core.py:5317: RuntimeWarning: Mean of empty slice.\n",
      "  result = super().mean(axis=axis, dtype=dtype, **kwargs)[()]\n",
      "c:\\Users\\emert\\AppData\\Local\\Programs\\Python\\Python311\\Lib\\site-packages\\numpy\\core\\fromnumeric.py:3747: RuntimeWarning: Degrees of freedom <= 0 for slice\n",
      "  return _methods._var(a, axis=axis, dtype=dtype, out=out, ddof=ddof,\n"
     ]
    },
    {
     "name": "stdout",
     "output_type": "stream",
     "text": [
      "⚠️ Hata: \n",
      "----------------\n",
      "Could not determine best fit for given signal. Please check the source signal.\n",
      " Probable causes:\n",
      "- detected heart rate falls outside of bpmmin<->bpmmax constraints\n",
      "- no detectable heart rate present in signal\n",
      "- very noisy signal (consider filtering and scaling)\n",
      "If you're sure the signal contains heartrate data, consider filtering and/or scaling first.\n",
      "----------------\n",
      "\n",
      "⚠️ Hata: \n",
      "----------------\n",
      "Could not determine best fit for given signal. Please check the source signal.\n",
      " Probable causes:\n",
      "- detected heart rate falls outside of bpmmin<->bpmmax constraints\n",
      "- no detectable heart rate present in signal\n",
      "- very noisy signal (consider filtering and scaling)\n",
      "If you're sure the signal contains heartrate data, consider filtering and/or scaling first.\n",
      "----------------\n",
      "\n"
     ]
    },
    {
     "name": "stderr",
     "output_type": "stream",
     "text": [
      "c:\\Users\\emert\\AppData\\Local\\Programs\\Python\\Python311\\Lib\\site-packages\\heartpy\\analysis.py:677: UserWarning: \n",
      "A theoretically impossible result was found during the iteration\n",
      "process for finding a smoothing spline with fp = s: s too small.\n",
      "There is an approximation returned but the corresponding weighted sum\n",
      "of squared residuals does not satisfy the condition abs(fp-s)/s < tol.\n",
      "  interp = UnivariateSpline(x, rrlist, k=3)\n"
     ]
    },
    {
     "name": "stdout",
     "output_type": "stream",
     "text": [
      "⚠️ Hata: \n",
      "----------------\n",
      "Could not determine best fit for given signal. Please check the source signal.\n",
      " Probable causes:\n",
      "- detected heart rate falls outside of bpmmin<->bpmmax constraints\n",
      "- no detectable heart rate present in signal\n",
      "- very noisy signal (consider filtering and scaling)\n",
      "If you're sure the signal contains heartrate data, consider filtering and/or scaling first.\n",
      "----------------\n",
      "\n",
      "⚠️ Hata: \n",
      "----------------\n",
      "Could not determine best fit for given signal. Please check the source signal.\n",
      " Probable causes:\n",
      "- detected heart rate falls outside of bpmmin<->bpmmax constraints\n",
      "- no detectable heart rate present in signal\n",
      "- very noisy signal (consider filtering and scaling)\n",
      "If you're sure the signal contains heartrate data, consider filtering and/or scaling first.\n",
      "----------------\n",
      "\n",
      "⚠️ Hata: \n",
      "----------------\n",
      "Could not determine best fit for given signal. Please check the source signal.\n",
      " Probable causes:\n",
      "- detected heart rate falls outside of bpmmin<->bpmmax constraints\n",
      "- no detectable heart rate present in signal\n",
      "- very noisy signal (consider filtering and scaling)\n",
      "If you're sure the signal contains heartrate data, consider filtering and/or scaling first.\n",
      "----------------\n",
      "\n",
      "⚠️ Hata: \n",
      "----------------\n",
      "Could not determine best fit for given signal. Please check the source signal.\n",
      " Probable causes:\n",
      "- detected heart rate falls outside of bpmmin<->bpmmax constraints\n",
      "- no detectable heart rate present in signal\n",
      "- very noisy signal (consider filtering and scaling)\n",
      "If you're sure the signal contains heartrate data, consider filtering and/or scaling first.\n",
      "----------------\n",
      "\n"
     ]
    }
   ],
   "source": [
    "import heartpy as hp\n",
    "import numpy as np\n",
    "import pandas as pd\n",
    "\n",
    "\n",
    "# Yeni özellikleri taşıyacak liste\n",
    "features = []\n",
    "\n",
    "# Her sinyal için özellik çıkar\n",
    "for i in range(len(train_df)):\n",
    "    signal = np.array(train_df.iloc[i][\"signal\"])\n",
    "    features.append(extract_heartpy_features(signal))\n",
    "\n",
    "# DataFrame'e çevir\n",
    "heartpy_features_df = pd.DataFrame(\n",
    "    features,\n",
    "    columns=[\"sdnn\", \"rmssd\", \"pnn50\", \"hr_mad\"]\n",
    ")\n",
    "\n",
    "# Label ve varsa ID gibi bilgileri kopyala\n",
    "heartpy_features_df[\"label\"] = train_df[\"label\"].values\n",
    "heartpy_features_df[\"signal\"] = train_df[\"signal\"].values\n",
    "\n"
   ]
  },
  {
   "cell_type": "code",
   "execution_count": 24,
   "id": "cca23a6f",
   "metadata": {},
   "outputs": [
    {
     "data": {
      "text/html": [
       "<div>\n",
       "<style scoped>\n",
       "    .dataframe tbody tr th:only-of-type {\n",
       "        vertical-align: middle;\n",
       "    }\n",
       "\n",
       "    .dataframe tbody tr th {\n",
       "        vertical-align: top;\n",
       "    }\n",
       "\n",
       "    .dataframe thead th {\n",
       "        text-align: right;\n",
       "    }\n",
       "</style>\n",
       "<table border=\"1\" class=\"dataframe\">\n",
       "  <thead>\n",
       "    <tr style=\"text-align: right;\">\n",
       "      <th></th>\n",
       "      <th>sdnn</th>\n",
       "      <th>rmssd</th>\n",
       "      <th>pnn50</th>\n",
       "      <th>hr_mad</th>\n",
       "      <th>label</th>\n",
       "      <th>signal</th>\n",
       "    </tr>\n",
       "  </thead>\n",
       "  <tbody>\n",
       "    <tr>\n",
       "      <th>0</th>\n",
       "      <td>170.246640</td>\n",
       "      <td>258.472364</td>\n",
       "      <td>0.90</td>\n",
       "      <td>120.000000</td>\n",
       "      <td>2</td>\n",
       "      <td>[-446, -541, -637, -733, -819, -858, -867, -87...</td>\n",
       "    </tr>\n",
       "    <tr>\n",
       "      <th>1</th>\n",
       "      <td>178.846742</td>\n",
       "      <td>318.708040</td>\n",
       "      <td>1.00</td>\n",
       "      <td>140.000000</td>\n",
       "      <td>0</td>\n",
       "      <td>[-1255, -1488, -1745, -2015, -2253, -2374, -23...</td>\n",
       "    </tr>\n",
       "    <tr>\n",
       "      <th>2</th>\n",
       "      <td>6.317256</td>\n",
       "      <td>6.195469</td>\n",
       "      <td>0.00</td>\n",
       "      <td>5.000000</td>\n",
       "      <td>0</td>\n",
       "      <td>[156, 189, 223, 255, 291, 330, 362, 380, 390, ...</td>\n",
       "    </tr>\n",
       "    <tr>\n",
       "      <th>3</th>\n",
       "      <td>106.118876</td>\n",
       "      <td>144.705960</td>\n",
       "      <td>0.75</td>\n",
       "      <td>83.333333</td>\n",
       "      <td>1</td>\n",
       "      <td>[-22, -27, -33, -38, -40, -39, -36, -30, -23, ...</td>\n",
       "    </tr>\n",
       "    <tr>\n",
       "      <th>4</th>\n",
       "      <td>14.915399</td>\n",
       "      <td>18.362046</td>\n",
       "      <td>0.00</td>\n",
       "      <td>13.333333</td>\n",
       "      <td>0</td>\n",
       "      <td>[291, 345, 405, 465, 510, 527, 516, 509, 507, ...</td>\n",
       "    </tr>\n",
       "  </tbody>\n",
       "</table>\n",
       "</div>"
      ],
      "text/plain": [
       "         sdnn       rmssd  pnn50      hr_mad  label  \\\n",
       "0  170.246640  258.472364   0.90  120.000000      2   \n",
       "1  178.846742  318.708040   1.00  140.000000      0   \n",
       "2    6.317256    6.195469   0.00    5.000000      0   \n",
       "3  106.118876  144.705960   0.75   83.333333      1   \n",
       "4   14.915399   18.362046   0.00   13.333333      0   \n",
       "\n",
       "                                              signal  \n",
       "0  [-446, -541, -637, -733, -819, -858, -867, -87...  \n",
       "1  [-1255, -1488, -1745, -2015, -2253, -2374, -23...  \n",
       "2  [156, 189, 223, 255, 291, 330, 362, 380, 390, ...  \n",
       "3  [-22, -27, -33, -38, -40, -39, -36, -30, -23, ...  \n",
       "4  [291, 345, 405, 465, 510, 527, 516, 509, 507, ...  "
      ]
     },
     "execution_count": 24,
     "metadata": {},
     "output_type": "execute_result"
    }
   ],
   "source": [
    "heartpy_features_df.head()"
   ]
  },
  {
   "cell_type": "code",
   "execution_count": 25,
   "id": "7682ac96",
   "metadata": {},
   "outputs": [
    {
     "name": "stdout",
     "output_type": "stream",
     "text": [
      "Tüm özellikleri 0 olan örnek sayısı: 6\n",
      "Toplam örnek sayısı: 5252\n",
      " Oran: %0.11\n"
     ]
    }
   ],
   "source": [
    "# Tüm özellik sütunlarının sıfır olduğu satırları filtrele\n",
    "heartpy_columns =[\"sdnn\", \"rmssd\", \"pnn50\", \"hr_mad\"]\n",
    "\n",
    "zero_feature_rows = (heartpy_features_df[heartpy_columns] == 0).all(axis=1)\n",
    "\n",
    "# Kaç tane?\n",
    "num_zero_rows = zero_feature_rows.sum()\n",
    "\n",
    "print(f\"Tüm özellikleri 0 olan örnek sayısı: {num_zero_rows}\")\n",
    "print(f\"Toplam örnek sayısı: {len(heartpy_features_df)}\")\n",
    "print(f\" Oran: %{(num_zero_rows / len(heartpy_features_df)) * 100:.2f}\")\n"
   ]
  },
  {
   "cell_type": "code",
   "execution_count": 26,
   "id": "5bd0c2bb",
   "metadata": {},
   "outputs": [
    {
     "name": "stderr",
     "output_type": "stream",
     "text": [
      "c:\\Users\\emert\\AppData\\Local\\Programs\\Python\\Python311\\Lib\\site-packages\\heartpy\\analysis.py:677: UserWarning: \n",
      "The maximal number of iterations maxit (set to 20 by the program)\n",
      "allowed for finding a smoothing spline with fp=s has been reached: s\n",
      "too small.\n",
      "There is an approximation returned but the corresponding weighted sum\n",
      "of squared residuals does not satisfy the condition abs(fp-s)/s < tol.\n",
      "  interp = UnivariateSpline(x, rrlist, k=3)\n",
      "c:\\Users\\emert\\AppData\\Local\\Programs\\Python\\Python311\\Lib\\site-packages\\numpy\\ma\\core.py:5317: RuntimeWarning: Mean of empty slice.\n",
      "  result = super().mean(axis=axis, dtype=dtype, **kwargs)[()]\n",
      "c:\\Users\\emert\\AppData\\Local\\Programs\\Python\\Python311\\Lib\\site-packages\\numpy\\core\\fromnumeric.py:3747: RuntimeWarning: Degrees of freedom <= 0 for slice\n",
      "  return _methods._var(a, axis=axis, dtype=dtype, out=out, ddof=ddof,\n",
      "c:\\Users\\emert\\AppData\\Local\\Programs\\Python\\Python311\\Lib\\site-packages\\numpy\\core\\fromnumeric.py:3464: RuntimeWarning: Mean of empty slice.\n",
      "  return _methods._mean(a, axis=axis, dtype=dtype,\n",
      "c:\\Users\\emert\\AppData\\Local\\Programs\\Python\\Python311\\Lib\\site-packages\\numpy\\core\\_methods.py:269: RuntimeWarning: Degrees of freedom <= 0 for slice\n",
      "  ret = _var(a, axis=axis, dtype=dtype, out=out, ddof=ddof,\n"
     ]
    },
    {
     "name": "stdout",
     "output_type": "stream",
     "text": [
      "⚠️ Hata: \n",
      "----------------\n",
      "Could not determine best fit for given signal. Please check the source signal.\n",
      " Probable causes:\n",
      "- detected heart rate falls outside of bpmmin<->bpmmax constraints\n",
      "- no detectable heart rate present in signal\n",
      "- very noisy signal (consider filtering and scaling)\n",
      "If you're sure the signal contains heartrate data, consider filtering and/or scaling first.\n",
      "----------------\n",
      "\n"
     ]
    },
    {
     "name": "stderr",
     "output_type": "stream",
     "text": [
      "c:\\Users\\emert\\AppData\\Local\\Programs\\Python\\Python311\\Lib\\site-packages\\heartpy\\analysis.py:677: UserWarning: \n",
      "A theoretically impossible result was found during the iteration\n",
      "process for finding a smoothing spline with fp = s: s too small.\n",
      "There is an approximation returned but the corresponding weighted sum\n",
      "of squared residuals does not satisfy the condition abs(fp-s)/s < tol.\n",
      "  interp = UnivariateSpline(x, rrlist, k=3)\n"
     ]
    },
    {
     "data": {
      "text/html": [
       "<div>\n",
       "<style scoped>\n",
       "    .dataframe tbody tr th:only-of-type {\n",
       "        vertical-align: middle;\n",
       "    }\n",
       "\n",
       "    .dataframe tbody tr th {\n",
       "        vertical-align: top;\n",
       "    }\n",
       "\n",
       "    .dataframe thead th {\n",
       "        text-align: right;\n",
       "    }\n",
       "</style>\n",
       "<table border=\"1\" class=\"dataframe\">\n",
       "  <thead>\n",
       "    <tr style=\"text-align: right;\">\n",
       "      <th></th>\n",
       "      <th>sdnn</th>\n",
       "      <th>rmssd</th>\n",
       "      <th>pnn50</th>\n",
       "      <th>hr_mad</th>\n",
       "      <th>label</th>\n",
       "      <th>signal</th>\n",
       "    </tr>\n",
       "  </thead>\n",
       "  <tbody>\n",
       "    <tr>\n",
       "      <th>0</th>\n",
       "      <td>116.874101</td>\n",
       "      <td>162.127065</td>\n",
       "      <td>1.000000</td>\n",
       "      <td>83.333333</td>\n",
       "      <td>2</td>\n",
       "      <td>[-90, -105, -113, -114, -114, -115, -115, -115...</td>\n",
       "    </tr>\n",
       "    <tr>\n",
       "      <th>1</th>\n",
       "      <td>78.672316</td>\n",
       "      <td>120.614369</td>\n",
       "      <td>0.434783</td>\n",
       "      <td>30.000000</td>\n",
       "      <td>2</td>\n",
       "      <td>[116, 140, 168, 183, 189, 194, 198, 201, 203, ...</td>\n",
       "    </tr>\n",
       "    <tr>\n",
       "      <th>2</th>\n",
       "      <td>135.950157</td>\n",
       "      <td>211.139388</td>\n",
       "      <td>0.842857</td>\n",
       "      <td>86.666667</td>\n",
       "      <td>2</td>\n",
       "      <td>[-89, -109, -121, -128, -139, -149, -140, -122...</td>\n",
       "    </tr>\n",
       "    <tr>\n",
       "      <th>3</th>\n",
       "      <td>209.793814</td>\n",
       "      <td>376.290971</td>\n",
       "      <td>0.918919</td>\n",
       "      <td>58.333333</td>\n",
       "      <td>2</td>\n",
       "      <td>[-429, -505, -593, -683, -748, -771, -748, -73...</td>\n",
       "    </tr>\n",
       "    <tr>\n",
       "      <th>4</th>\n",
       "      <td>178.508370</td>\n",
       "      <td>281.137396</td>\n",
       "      <td>0.794118</td>\n",
       "      <td>80.000000</td>\n",
       "      <td>2</td>\n",
       "      <td>[16, 18, 19, 21, 23, 25, 27, 28, 29, 31, 32, 3...</td>\n",
       "    </tr>\n",
       "  </tbody>\n",
       "</table>\n",
       "</div>"
      ],
      "text/plain": [
       "         sdnn       rmssd     pnn50     hr_mad  label  \\\n",
       "0  116.874101  162.127065  1.000000  83.333333      2   \n",
       "1   78.672316  120.614369  0.434783  30.000000      2   \n",
       "2  135.950157  211.139388  0.842857  86.666667      2   \n",
       "3  209.793814  376.290971  0.918919  58.333333      2   \n",
       "4  178.508370  281.137396  0.794118  80.000000      2   \n",
       "\n",
       "                                              signal  \n",
       "0  [-90, -105, -113, -114, -114, -115, -115, -115...  \n",
       "1  [116, 140, 168, 183, 189, 194, 198, 201, 203, ...  \n",
       "2  [-89, -109, -121, -128, -139, -149, -140, -122...  \n",
       "3  [-429, -505, -593, -683, -748, -771, -748, -73...  \n",
       "4  [16, 18, 19, 21, 23, 25, 27, 28, 29, 31, 32, 3...  "
      ]
     },
     "execution_count": 26,
     "metadata": {},
     "output_type": "execute_result"
    }
   ],
   "source": [
    "val_features = []\n",
    "for i in range(len(val_df)):\n",
    "    signal = np.array(val_df.iloc[i][\"signal\"])\n",
    "    features = extract_heartpy_features(signal)\n",
    "    val_features.append(features)\n",
    "\n",
    "heartpy_val_df = pd.DataFrame(\n",
    "    val_features,\n",
    "    columns=[\"sdnn\", \"rmssd\", \"pnn50\", \"hr_mad\"]\n",
    ")\n",
    "heartpy_val_df['label'] = val_df['label'].values\n",
    "heartpy_val_df['signal'] = val_df['signal'].values\n",
    "\n",
    "heartpy_val_df.head()"
   ]
  },
  {
   "cell_type": "markdown",
   "id": "acebe8d6",
   "metadata": {},
   "source": [
    "# new model"
   ]
  },
  {
   "cell_type": "code",
   "execution_count": 27,
   "id": "660e08e7",
   "metadata": {},
   "outputs": [],
   "source": [
    "class ECGModelWithHeartFeatures(nn.Module):\n",
    "    def __init__(self, hidden_size=128, dropout_rate=0.2):\n",
    "        super().__init__()\n",
    "\n",
    "        # STFT + CNN + RNN kısmı (aynı)\n",
    "        self.conv1 = nn.Sequential(\n",
    "            nn.Conv2d(1, 16, kernel_size=3, padding=1),\n",
    "            nn.ReLU(),\n",
    "            nn.MaxPool2d(kernel_size=2)\n",
    "        )\n",
    "        self.conv2 = nn.Sequential(\n",
    "            nn.Conv2d(16, 32, kernel_size=3, padding=1),\n",
    "            nn.ReLU(),\n",
    "            nn.MaxPool2d(kernel_size=2)\n",
    "        )\n",
    "        self.rnn = nn.GRU(input_size=32 * 32, hidden_size=hidden_size, batch_first=True)\n",
    "\n",
    "        # HeartPy features → 8 boyutlu vektör\n",
    "        self.feature_fc = nn.Sequential(\n",
    "            nn.Linear(4, 32),\n",
    "            nn.ReLU(),\n",
    "            nn.Dropout(dropout_rate)\n",
    "        )\n",
    "\n",
    "        # Birleştir ve sınıflandır\n",
    "        self.final_fc = nn.Sequential(\n",
    "            nn.Linear(hidden_size + 32, 64),\n",
    "            nn.ReLU(),\n",
    "            nn.Dropout(dropout_rate),\n",
    "            nn.Linear(64, 4)\n",
    "        )\n",
    "\n",
    "    def forward(self, signal, features):\n",
    "        x:torch.Tensor = compute_stft_batch(signal)     # (B, F, T)\n",
    "        x = torch.log1p(x)\n",
    "        x = x.unsqueeze(1)\n",
    "        x = self.conv1(x)\n",
    "        x = self.conv2(x)\n",
    "        b, c, f, t = x.shape\n",
    "        x = x.view(b, c * f, t).permute(0, 2, 1)\n",
    "        _, h_n = self.rnn(x)\n",
    "        x_rnn = h_n[-1]\n",
    "\n",
    "        x_feat = self.feature_fc(features)\n",
    "\n",
    "        x_combined = torch.cat([x_rnn, x_feat], dim=1)\n",
    "        return self.final_fc(x_combined)\n"
   ]
  },
  {
   "cell_type": "code",
   "execution_count": 28,
   "id": "cacf893f",
   "metadata": {},
   "outputs": [],
   "source": [
    "from torch.utils.data import Dataset\n",
    "class ECGDatasetWithFeatures(Dataset):\n",
    "    def __init__(self, df):\n",
    "        self.df = df\n",
    "        self.signals = df[\"signal\"].values\n",
    "        self.labels = df[\"label\"].values\n",
    "        self.features = df[[\"sdnn\", \"rmssd\", \"pnn50\", \"hr_mad\"]].values.astype(np.float32)\n",
    "\n",
    "    def __len__(self):\n",
    "        return len(self.labels)\n",
    "\n",
    "    def __getitem__(self, idx):\n",
    "        row = self.df.iloc[idx]\n",
    "\n",
    "        # Signal processing\n",
    "        # Pad or trim the signal to the target length\n",
    "        signal = pad_or_trim(row['signal'], 9000)\n",
    "        signal = torch.tensor(signal, dtype=torch.float32)\n",
    "        label = self.labels[idx]\n",
    "        features = torch.tensor(self.features[idx], dtype=torch.float32)\n",
    "        return signal, features, label"
   ]
  },
  {
   "cell_type": "code",
   "execution_count": 29,
   "id": "c942abcb",
   "metadata": {},
   "outputs": [],
   "source": [
    "from torch.utils.data import DataLoader"
   ]
  },
  {
   "cell_type": "code",
   "execution_count": 30,
   "id": "97002d0c",
   "metadata": {},
   "outputs": [],
   "source": [
    "heartpy_features_df.replace([np.inf, -np.inf], np.nan, inplace=True)\n",
    "heartpy_features_df.fillna(0.0, inplace=True)  # Alternatif: df.fillna(df.median(), inplace=True)\n"
   ]
  },
  {
   "cell_type": "code",
   "execution_count": 31,
   "id": "9e3c674d",
   "metadata": {},
   "outputs": [],
   "source": [
    "heartpy_val_df.replace([np.inf, -np.inf], np.nan, inplace=True)\n",
    "heartpy_val_df.fillna(0.0, inplace=True)  # Alternatif: df.fillna(df.median(), inplace=True)"
   ]
  },
  {
   "cell_type": "code",
   "execution_count": 32,
   "id": "1545b9c8",
   "metadata": {},
   "outputs": [],
   "source": [
    "from sklearn.preprocessing import StandardScaler\n",
    "\n",
    "scaler = StandardScaler()\n",
    "features = [\"sdnn\", \"rmssd\", \"pnn50\", \"hr_mad\"]\n",
    "\n",
    "heartpy_features_df[features] = scaler.fit_transform(heartpy_features_df[features])\n"
   ]
  },
  {
   "cell_type": "code",
   "execution_count": 33,
   "id": "2d481b30",
   "metadata": {},
   "outputs": [],
   "source": [
    "scaler = StandardScaler()\n",
    "features = [\"sdnn\", \"rmssd\", \"pnn50\", \"hr_mad\"]\n",
    "\n",
    "heartpy_val_df[features] = scaler.fit_transform(heartpy_val_df[features])"
   ]
  },
  {
   "cell_type": "code",
   "execution_count": 34,
   "id": "c77571ce",
   "metadata": {},
   "outputs": [],
   "source": [
    "train_dataset = ECGDatasetWithFeatures(heartpy_features_df)\n",
    "val_dataset = ECGDatasetWithFeatures(heartpy_val_df)\n",
    "\n",
    "train_loader = DataLoader(train_dataset, batch_size=32, shuffle=True, generator=torch.Generator().manual_seed(42))\n",
    "val_loader = DataLoader(val_dataset, batch_size=32)\n"
   ]
  },
  {
   "cell_type": "code",
   "execution_count": 35,
   "id": "bc1d73da",
   "metadata": {},
   "outputs": [],
   "source": [
    "def train_one_epoch_new(model, dataloader, optimizer, loss_fn):\n",
    "    model.train()\n",
    "    running_loss = 0.0\n",
    "    correct = 0\n",
    "    total = 0\n",
    "\n",
    "    for signals, features, labels in dataloader:\n",
    "        signals = signals.float()\n",
    "        features = features.float()\n",
    "        labels = labels.long()\n",
    "\n",
    "        optimizer.zero_grad()\n",
    "        outputs = model(signals, features)\n",
    "\n",
    "        loss = loss_fn(outputs, labels)\n",
    "        loss.backward()\n",
    "        optimizer.step()\n",
    "\n",
    "        running_loss += loss.item() * signals.size(0)\n",
    "        _, predicted = torch.max(outputs, 1)\n",
    "        correct += (predicted == labels).sum().item()\n",
    "        total += labels.size(0)\n",
    "\n",
    "    epoch_loss = running_loss / total\n",
    "    epoch_acc = correct / total\n",
    "    return epoch_loss, epoch_acc\n"
   ]
  },
  {
   "cell_type": "code",
   "execution_count": 36,
   "id": "84569064",
   "metadata": {},
   "outputs": [],
   "source": [
    "from sklearn.metrics import f1_score, precision_score, confusion_matrix, classification_report\n",
    "\n",
    "def evaluate_with_metrics_new(model, dataloader, loss_fn):\n",
    "    model.eval()\n",
    "    running_loss = 0.0\n",
    "    correct = 0\n",
    "    total = 0\n",
    "\n",
    "    all_labels = []\n",
    "    all_preds = []\n",
    "\n",
    "    with torch.no_grad():\n",
    "        for signals, features, labels in dataloader:\n",
    "            signals = signals.float()\n",
    "            features = features.float()\n",
    "            labels = labels.long()\n",
    "\n",
    "            outputs = model(signals, features)\n",
    "            loss = loss_fn(outputs, labels)\n",
    "\n",
    "            running_loss += loss.item() * signals.size(0)\n",
    "            _, predicted = torch.max(outputs, 1)\n",
    "            correct += (predicted == labels).sum().item()\n",
    "            total += labels.size(0)\n",
    "\n",
    "            all_labels.extend(labels.tolist())\n",
    "            all_preds.extend(predicted.tolist())\n",
    "\n",
    "    epoch_loss = running_loss / total\n",
    "    epoch_acc = correct / total\n",
    "    val_f1 = f1_score(all_labels, all_preds, average='macro', zero_division=0)\n",
    "    val_precision = precision_score(all_labels, all_preds, average='macro', zero_division=0)\n",
    "    cm = confusion_matrix(all_labels, all_preds)\n",
    "    report = classification_report(all_labels, all_preds, digits=4)\n",
    "\n",
    "    return epoch_loss, epoch_acc, val_f1, val_precision, cm, report\n"
   ]
  },
  {
   "cell_type": "code",
   "execution_count": 37,
   "id": "d3fd8274",
   "metadata": {},
   "outputs": [],
   "source": [
    "from sklearn.utils.class_weight import compute_class_weight\n",
    "original_weights = compute_class_weight(\n",
    "            class_weight='balanced',\n",
    "            classes=np.array([0, 1, 2, 3]),\n",
    "            y=heartpy_features_df['label'].values\n",
    "        )\n",
    "scaled_weights = original_weights / original_weights.max()\n",
    "scaled_weights = 0.5 + (scaled_weights * 0.5)\n",
    "weights_tensor = torch.tensor(scaled_weights, dtype=torch.float32)"
   ]
  },
  {
   "cell_type": "code",
   "execution_count": 45,
   "id": "0dd97295",
   "metadata": {},
   "outputs": [
    {
     "name": "stderr",
     "output_type": "stream",
     "text": [
      "c:\\Users\\emert\\AppData\\Local\\Programs\\Python\\Python311\\Lib\\site-packages\\sklearn\\metrics\\_classification.py:1497: UndefinedMetricWarning: Precision is ill-defined and being set to 0.0 in labels with no predicted samples. Use `zero_division` parameter to control this behavior.\n",
      "  _warn_prf(average, modifier, f\"{metric.capitalize()} is\", len(result))\n",
      "c:\\Users\\emert\\AppData\\Local\\Programs\\Python\\Python311\\Lib\\site-packages\\sklearn\\metrics\\_classification.py:1497: UndefinedMetricWarning: Precision is ill-defined and being set to 0.0 in labels with no predicted samples. Use `zero_division` parameter to control this behavior.\n",
      "  _warn_prf(average, modifier, f\"{metric.capitalize()} is\", len(result))\n",
      "c:\\Users\\emert\\AppData\\Local\\Programs\\Python\\Python311\\Lib\\site-packages\\sklearn\\metrics\\_classification.py:1497: UndefinedMetricWarning: Precision is ill-defined and being set to 0.0 in labels with no predicted samples. Use `zero_division` parameter to control this behavior.\n",
      "  _warn_prf(average, modifier, f\"{metric.capitalize()} is\", len(result))\n"
     ]
    },
    {
     "name": "stdout",
     "output_type": "stream",
     "text": [
      "Epoch 1/15\n",
      "Train Loss: 1.0878 | Train Acc: 0.5765\n",
      "Val   Loss: 0.9884 | Val   Acc: 0.5804\n",
      "Val   F1: 0.2367 | Val Precision: 0.2030\n",
      "----------------------------------------\n"
     ]
    },
    {
     "name": "stderr",
     "output_type": "stream",
     "text": [
      "c:\\Users\\emert\\AppData\\Local\\Programs\\Python\\Python311\\Lib\\site-packages\\sklearn\\metrics\\_classification.py:1497: UndefinedMetricWarning: Precision is ill-defined and being set to 0.0 in labels with no predicted samples. Use `zero_division` parameter to control this behavior.\n",
      "  _warn_prf(average, modifier, f\"{metric.capitalize()} is\", len(result))\n",
      "c:\\Users\\emert\\AppData\\Local\\Programs\\Python\\Python311\\Lib\\site-packages\\sklearn\\metrics\\_classification.py:1497: UndefinedMetricWarning: Precision is ill-defined and being set to 0.0 in labels with no predicted samples. Use `zero_division` parameter to control this behavior.\n",
      "  _warn_prf(average, modifier, f\"{metric.capitalize()} is\", len(result))\n",
      "c:\\Users\\emert\\AppData\\Local\\Programs\\Python\\Python311\\Lib\\site-packages\\sklearn\\metrics\\_classification.py:1497: UndefinedMetricWarning: Precision is ill-defined and being set to 0.0 in labels with no predicted samples. Use `zero_division` parameter to control this behavior.\n",
      "  _warn_prf(average, modifier, f\"{metric.capitalize()} is\", len(result))\n"
     ]
    },
    {
     "name": "stdout",
     "output_type": "stream",
     "text": [
      "Epoch 2/15\n",
      "Train Loss: 1.0471 | Train Acc: 0.5861\n",
      "Val   Loss: 0.9764 | Val   Acc: 0.5782\n",
      "Val   F1: 0.2310 | Val Precision: 0.1919\n",
      "----------------------------------------\n",
      "EarlyStopping Counter: 1 / 5\n"
     ]
    },
    {
     "name": "stderr",
     "output_type": "stream",
     "text": [
      "c:\\Users\\emert\\AppData\\Local\\Programs\\Python\\Python311\\Lib\\site-packages\\sklearn\\metrics\\_classification.py:1497: UndefinedMetricWarning: Precision is ill-defined and being set to 0.0 in labels with no predicted samples. Use `zero_division` parameter to control this behavior.\n",
      "  _warn_prf(average, modifier, f\"{metric.capitalize()} is\", len(result))\n",
      "c:\\Users\\emert\\AppData\\Local\\Programs\\Python\\Python311\\Lib\\site-packages\\sklearn\\metrics\\_classification.py:1497: UndefinedMetricWarning: Precision is ill-defined and being set to 0.0 in labels with no predicted samples. Use `zero_division` parameter to control this behavior.\n",
      "  _warn_prf(average, modifier, f\"{metric.capitalize()} is\", len(result))\n",
      "c:\\Users\\emert\\AppData\\Local\\Programs\\Python\\Python311\\Lib\\site-packages\\sklearn\\metrics\\_classification.py:1497: UndefinedMetricWarning: Precision is ill-defined and being set to 0.0 in labels with no predicted samples. Use `zero_division` parameter to control this behavior.\n",
      "  _warn_prf(average, modifier, f\"{metric.capitalize()} is\", len(result))\n"
     ]
    },
    {
     "name": "stdout",
     "output_type": "stream",
     "text": [
      "Epoch 3/15\n",
      "Train Loss: 1.0321 | Train Acc: 0.5851\n",
      "Val   Loss: 0.9750 | Val   Acc: 0.5836\n",
      "Val   F1: 0.2148 | Val Precision: 0.1975\n",
      "----------------------------------------\n",
      "EarlyStopping Counter: 2 / 5\n"
     ]
    },
    {
     "name": "stderr",
     "output_type": "stream",
     "text": [
      "c:\\Users\\emert\\AppData\\Local\\Programs\\Python\\Python311\\Lib\\site-packages\\sklearn\\metrics\\_classification.py:1497: UndefinedMetricWarning: Precision is ill-defined and being set to 0.0 in labels with no predicted samples. Use `zero_division` parameter to control this behavior.\n",
      "  _warn_prf(average, modifier, f\"{metric.capitalize()} is\", len(result))\n",
      "c:\\Users\\emert\\AppData\\Local\\Programs\\Python\\Python311\\Lib\\site-packages\\sklearn\\metrics\\_classification.py:1497: UndefinedMetricWarning: Precision is ill-defined and being set to 0.0 in labels with no predicted samples. Use `zero_division` parameter to control this behavior.\n",
      "  _warn_prf(average, modifier, f\"{metric.capitalize()} is\", len(result))\n",
      "c:\\Users\\emert\\AppData\\Local\\Programs\\Python\\Python311\\Lib\\site-packages\\sklearn\\metrics\\_classification.py:1497: UndefinedMetricWarning: Precision is ill-defined and being set to 0.0 in labels with no predicted samples. Use `zero_division` parameter to control this behavior.\n",
      "  _warn_prf(average, modifier, f\"{metric.capitalize()} is\", len(result))\n"
     ]
    },
    {
     "name": "stdout",
     "output_type": "stream",
     "text": [
      "Epoch 4/15\n",
      "Train Loss: 1.0203 | Train Acc: 0.5878\n",
      "Val   Loss: 0.9557 | Val   Acc: 0.5793\n",
      "Val   F1: 0.2096 | Val Precision: 0.1780\n",
      "----------------------------------------\n",
      "EarlyStopping Counter: 3 / 5\n"
     ]
    },
    {
     "name": "stderr",
     "output_type": "stream",
     "text": [
      "c:\\Users\\emert\\AppData\\Local\\Programs\\Python\\Python311\\Lib\\site-packages\\sklearn\\metrics\\_classification.py:1497: UndefinedMetricWarning: Precision is ill-defined and being set to 0.0 in labels with no predicted samples. Use `zero_division` parameter to control this behavior.\n",
      "  _warn_prf(average, modifier, f\"{metric.capitalize()} is\", len(result))\n",
      "c:\\Users\\emert\\AppData\\Local\\Programs\\Python\\Python311\\Lib\\site-packages\\sklearn\\metrics\\_classification.py:1497: UndefinedMetricWarning: Precision is ill-defined and being set to 0.0 in labels with no predicted samples. Use `zero_division` parameter to control this behavior.\n",
      "  _warn_prf(average, modifier, f\"{metric.capitalize()} is\", len(result))\n",
      "c:\\Users\\emert\\AppData\\Local\\Programs\\Python\\Python311\\Lib\\site-packages\\sklearn\\metrics\\_classification.py:1497: UndefinedMetricWarning: Precision is ill-defined and being set to 0.0 in labels with no predicted samples. Use `zero_division` parameter to control this behavior.\n",
      "  _warn_prf(average, modifier, f\"{metric.capitalize()} is\", len(result))\n"
     ]
    },
    {
     "name": "stdout",
     "output_type": "stream",
     "text": [
      "Epoch 5/15\n",
      "Train Loss: 1.0066 | Train Acc: 0.5847\n",
      "Val   Loss: 0.9379 | Val   Acc: 0.5858\n",
      "Val   F1: 0.2141 | Val Precision: 0.1902\n",
      "----------------------------------------\n",
      "EarlyStopping Counter: 4 / 5\n"
     ]
    },
    {
     "name": "stderr",
     "output_type": "stream",
     "text": [
      "c:\\Users\\emert\\AppData\\Local\\Programs\\Python\\Python311\\Lib\\site-packages\\sklearn\\metrics\\_classification.py:1497: UndefinedMetricWarning: Precision is ill-defined and being set to 0.0 in labels with no predicted samples. Use `zero_division` parameter to control this behavior.\n",
      "  _warn_prf(average, modifier, f\"{metric.capitalize()} is\", len(result))\n",
      "c:\\Users\\emert\\AppData\\Local\\Programs\\Python\\Python311\\Lib\\site-packages\\sklearn\\metrics\\_classification.py:1497: UndefinedMetricWarning: Precision is ill-defined and being set to 0.0 in labels with no predicted samples. Use `zero_division` parameter to control this behavior.\n",
      "  _warn_prf(average, modifier, f\"{metric.capitalize()} is\", len(result))\n",
      "c:\\Users\\emert\\AppData\\Local\\Programs\\Python\\Python311\\Lib\\site-packages\\sklearn\\metrics\\_classification.py:1497: UndefinedMetricWarning: Precision is ill-defined and being set to 0.0 in labels with no predicted samples. Use `zero_division` parameter to control this behavior.\n",
      "  _warn_prf(average, modifier, f\"{metric.capitalize()} is\", len(result))\n"
     ]
    },
    {
     "name": "stdout",
     "output_type": "stream",
     "text": [
      "Epoch 6/15\n",
      "Train Loss: 0.9862 | Train Acc: 0.5891\n",
      "Val   Loss: 0.8996 | Val   Acc: 0.5901\n",
      "Val   F1: 0.2421 | Val Precision: 0.3501\n",
      "----------------------------------------\n",
      "Epoch 7/15\n",
      "Train Loss: 0.9555 | Train Acc: 0.6000\n",
      "Val   Loss: 0.8560 | Val   Acc: 0.6170\n",
      "Val   F1: 0.3314 | Val Precision: 0.4978\n",
      "----------------------------------------\n",
      "Epoch 8/15\n",
      "Train Loss: 0.9245 | Train Acc: 0.6192\n",
      "Val   Loss: 0.9906 | Val   Acc: 0.5394\n",
      "Val   F1: 0.3801 | Val Precision: 0.5987\n",
      "----------------------------------------\n",
      "Epoch 9/15\n",
      "Train Loss: 0.8938 | Train Acc: 0.6333\n",
      "Val   Loss: 0.7895 | Val   Acc: 0.6505\n",
      "Val   F1: 0.4152 | Val Precision: 0.5346\n",
      "----------------------------------------\n",
      "Epoch 10/15\n",
      "Train Loss: 0.8407 | Train Acc: 0.6594\n",
      "Val   Loss: 0.8006 | Val   Acc: 0.6408\n",
      "Val   F1: 0.5299 | Val Precision: 0.5433\n",
      "----------------------------------------\n",
      "Epoch 11/15\n",
      "Train Loss: 0.8139 | Train Acc: 0.6759\n",
      "Val   Loss: 0.7312 | Val   Acc: 0.6807\n",
      "Val   F1: 0.5601 | Val Precision: 0.5887\n",
      "----------------------------------------\n",
      "Epoch 12/15\n",
      "Train Loss: 0.7936 | Train Acc: 0.6813\n",
      "Val   Loss: 0.7475 | Val   Acc: 0.6645\n",
      "Val   F1: 0.5097 | Val Precision: 0.6058\n",
      "----------------------------------------\n",
      "EarlyStopping Counter: 1 / 5\n",
      "Epoch 13/15\n",
      "Train Loss: 0.7547 | Train Acc: 0.6952\n",
      "Val   Loss: 0.7285 | Val   Acc: 0.6893\n",
      "Val   F1: 0.5724 | Val Precision: 0.5729\n",
      "----------------------------------------\n",
      "Epoch 14/15\n",
      "Train Loss: 0.7316 | Train Acc: 0.7053\n",
      "Val   Loss: 0.7067 | Val   Acc: 0.6926\n",
      "Val   F1: 0.5533 | Val Precision: 0.6356\n",
      "----------------------------------------\n",
      "EarlyStopping Counter: 1 / 5\n",
      "Epoch 15/15\n",
      "Train Loss: 0.7290 | Train Acc: 0.7129\n",
      "Val   Loss: 0.6998 | Val   Acc: 0.7141\n",
      "Val   F1: 0.5852 | Val Precision: 0.6307\n",
      "----------------------------------------\n"
     ]
    }
   ],
   "source": [
    "import copy\n",
    "\n",
    "\n",
    "model = ECGModelWithHeartFeatures(hidden_size=256, dropout_rate=0.3)\n",
    "optimizer = torch.optim.Adam(model.parameters(), lr=0.0005)\n",
    "loss_fn = nn.CrossEntropyLoss(weight=weights_tensor)\n",
    "\n",
    "# Training\n",
    "best_val_f1 = 0\n",
    "patience = 5\n",
    "counter = 0\n",
    "best_model_state = None\n",
    "num_epochs = 15\n",
    "\n",
    "for epoch in range(num_epochs):\n",
    "    train_loss, train_acc = train_one_epoch_new(model, train_loader, optimizer, loss_fn)\n",
    "    val_loss, val_acc, val_f1, val_precision, cm, val_report = evaluate_with_metrics_new(model, val_loader, loss_fn)\n",
    "\n",
    "    print(f\"Epoch {epoch+1}/{num_epochs}\")\n",
    "    print(f\"Train Loss: {train_loss:.4f} | Train Acc: {train_acc:.4f}\")\n",
    "    print(f\"Val   Loss: {val_loss:.4f} | Val   Acc: {val_acc:.4f}\")\n",
    "    print(f\"Val   F1: {val_f1:.4f} | Val Precision: {val_precision:.4f}\")\n",
    "    print(\"-\" * 40)\n",
    "    if val_f1 > best_val_f1:\n",
    "        best_val_f1 = val_f1\n",
    "        best_model_state = copy.deepcopy(model.state_dict())\n",
    "        counter = 0\n",
    "    else:\n",
    "        counter += 1\n",
    "        print(f\"EarlyStopping Counter: {counter} / {patience}\")\n",
    "        if counter >= patience:\n",
    "            print(\"Early stopping triggered!\")\n",
    "            break"
   ]
  },
  {
   "cell_type": "code",
   "execution_count": null,
   "id": "b7046b44",
   "metadata": {},
   "outputs": [
    {
     "name": "stdout",
     "output_type": "stream",
     "text": [
      "Validation F1 Score: 0.5852\n",
      "Confusion Matrix:\n",
      " [[493   8  40   3]\n",
      " [ 20  39  19   6]\n",
      " [129  16 115   4]\n",
      " [  7   1  12  15]]\n",
      "Classification Report:\n",
      "               precision    recall  f1-score   support\n",
      "\n",
      "           0     0.7596    0.9062    0.8265       544\n",
      "           1     0.6094    0.4643    0.5270        84\n",
      "           2     0.6183    0.4356    0.5111       264\n",
      "           3     0.5357    0.4286    0.4762        35\n",
      "\n",
      "    accuracy                         0.7141       927\n",
      "   macro avg     0.6307    0.5587    0.5852       927\n",
      "weighted avg     0.6973    0.7141    0.6963       927\n",
      "\n"
     ]
    }
   ],
   "source": [
    "model.load_state_dict(best_model_state)\n",
    "val_loss, val_acc, val_f1, val_precision, val_cm, val_report = evaluate_with_metrics_new(model, val_loader, loss_fn)\n",
    "print(f\"Validation F1 Score: {val_f1:.4f}\")\n",
    "print(\"Confusion Matrix:\\n\", val_cm)\n",
    "print(\"Classification Report:\\n\", val_report)\n"
   ]
  },
  {
   "cell_type": "markdown",
   "id": "99010d84",
   "metadata": {},
   "source": [
    "# model result"
   ]
  },
  {
   "cell_type": "code",
   "execution_count": 57,
   "id": "7516512c",
   "metadata": {},
   "outputs": [
    {
     "name": "stdout",
     "output_type": "stream",
     "text": [
      "label\n",
      "0    3094\n",
      "2    1501\n",
      "1    1500\n",
      "3    1500\n",
      "Name: count, dtype: int64\n"
     ]
    }
   ],
   "source": [
    "balanced_train_df = oversample_minority_classes(heartpy_features_df)\n",
    "\n",
    "\n",
    "print(balanced_train_df['label'].value_counts())\n"
   ]
  },
  {
   "cell_type": "code",
   "execution_count": 58,
   "id": "a04d42b9",
   "metadata": {},
   "outputs": [],
   "source": [
    "original_weights = compute_class_weight(\n",
    "            class_weight='balanced',\n",
    "            classes=np.array([0, 1, 2, 3]),\n",
    "            y=balanced_train_df['label'].values\n",
    "        )\n",
    "scaled_weights = original_weights / original_weights.max()\n",
    "scaled_weights = 0.5 + (scaled_weights * 0.5)\n",
    "weights_tensor = torch.tensor(scaled_weights, dtype=torch.float32)"
   ]
  },
  {
   "cell_type": "code",
   "execution_count": 59,
   "id": "e90ee3c3",
   "metadata": {},
   "outputs": [],
   "source": [
    "\n",
    "model = ECGModelWithHeartFeatures(hidden_size=256, dropout_rate=0.3)\n",
    "optimizer = torch.optim.Adam(model.parameters(), lr=0.0005)\n",
    "loss_fn = nn.CrossEntropyLoss(weight=weights_tensor)\n",
    "train_dataset = ECGDatasetWithFeatures(balanced_train_df)\n",
    "val_dataset = ECGDatasetWithFeatures(heartpy_val_df)\n",
    "\n",
    "train_loader = DataLoader(train_dataset, batch_size=32, shuffle=True, generator=torch.Generator().manual_seed(42))\n",
    "val_loader = DataLoader(val_dataset, batch_size=32)\n"
   ]
  },
  {
   "cell_type": "code",
   "execution_count": null,
   "id": "f1a9bb0b",
   "metadata": {},
   "outputs": [
    {
     "name": "stderr",
     "output_type": "stream",
     "text": [
      "c:\\Users\\emert\\AppData\\Local\\Programs\\Python\\Python311\\Lib\\site-packages\\sklearn\\metrics\\_classification.py:1497: UndefinedMetricWarning: Precision is ill-defined and being set to 0.0 in labels with no predicted samples. Use `zero_division` parameter to control this behavior.\n",
      "  _warn_prf(average, modifier, f\"{metric.capitalize()} is\", len(result))\n",
      "c:\\Users\\emert\\AppData\\Local\\Programs\\Python\\Python311\\Lib\\site-packages\\sklearn\\metrics\\_classification.py:1497: UndefinedMetricWarning: Precision is ill-defined and being set to 0.0 in labels with no predicted samples. Use `zero_division` parameter to control this behavior.\n",
      "  _warn_prf(average, modifier, f\"{metric.capitalize()} is\", len(result))\n",
      "c:\\Users\\emert\\AppData\\Local\\Programs\\Python\\Python311\\Lib\\site-packages\\sklearn\\metrics\\_classification.py:1497: UndefinedMetricWarning: Precision is ill-defined and being set to 0.0 in labels with no predicted samples. Use `zero_division` parameter to control this behavior.\n",
      "  _warn_prf(average, modifier, f\"{metric.capitalize()} is\", len(result))\n"
     ]
    },
    {
     "name": "stdout",
     "output_type": "stream",
     "text": [
      "Epoch 1/15\n",
      "Train Loss: 1.2421 | Train Acc: 0.4616\n",
      "Val   Loss: 1.2076 | Val   Acc: 0.4488\n",
      "Val   F1: 0.2992 | Val Precision: 0.2531\n",
      "----------------------------------------\n",
      "Epoch 2/15\n",
      "Train Loss: 1.0708 | Train Acc: 0.5325\n",
      "Val   Loss: 0.9670 | Val   Acc: 0.5804\n",
      "Val   F1: 0.3782 | Val Precision: 0.5714\n",
      "----------------------------------------\n",
      "Epoch 3/15\n",
      "Train Loss: 0.9985 | Train Acc: 0.5895\n",
      "Val   Loss: 0.9751 | Val   Acc: 0.5491\n",
      "Val   F1: 0.4257 | Val Precision: 0.5051\n",
      "----------------------------------------\n",
      "Epoch 4/15\n",
      "Train Loss: 0.8945 | Train Acc: 0.6409\n",
      "Val   Loss: 1.0490 | Val   Acc: 0.5286\n",
      "Val   F1: 0.4494 | Val Precision: 0.5113\n",
      "----------------------------------------\n",
      "Epoch 5/15\n",
      "Train Loss: 0.8588 | Train Acc: 0.6519\n",
      "Val   Loss: 0.8660 | Val   Acc: 0.6289\n",
      "Val   F1: 0.5338 | Val Precision: 0.5212\n",
      "----------------------------------------\n",
      "Epoch 6/15\n",
      "Train Loss: 0.8034 | Train Acc: 0.6757\n",
      "Val   Loss: 0.8593 | Val   Acc: 0.6030\n",
      "Val   F1: 0.4770 | Val Precision: 0.5147\n",
      "----------------------------------------\n",
      "EarlyStopping Counter: 1 / 5\n",
      "Epoch 7/15\n",
      "Train Loss: 0.7807 | Train Acc: 0.6872\n",
      "Val   Loss: 0.8715 | Val   Acc: 0.6203\n",
      "Val   F1: 0.5060 | Val Precision: 0.5105\n",
      "----------------------------------------\n",
      "EarlyStopping Counter: 2 / 5\n",
      "Epoch 8/15\n",
      "Train Loss: 0.7168 | Train Acc: 0.7115\n",
      "Val   Loss: 0.8524 | Val   Acc: 0.6375\n",
      "Val   F1: 0.5346 | Val Precision: 0.5149\n",
      "----------------------------------------\n",
      "Epoch 9/15\n",
      "Train Loss: 0.6727 | Train Acc: 0.7300\n",
      "Val   Loss: 0.8232 | Val   Acc: 0.6602\n",
      "Val   F1: 0.5563 | Val Precision: 0.5406\n",
      "----------------------------------------\n",
      "Epoch 10/15\n",
      "Train Loss: 0.6299 | Train Acc: 0.7422\n",
      "Val   Loss: 0.8037 | Val   Acc: 0.6645\n",
      "Val   F1: 0.5567 | Val Precision: 0.5409\n",
      "----------------------------------------\n"
     ]
    }
   ],
   "source": [
    "best_val_f1 = 0\n",
    "patience = 5\n",
    "counter = 0\n",
    "best_model_state = None\n",
    "num_epochs = 15\n",
    "\n",
    "for epoch in range(num_epochs):\n",
    "    train_loss, train_acc = train_one_epoch_new(model, train_loader, optimizer, loss_fn)\n",
    "    val_loss, val_acc, val_f1, val_precision, cm, val_report = evaluate_with_metrics_new(model, val_loader, loss_fn)\n",
    "\n",
    "    print(f\"Epoch {epoch+1}/{num_epochs}\")\n",
    "    print(f\"Train Loss: {train_loss:.4f} | Train Acc: {train_acc:.4f}\")\n",
    "    print(f\"Val   Loss: {val_loss:.4f} | Val   Acc: {val_acc:.4f}\")\n",
    "    print(f\"Val   F1: {val_f1:.4f} | Val Precision: {val_precision:.4f}\")\n",
    "    print(\"-\" * 40)\n",
    "    if val_f1 > best_val_f1:\n",
    "        best_val_f1 = val_f1\n",
    "        best_model_state = copy.deepcopy(model.state_dict())\n",
    "        counter = 0\n",
    "    else:\n",
    "        counter += 1\n",
    "        print(f\"EarlyStopping Counter: {counter} / {patience}\")\n",
    "        if counter >= patience:\n",
    "            print(\"Early stopping triggered!\")\n",
    "            break"
   ]
  },
  {
   "cell_type": "code",
   "execution_count": null,
   "id": "c5e58307",
   "metadata": {},
   "outputs": [],
   "source": [
    "# save model as a file\n",
    "import torch\n",
    "torch.save(model.state_dict(), \"ecg_model_with_heart_features.pth\")\n"
   ]
  },
  {
   "cell_type": "code",
   "execution_count": 51,
   "id": "bcff9d00",
   "metadata": {},
   "outputs": [
    {
     "name": "stdout",
     "output_type": "stream",
     "text": [
      "Validation F1 Score: 0.6567\n",
      "Confusion Matrix:\n",
      " [[480  12  46   6]\n",
      " [ 11  48  20   5]\n",
      " [ 92  20 146   6]\n",
      " [  5   2   6  22]]\n",
      "Classification Report:\n",
      "               precision    recall  f1-score   support\n",
      "\n",
      "           0     0.8163    0.8824    0.8481       544\n",
      "           1     0.5854    0.5714    0.5783        84\n",
      "           2     0.6697    0.5530    0.6058       264\n",
      "           3     0.5641    0.6286    0.5946        35\n",
      "\n",
      "    accuracy                         0.7508       927\n",
      "   macro avg     0.6589    0.6588    0.6567       927\n",
      "weighted avg     0.7441    0.7508    0.7451       927\n",
      "\n"
     ]
    }
   ],
   "source": [
    "# load model from a file\n",
    "model = ECGModelWithHeartFeatures(hidden_size=256, dropout_rate=0.3)\n",
    "model.load_state_dict(torch.load(\"ecg_model_with_heart_features.pth\"))\n",
    "val_loss, val_acc, val_f1, val_precision, val_cm, val_report = evaluate_with_metrics_new(model, val_loader, loss_fn)\n",
    "print(f\"Validation F1 Score: {val_f1:.4f}\")\n",
    "print(\"Confusion Matrix:\\n\", val_cm)\n",
    "print(\"Classification Report:\\n\", val_report)"
   ]
  },
  {
   "cell_type": "code",
   "execution_count": 48,
   "id": "28ee1d96",
   "metadata": {},
   "outputs": [
    {
     "name": "stdout",
     "output_type": "stream",
     "text": [
      "Validation F1 Score: 0.6567\n",
      "Confusion Matrix:\n",
      " [[480  12  46   6]\n",
      " [ 11  48  20   5]\n",
      " [ 92  20 146   6]\n",
      " [  5   2   6  22]]\n",
      "Classification Report:\n",
      "               precision    recall  f1-score   support\n",
      "\n",
      "           0     0.8163    0.8824    0.8481       544\n",
      "           1     0.5854    0.5714    0.5783        84\n",
      "           2     0.6697    0.5530    0.6058       264\n",
      "           3     0.5641    0.6286    0.5946        35\n",
      "\n",
      "    accuracy                         0.7508       927\n",
      "   macro avg     0.6589    0.6588    0.6567       927\n",
      "weighted avg     0.7441    0.7508    0.7451       927\n",
      "\n"
     ]
    }
   ],
   "source": [
    "model.load_state_dict(best_model_state)\n",
    "val_loss, val_acc, val_f1, val_precision, val_cm, val_report = evaluate_with_metrics_new(model, val_loader, loss_fn)\n",
    "print(f\"Validation F1 Score: {val_f1:.4f}\")\n",
    "print(\"Confusion Matrix:\\n\", val_cm)\n",
    "print(\"Classification Report:\\n\", val_report)\n"
   ]
  }
 ],
 "metadata": {
  "kernelspec": {
   "display_name": "Python 3",
   "language": "python",
   "name": "python3"
  },
  "language_info": {
   "codemirror_mode": {
    "name": "ipython",
    "version": 3
   },
   "file_extension": ".py",
   "mimetype": "text/x-python",
   "name": "python",
   "nbconvert_exporter": "python",
   "pygments_lexer": "ipython3",
   "version": "3.11.3"
  }
 },
 "nbformat": 4,
 "nbformat_minor": 5
}
