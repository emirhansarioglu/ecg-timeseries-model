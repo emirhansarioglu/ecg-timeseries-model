{
  "nbformat": 4,
  "nbformat_minor": 0,
  "metadata": {
    "colab": {
      "provenance": []
    },
    "kernelspec": {
      "name": "python3",
      "display_name": "Python 3"
    },
    "language_info": {
      "name": "python"
    }
  },
  "cells": [
    {
      "cell_type": "code",
      "execution_count": null,
      "metadata": {
        "colab": {
          "base_uri": "https://localhost:8080/"
        },
        "id": "RuFHWlJfKAHR",
        "outputId": "06ecead1-6d4e-4892-c3fa-9d0b7bbc95fd"
      },
      "outputs": [
        {
          "output_type": "stream",
          "name": "stdout",
          "text": [
            "Mounted at /content/drive\n"
          ]
        }
      ],
      "source": [
        "from google.colab import drive\n",
        "drive.mount('/content/drive')\n",
        "\n",
        "train_data_path = '/content/drive/My Drive/ECG-Timeseries-Classification/Dataset/train_df.pkl'\n",
        "val_data_path = '/content/drive/My Drive/ECG-Timeseries-Classification/Dataset/val_df.pkl'\n",
        "test_data_path = '/content/drive/My Drive/ECG-Timeseries-Classification/Dataset/test_df.pkl'"
      ]
    },
    {
      "cell_type": "code",
      "source": [
        "import pandas as pd\n",
        "import torch.nn as nn\n",
        "import torch.nn.functional as F\n",
        "import random\n",
        "import numpy as np\n",
        "import torch\n",
        "import torch.optim as optim\n",
        "from torch.nn.utils.rnn import pack_sequence, pad_sequence, pack_padded_sequence, pad_packed_sequence, PackedSequence\n",
        "from sklearn.metrics import f1_score, confusion_matrix, classification_report, accuracy_score\n",
        "from torch.utils.data import Dataset, DataLoader\n",
        "import torch.utils\n",
        "import torch.utils.data\n",
        "import scipy.signal\n",
        "import sklearn.svm\n",
        "from tqdm import tqdm\n",
        "from sklearn.utils.class_weight import compute_class_weight\n",
        "import matplotlib.pyplot as plt\n",
        "import seaborn as sns\n",
        "from scipy.fft import fft, ifft\n",
        "from sklearn.metrics import mean_absolute_error, mean_squared_error\n",
        "import matplotlib.pyplot as plt\n",
        "from typing import Tuple, List\n",
        "\n",
        "\n",
        "\n",
        "def set_seed(seed=42):\n",
        "    random.seed(seed)\n",
        "    np.random.seed(seed)\n",
        "    torch.manual_seed(seed)\n",
        "    torch.cuda.manual_seed(seed)\n",
        "    torch.backends.cudnn.deterministic = True\n",
        "    torch.backends.cudnn.benchmark = False\n",
        "\n",
        "set_seed(42)\n",
        "print(\"Seed set for reproducibility.\")\n",
        "\n",
        "\n",
        "INPUT_LENGTH = 9000\n",
        "BATCH_SIZE = 64\n",
        "NUM_WORKERS = 0\n",
        "NUM_CLASSES = 4\n",
        "EPOCHS = 10\n",
        "N_FFT = 256\n",
        "HOP_LENGTH = 128\n",
        "\n",
        "\n",
        "train_df = pd.read_pickle(train_data_path)\n",
        "val_df = pd.read_pickle(val_data_path)\n",
        "test_df = pd.read_pickle(test_data_path)\n",
        "print(train_df.head())"
      ],
      "metadata": {
        "colab": {
          "base_uri": "https://localhost:8080/"
        },
        "id": "WqLI4sDCKbdj",
        "outputId": "2878344a-c7fe-4154-ad58-e1bad5206b9f"
      },
      "execution_count": null,
      "outputs": [
        {
          "output_type": "stream",
          "name": "stdout",
          "text": [
            "Seed set for reproducibility.\n",
            "                                              signal  label      rr_std\n",
            "1  [-446, -541, -637, -733, -819, -858, -867, -87...      2  182.922570\n",
            "3  [-1255, -1488, -1745, -2015, -2253, -2374, -23...      0  123.855300\n",
            "4  [156, 189, 223, 255, 291, 330, 362, 380, 390, ...      0   32.132097\n",
            "5  [-22, -27, -33, -38, -40, -39, -36, -30, -23, ...      1  145.925780\n",
            "6  [291, 345, 405, 465, 510, 527, 516, 509, 507, ...      0   16.995531\n"
          ]
        }
      ]
    },
    {
      "cell_type": "code",
      "execution_count": null,
      "metadata": {
        "id": "xkm2sR3X-pv7"
      },
      "outputs": [],
      "source": [
        "\n",
        "\n",
        "\n",
        "class ECGDataset(torch.utils.data.Dataset):\n",
        "    def __init__(self, df, augmentation=None):\n",
        "        self.df = df\n",
        "        self.augmentation = augmentation\n",
        "        self.target_length = (\n",
        "            INPUT_LENGTH\n",
        "        )\n",
        "\n",
        "    def __len__(self):\n",
        "        return len(self.df)\n",
        "\n",
        "    def __getitem__(self, idx):\n",
        "        signal = self.df.iloc[idx][\"signal\"]\n",
        "        signal = np.array(signal, dtype=np.float32)\n",
        "        label = int(self.df.iloc[idx][\"label\"])\n",
        "\n",
        "        # keep it simple: time domain augmentation only\n",
        "        signal = pad_and_augment(\n",
        "            signal, self.augmentation\n",
        "        )  # has padding in it. the order of augmentations should be important (wrapping changes the shape but noise and scaling before padding makes it easier to distinguish the signal length)\n",
        "\n",
        "        signal = (signal - TRAINING_MEAN) / TRAINING_STD\n",
        "        signal = torch.tensor(signal, dtype=torch.float32)\n",
        "\n",
        "        return signal, label\n",
        "\n",
        "class TestECGDataset(torch.utils.data.Dataset):\n",
        "    def __init__(self, df):\n",
        "        self.df = df\n",
        "        self.target_length = INPUT_LENGTH\n",
        "\n",
        "    def __len__(self):\n",
        "        return len(self.df)\n",
        "\n",
        "    def __getitem__(self, idx):\n",
        "        signal = self.df.iloc[idx][\"signal\"]\n",
        "        signal = np.array(signal, dtype=np.float32)\n",
        "\n",
        "        # Only pad; no augmentation\n",
        "        signal = pad_and_augment(signal, augmentation=None)\n",
        "\n",
        "        # Normalize\n",
        "        signal = (signal - TRAINING_MEAN) / TRAINING_STD\n",
        "        signal = torch.tensor(signal, dtype=torch.float32)\n",
        "\n",
        "        return signal"
      ]
    },
    {
      "cell_type": "code",
      "source": [
        "class SimpleCNNwithoutClassifier(nn.Module):\n",
        "    def __init__(self, feature_size=50):\n",
        "        super(SimpleCNNwithoutClassifier, self).__init__()\n",
        "        self.feature_size = feature_size\n",
        "\n",
        "        self.convblock1 = nn.Sequential(\n",
        "            nn.LazyConv2d(out_channels=16, kernel_size=7, padding=3),\n",
        "            nn.BatchNorm2d(16),\n",
        "            nn.ReLU(),\n",
        "            nn.LazyConv2d(out_channels=16, kernel_size=7, padding=3),\n",
        "            nn.BatchNorm2d(16),\n",
        "        )\n",
        "        self.conv1 = nn.LazyConv2d(out_channels=16, kernel_size=1, padding=0)\n",
        "        self.maxpool1 = nn.MaxPool2d(kernel_size=2)\n",
        "\n",
        "        self.convblock2 = nn.Sequential(\n",
        "            nn.Conv2d(16, 32, kernel_size=5, padding=2),\n",
        "            nn.BatchNorm2d(32),\n",
        "            nn.ReLU(),\n",
        "        )\n",
        "        self.conv2 = nn.Conv2d(16, 32, kernel_size=1, padding=0)\n",
        "        self.maxpool2 = nn.MaxPool2d(kernel_size=2)\n",
        "\n",
        "        self.fc1 = None\n",
        "        self._fc1_initialized = False\n",
        "\n",
        "        self.apply(he_init_weights)\n",
        "\n",
        "    def forward(self, x):\n",
        "        x = x.squeeze(1)  # Remove channel dimension if present\n",
        "\n",
        "        x = compute_stft_batch(x)  # STFT → (batch, freq, time)\n",
        "        x = torch.log1p(x)  # Apply log1p transformation\n",
        "\n",
        "        x = x.unsqueeze(1)  # (batch, 1, freq, time)\n",
        "\n",
        "        # First residual block\n",
        "        x = self.convblock1(x) + self.conv1(x)  # Residual connection\n",
        "        x = nn.ReLU()(x)\n",
        "        x = self.maxpool1(x)\n",
        "        # Ensure the output shape is compatible with the next layer\n",
        "        if x.dim() == 3:  # If the output is 3D,\n",
        "            x = x.unsqueeze(1)  # Add channel dimension\n",
        "\n",
        "\n",
        "        x = self.convblock2(x) + self.conv2(x)\n",
        "        x = nn.ReLU()(x)\n",
        "        x = self.maxpool2(x)\n",
        "\n",
        "        if x.dim() == 3:  # If the output is 3D,\n",
        "            x = x.unsqueeze(1)  # Add channel dimension\n",
        "\n",
        "        # Flatten\n",
        "        batch_size = x.size(0)\n",
        "        x_flat = x.view(batch_size, -1)\n",
        "\n",
        "\n",
        "        if not self._fc1_initialized:\n",
        "            flattened_size = x_flat.size(1)\n",
        "            self.fc1 = nn.Linear(flattened_size, self.feature_size).to(x.device)\n",
        "            self._fc1_initialized = True\n",
        "            print(f\"Initialized fc1 with input size: {flattened_size}\")\n",
        "\n",
        "        x = self.fc1(x_flat)\n",
        "        return x\n",
        "\n",
        "\n",
        "\n",
        "class CNNwithSVM(nn.Module):\n",
        "    def __init__(self, num_classes=NUM_CLASSES, feature_size=128, svm_params=None):  # hidden_size\n",
        "        super().__init__()\n",
        "        self.cnn_feature_extractor = SimpleCNNwithoutClassifier(\n",
        "            feature_size=feature_size,\n",
        "        )\n",
        "        self.svm = SVC(**(svm_params or {}))\n",
        "        self.is_svm_trained = False\n",
        "        self._temp_classifier = None\n",
        "\n",
        "    def forward(self, x):\n",
        "        features = self.cnn_feature_extractor(x)\n",
        "        if hasattr(self, \"_temp_classifier\") and self._temp_classifier is not None:\n",
        "            return self._temp_classifier(features)\n",
        "        return features\n",
        "\n",
        "    def predict(self, x):\n",
        "        if not self.is_svm_trained:\n",
        "            raise ValueError(\"SVM not trained yet!\")\n",
        "        self.eval()\n",
        "        with torch.no_grad():\n",
        "            features = self.cnn_feature_extractor(x).cpu().numpy()\n",
        "        return self.svm.predict(features)\n",
        "\n",
        "    def _setup_temp_classifier(self, num_classes, device):\n",
        "        \"\"\"Add temporary classifier for CNN training\"\"\"\n",
        "        feature_size = self.cnn_feature_extractor.feature_size\n",
        "        self._temp_classifier = nn.Linear(feature_size, num_classes).to(device)\n",
        "\n",
        "    def _remove_temp_classifier(self):\n",
        "        \"\"\"Remove temporary classifier after CNN training\"\"\"\n",
        "        self._temp_classifier = None"
      ],
      "metadata": {
        "id": "7OWX_bp8Ab-Q"
      },
      "execution_count": null,
      "outputs": []
    },
    {
      "cell_type": "code",
      "source": [
        "def train_model(\n",
        "    model, train_loader, epochs=10, lr=0.001, batch_size_factor=4\n",
        "):\n",
        "    device = \"cuda\" if torch.cuda.is_available() else \"cpu\"\n",
        "    model.to(device)\n",
        "\n",
        "    is_cnn_svm = hasattr(model, \"svm\")\n",
        "    num_classes = len(torch.unique(torch.cat([labels for _, labels in train_loader])))\n",
        "\n",
        "    print(f\"Training {'CNN+SVM' if is_cnn_svm else 'CNN'} model on {device}\")\n",
        "\n",
        "    if is_cnn_svm:\n",
        "        model._setup_temp_classifier(num_classes, device)\n",
        "\n",
        "    optimizer = optim.Adam(model.parameters(), lr=lr)\n",
        "\n",
        "    # Compute class weights\n",
        "    original_weights = compute_class_weight(\n",
        "        class_weight=\"balanced\",\n",
        "        classes=np.unique(train_df[\"label\"]),\n",
        "        y=train_df[\"label\"],\n",
        "    )\n",
        "\n",
        "    scaled_weights = original_weights / original_weights.max()  # normalize to max=1\n",
        "    scaled_weights = 0.5 + (scaled_weights * 0.5)  # shrink range to [0.5, 1.0] for balance\n",
        "\n",
        "    weights_tensor = torch.tensor(scaled_weights, dtype=torch.float32).to(device)\n",
        "\n",
        "    criterion = nn.CrossEntropyLoss(weight=weights_tensor)\n",
        "\n",
        "    print(\"Training CNN feature extractor...\")\n",
        "    model.train()\n",
        "    for epoch in range(epochs):\n",
        "        total_loss, correct, total = 0, 0, 0\n",
        "\n",
        "        for signals, labels in tqdm(train_loader, desc=f\"Epoch {epoch+1}/{epochs}\"):\n",
        "            signals, labels = signals.unsqueeze(1).to(device), labels.to(device)\n",
        "\n",
        "            optimizer.zero_grad()\n",
        "            outputs = model(signals)\n",
        "            loss = criterion(outputs, labels)\n",
        "            loss.backward()\n",
        "            optimizer.step()\n",
        "\n",
        "            total_loss += loss.item()\n",
        "            _, predicted = outputs.max(1)\n",
        "            total += labels.size(0)\n",
        "            correct += predicted.eq(labels).sum().item()\n",
        "\n",
        "        acc = 100.0 * correct / total\n",
        "        print(\n",
        "            f\"Epoch {epoch+1}: Train Loss: {total_loss/len(train_loader):.4f}, Train Acc: {acc:.2f}%\"\n",
        "        )\n",
        "\n",
        "    if is_cnn_svm:\n",
        "        model._remove_temp_classifier()\n",
        "        _train_svm_phase(model, train_loader, device, batch_size_factor)\n",
        "\n",
        "    return model\n",
        "\n",
        "\n",
        "def _train_svm_phase(model, train_loader, device, batch_size_factor):\n",
        "\n",
        "    print(\"Training SVM...\")\n",
        "    model.eval()\n",
        "    all_features, all_labels = [], []\n",
        "    batch_features, batch_labels = [], []\n",
        "\n",
        "    # extract_features_from_loader(model, data_loader, device):\n",
        "    with torch.no_grad():\n",
        "        for signals, labels in tqdm(train_loader, desc=\"Extracting features\"):\n",
        "            signals = signals.unsqueeze(1).to(device)\n",
        "            features = model.cnn_feature_extractor(signals)\n",
        "\n",
        "            batch_features.append(features)\n",
        "            batch_labels.append(labels)\n",
        "\n",
        "            if len(batch_features) >= batch_size_factor:\n",
        "                combined_features = torch.cat(batch_features, dim=0).cpu().numpy()\n",
        "                combined_labels = torch.cat(batch_labels, dim=0).numpy()\n",
        "                all_features.append(combined_features)\n",
        "                all_labels.append(combined_labels)\n",
        "                batch_features, batch_labels = [], []\n",
        "\n",
        "    # Process remaining\n",
        "    if batch_features:\n",
        "        combined_features = torch.cat(batch_features, dim=0).cpu().numpy()\n",
        "        combined_labels = torch.cat(batch_labels, dim=0).numpy()\n",
        "        all_features.append(combined_features)\n",
        "        all_labels.append(combined_labels)\n",
        "\n",
        "    final_features = np.concatenate(all_features, axis=0)\n",
        "    final_labels = np.concatenate(all_labels, axis=0)\n",
        "\n",
        "    print(f\"Training SVM on {len(final_features)} samples\")\n",
        "    model.svm.fit(final_features, final_labels)\n",
        "    model.is_svm_trained = True\n",
        "\n",
        "\n",
        "def evaluate_model(model, val_loader, device):\n",
        "    print(\"Evaluating model...\")\n",
        "    model.eval()\n",
        "    all_predictions, all_labels = [], []\n",
        "    is_cnn_svm = hasattr(model, \"svm\")\n",
        "\n",
        "    with torch.no_grad():\n",
        "        for signals, labels in tqdm(val_loader, desc=\"Evaluating\"):\n",
        "            signals = signals.unsqueeze(1).to(device)\n",
        "\n",
        "            if is_cnn_svm:\n",
        "                features = model.cnn_feature_extractor(signals).cpu().numpy()\n",
        "                predictions = model.svm.predict(features)\n",
        "            else:\n",
        "                predictions = model.predict(signals)\n",
        "                predictions = predictions.cpu().numpy()\n",
        "\n",
        "            all_predictions.extend(predictions)\n",
        "            all_labels.extend(labels.numpy())\n",
        "\n",
        "    accuracy = accuracy_score(all_labels, all_predictions)\n",
        "    print(f\"Final Validation Accuracy: {accuracy:.4f}\")\n",
        "    print(classification_report(all_labels, all_predictions))\n",
        "\n",
        "    # get overall f1 score\n",
        "    f1 = f1_score(all_labels, all_predictions, average=\"weighted\")\n",
        "    print(f\"Final Validation F1 Score: {f1:.4f}\")\n",
        "\n",
        "    # confusion matrix\n",
        "    cm = confusion_matrix(all_labels, all_predictions)\n",
        "    # normalize heatmap colors in each row for class distribution\n",
        "    cm_normalized = cm.astype(\"float\") / cm.sum(axis=1)[:, np.newaxis]\n",
        "    sns.heatmap(cm_normalized, annot=True, fmt=\".2f\", cmap=\"Blues\", xticklabels=CLASS_NAMES.values(), yticklabels=CLASS_NAMES.values())\n",
        "    plt.xlabel(\"Predicted\")\n",
        "    plt.ylabel(\"True\")\n",
        "    plt.title(\"Confusion Matrix\")\n",
        "    plt.show()\n",
        "\n",
        "\n",
        "    return f1"
      ],
      "metadata": {
        "id": "YZFVnBfAAehD"
      },
      "execution_count": null,
      "outputs": []
    },
    {
      "cell_type": "code",
      "metadata": {
        "colab": {
          "base_uri": "https://localhost:8080/"
        },
        "id": "8932cdfa",
        "outputId": "e7fda03e-eb40-44b9-f4ce-6e4408eb42f7"
      },
      "source": [
        "train_df['padded_signal'] = train_df['signal'].apply(lambda x: pad_and_augment(x, augmentation=None).astype(np.float32))\n",
        "print(train_df.head())"
      ],
      "execution_count": null,
      "outputs": [
        {
          "output_type": "stream",
          "name": "stdout",
          "text": [
            "                                              signal  label      rr_std  \\\n",
            "1  [-446, -541, -637, -733, -819, -858, -867, -87...      2  182.922570   \n",
            "3  [-1255, -1488, -1745, -2015, -2253, -2374, -23...      0  123.855300   \n",
            "4  [156, 189, 223, 255, 291, 330, 362, 380, 390, ...      0   32.132097   \n",
            "5  [-22, -27, -33, -38, -40, -39, -36, -30, -23, ...      1  145.925780   \n",
            "6  [291, 345, 405, 465, 510, 527, 516, 509, 507, ...      0   16.995531   \n",
            "\n",
            "                                       padded_signal  \n",
            "1  [-23.0, -24.0, -34.0, -62.0, -92.0, -121.0, -1...  \n",
            "3  [-1255.0, -1488.0, -1745.0, -2015.0, -2253.0, ...  \n",
            "4  [156.0, 189.0, 223.0, 255.0, 291.0, 330.0, 362...  \n",
            "5  [-22.0, -27.0, -33.0, -38.0, -40.0, -39.0, -36...  \n",
            "6  [291.0, 345.0, 405.0, 465.0, 510.0, 527.0, 516...  \n"
          ]
        }
      ]
    },
    {
      "cell_type": "code",
      "metadata": {
        "colab": {
          "base_uri": "https://localhost:8080/"
        },
        "id": "c8c63eb9",
        "outputId": "e1c33bb5-bea7-4486-becb-71d70b08a898"
      },
      "source": [
        "import numpy as np\n",
        "from sklearn.metrics import mean_absolute_error, mean_squared_error\n",
        "import scipy.signal\n",
        "import pandas as pd\n",
        "\n",
        "class ECGCompressor:\n",
        "    \"\"\"\n",
        "    Compressor for ECG signals using various approximation methods.\n",
        "    \"\"\"\n",
        "\n",
        "    def piecewise_constant_approximation(self, signal, n_segments):\n",
        "        \"\"\"\n",
        "        Approximates signal using Piecewise Constant Approximation (PCA).\n",
        "\n",
        "        Args:\n",
        "            signal: 1D numpy array of the signal.\n",
        "            n_segments: Number of segments for approximation.\n",
        "\n",
        "        Returns:\n",
        "            Tuple: (approximated_signal, mae, mse)\n",
        "        \"\"\"\n",
        "        approximated_signal = np.zeros_like(signal)\n",
        "        segment_length = len(signal) // n_segments\n",
        "\n",
        "        for i in range(n_segments):\n",
        "            start = i * segment_length\n",
        "            end = (i + 1) * segment_length if i < n_segments - 1 else len(signal)\n",
        "            segment = signal[start:end]\n",
        "            if len(segment) > 0:\n",
        "                mean_value = np.mean(segment)\n",
        "                approximated_signal[start:end] = mean_value\n",
        "\n",
        "        mae = mean_absolute_error(signal, approximated_signal)\n",
        "        mse = mean_squared_error(signal, approximated_signal)\n",
        "        return approximated_signal, mae, mse\n",
        "\n",
        "    def piecewise_linear_approximation(self, signal, n_segments):\n",
        "        \"\"\"\n",
        "        Approximates signal using Piecewise Linear Approximation (PLA).\n",
        "\n",
        "        Args:\n",
        "            signal: 1D numpy array of the signal.\n",
        "            n_segments: Number of segments for approximation.\n",
        "\n",
        "        Returns:\n",
        "            Tuple: (approximated_signal, mae, mse)\n",
        "        \"\"\"\n",
        "        approximated_signal = np.zeros_like(signal)\n",
        "        segment_length = len(signal) // n_segments\n",
        "\n",
        "        for i in range(n_segments):\n",
        "            start = i * segment_length\n",
        "            end = (i + 1) * segment_length if i < n_segments - 1 else len(signal)\n",
        "            segment = signal[start:end]\n",
        "\n",
        "            if len(segment) > 1:\n",
        "                # Fit a linear model to the segment\n",
        "                x = np.arange(len(segment))\n",
        "                m, c = np.polyfit(x, segment, 1)\n",
        "                approximated_signal[start:end] = m * x + c\n",
        "\n",
        "            elif len(segment) == 1:\n",
        "                approximated_signal[start:end] = segment[0]\n",
        "\n",
        "\n",
        "        mae = mean_absolute_error(signal, approximated_signal)\n",
        "        mse = mean_squared_error(signal, approximated_signal)\n",
        "        return approximated_signal, mae, mse\n",
        "\n",
        "\n",
        "compressor = ECGCompressor()\n",
        "\n",
        "compression_configs = [\n",
        "    {'name': 'PCA_10%', 'method': 'piecewise_constant', 'params': {'n_segments': int(INPUT_LENGTH * 0.1)}},\n",
        "    {'name': 'PCA_25%', 'method': 'piecewise_constant', 'params': {'n_segments': int(INPUT_LENGTH * 0.25)}},\n",
        "    {'name': 'PCA_50%', 'method': 'piecewise_constant', 'params': {'n_segments': int(INPUT_LENGTH * 0.5)}},\n",
        "]\n",
        "\n",
        "compressed_train_datasets = {}\n",
        "compressed_val_datasets = {}\n",
        "compression_metrics = {}\n",
        "\n",
        "for config in compression_configs:\n",
        "    method_name = config['name']\n",
        "    method_type = config['method']\n",
        "    params = config['params']\n",
        "\n",
        "    print(f\"Applying {method_name} to train data...\")\n",
        "\n",
        "    compressed_signals = []\n",
        "    mae_scores = []\n",
        "    mse_scores = []\n",
        "    labels = []\n",
        "\n",
        "    # Iterate through the padded signals\n",
        "    for idx, row in train_df.iterrows():\n",
        "        signal = np.array(row['padded_signal'], dtype=np.float32)\n",
        "        label = row['label']\n",
        "\n",
        "        if method_type == 'piecewise_constant':\n",
        "             # Ensure n_segments is not greater than the signal length\n",
        "            params['n_segments'] = min(params['n_segments'], len(signal))\n",
        "            compressed_signal, mae, mse = compressor.piecewise_constant_approximation(signal, **params)\n",
        "        elif method_type == 'piecewise_linear':\n",
        "            # Ensure n_segments is not greater than the signal length // 2 (for pairs of points)\n",
        "            params['n_segments'] = min(params['n_segments'], len(signal) // 2 if len(signal) > 1 else 1)\n",
        "            compressed_signal, mae, mse = compressor.piecewise_linear_approximation(signal, **params)\n",
        "        else:\n",
        "            raise ValueError(f\"Unknown compression method: {method_type}\")\n",
        "\n",
        "\n",
        "        compressed_signals.append(compressed_signal)\n",
        "        mae_scores.append(mae)\n",
        "        mse_scores.append(mse)\n",
        "        labels.append(label)\n",
        "\n",
        "\n",
        "    compressed_train_datasets[method_name] = pd.DataFrame({\n",
        "        'signal': compressed_signals,\n",
        "        'label': labels\n",
        "    })\n",
        "\n",
        "    compression_metrics[method_name] = {\n",
        "        'avg_mae': np.mean(mae_scores),\n",
        "        'avg_mse': np.mean(mse_scores),\n",
        "    }\n",
        "\n",
        "    compressed_val_signals = []\n",
        "    val_labels = []\n",
        "\n",
        "    # Iterate through the padded signals\n",
        "    for idx, row in val_df.iterrows():\n",
        "        signal = np.array(row['padded_signal'], dtype=np.float32)\n",
        "        label = row['label']\n",
        "        if method_type == 'piecewise_constant':\n",
        "             # Ensure n_segments is not greater than the signal length\n",
        "            params['n_segments'] = min(params['n_segments'], len(signal))\n",
        "            compressed_signal, mae, mse = compressor.piecewise_constant_approximation(signal, **params)\n",
        "        elif method_type == 'piecewise_linear':\n",
        "            # Ensure n_segments is not greater than the signal length // 2 (for pairs of points)\n",
        "            params['n_segments'] = min(params['n_segments'], len(signal) // 2 if len(signal) > 1 else 1)\n",
        "            compressed_signal, mae, mse = compressor.piecewise_linear_approximation(signal, **params)\n",
        "        else:\n",
        "            raise ValueError(f\"Unknown compression method: {method_type}\")\n",
        "\n",
        "        compressed_signals.append(compressed_signal)\n",
        "        labels.append(label)\n",
        "\n",
        "    compressed_val_datasets[method_name] = pd.DataFrame({\n",
        "        'signal': compressed_val_signals,\n",
        "        'label': val_labels\n",
        "    })\n",
        "\n",
        "# Print compression metrics\n",
        "print(\"\\nCompression Metrics:\")\n",
        "for method, metrics in compression_metrics.items():\n",
        "    print(f\"  {method}: Avg MAE = {metrics['avg_mae']:.4f}, Avg MSE = {metrics['avg_mse']:.4f}\")"
      ],
      "execution_count": null,
      "outputs": [
        {
          "output_type": "stream",
          "name": "stdout",
          "text": [
            "Applying PCA_10% to train data...\n",
            "Applying PCA_25% to train data...\n",
            "Applying PCA_50% to train data...\n",
            "\n",
            "Compression Metrics:\n",
            "  PCA_10%: Avg MAE = 29.0789, Avg MSE = 6982.2693\n",
            "  PCA_25%: Avg MAE = 12.2625, Avg MSE = 1515.7011\n",
            "  PCA_50%: Avg MAE = 6.1856, Avg MSE = 327.6756\n"
          ]
        }
      ]
    },
    {
      "cell_type": "code",
      "metadata": {
        "id": "8e13358e"
      },
      "source": [
        "class CompressedECGDataset(torch.utils.data.Dataset):\n",
        "    def __init__(self, df):\n",
        "        self.df = df\n",
        "\n",
        "    def __len__(self):\n",
        "        return len(self.df)\n",
        "\n",
        "    def __getitem__(self, idx):\n",
        "        signal = self.df.iloc[idx][\"signal\"]\n",
        "        signal = np.array(signal, dtype=np.float32)\n",
        "\n",
        "        # Normalize\n",
        "        signal = (signal - TRAINING_MEAN) / TRAINING_STD\n",
        "        signal = torch.tensor(signal, dtype=torch.float32)\n",
        "\n",
        "        label = int(self.df.iloc[idx][\"label\"])\n",
        "\n",
        "\n",
        "        return signal, label"
      ],
      "execution_count": null,
      "outputs": []
    },
    {
      "cell_type": "code",
      "metadata": {
        "colab": {
          "base_uri": "https://localhost:8080/",
          "height": 1000
        },
        "id": "2f27f3a4",
        "outputId": "7fd1e234-6d8c-4d7c-abf9-30b2e6a9af79"
      },
      "source": [
        "test_space_compression = {\n",
        "    \"model\": [CNNwithSVM],\n",
        "    \"dataset\": {\n",
        "        **compressed_train_datasets,\n",
        "    },\n",
        "}\n",
        "\n",
        "compression_results = []\n",
        "print(\"Starting tests with different compression configurations...\")\n",
        "\n",
        "device = \"cuda\" if torch.cuda.is_available() else \"cpu\"\n",
        "\n",
        "for dataset_name, dataset_df in test_space_compression[\"dataset\"].items():\n",
        "    print(f\"Testing CNNwithSVM with on {dataset_name} dataset\")\n",
        "    print(dataset_df.head())\n",
        "    train_set = CompressedECGDataset(dataset_df)\n",
        "    train_loader = DataLoader(train_set,\n",
        "                              batch_size=BATCH_SIZE,\n",
        "                              num_workers=NUM_WORKERS,\n",
        "                              shuffle=True,\n",
        "                              generator=torch.Generator().manual_seed(42))\n",
        "\n",
        "    val_loader = DataLoader(val_set,\n",
        "                            batch_size=BATCH_SIZE,\n",
        "                            num_workers=NUM_WORKERS,\n",
        "                            shuffle=False)\n",
        "\n",
        "    model = CNNwithSVM(\n",
        "        feature_size=50,\n",
        "        num_classes=NUM_CLASSES\n",
        "    )\n",
        "    model.to(device)\n",
        "    trained_model = train_model(model, train_loader, epochs=20, lr=0.001, batch_size_factor=4)\n",
        "    f1 = evaluate_model(trained_model, val_loader, device)\n",
        "    print(f\"Weighted F1 of CNNwithSVM with on {dataset_name}: {f1:.4f}\\n\")\n",
        "    compression_results.append({\n",
        "        \"dataset\": dataset_name,\n",
        "        \"f1\": f1,\n",
        "    })\n",
        "    del trained_model\n",
        "    torch.cuda.empty_cache()\n",
        "    del train_set, val_set, train_loader, val_loader\n",
        "\n",
        "print(\"All compression tests completed.\")"
      ],
      "execution_count": null,
      "outputs": [
        {
          "output_type": "stream",
          "name": "stdout",
          "text": [
            "Starting tests with different compression configurations...\n",
            "Testing CNNwithSVM with on PCA_10% dataset\n",
            "                                              signal  label\n",
            "0  [-111.2, -111.2, -111.2, -111.2, -111.2, -111....      2\n",
            "1  [-2016.5, -2016.5, -2016.5, -2016.5, -2016.5, ...      0\n",
            "2  [297.8, 297.8, 297.8, 297.8, 297.8, 297.8, 297...      0\n",
            "3  [-30.5, -30.5, -30.5, -30.5, -30.5, -30.5, -30...      1\n",
            "4  [458.0, 458.0, 458.0, 458.0, 458.0, 458.0, 458...      0\n",
            "Training CNN+SVM model on cuda\n",
            "Training CNN feature extractor...\n"
          ]
        },
        {
          "output_type": "stream",
          "name": "stderr",
          "text": [
            "Epoch 1/20:   1%|          | 1/83 [00:00<00:14,  5.54it/s]"
          ]
        },
        {
          "output_type": "stream",
          "name": "stdout",
          "text": [
            "Initialized fc1 with input size: 17408\n"
          ]
        },
        {
          "output_type": "stream",
          "name": "stderr",
          "text": [
            "Epoch 1/20: 100%|██████████| 83/83 [00:09<00:00,  8.70it/s]\n"
          ]
        },
        {
          "output_type": "stream",
          "name": "stdout",
          "text": [
            "Epoch 1: Train Loss: 1.0042, Train Acc: 61.16%\n"
          ]
        },
        {
          "output_type": "stream",
          "name": "stderr",
          "text": [
            "Epoch 2/20: 100%|██████████| 83/83 [00:09<00:00,  8.53it/s]\n"
          ]
        },
        {
          "output_type": "stream",
          "name": "stdout",
          "text": [
            "Epoch 2: Train Loss: 0.8478, Train Acc: 68.05%\n"
          ]
        },
        {
          "output_type": "stream",
          "name": "stderr",
          "text": [
            "Epoch 3/20: 100%|██████████| 83/83 [00:09<00:00,  8.70it/s]\n"
          ]
        },
        {
          "output_type": "stream",
          "name": "stdout",
          "text": [
            "Epoch 3: Train Loss: 0.7515, Train Acc: 72.33%\n"
          ]
        },
        {
          "output_type": "stream",
          "name": "stderr",
          "text": [
            "Epoch 4/20: 100%|██████████| 83/83 [00:09<00:00,  8.61it/s]\n"
          ]
        },
        {
          "output_type": "stream",
          "name": "stdout",
          "text": [
            "Epoch 4: Train Loss: 0.6829, Train Acc: 74.16%\n"
          ]
        },
        {
          "output_type": "stream",
          "name": "stderr",
          "text": [
            "Epoch 5/20: 100%|██████████| 83/83 [00:09<00:00,  8.89it/s]\n"
          ]
        },
        {
          "output_type": "stream",
          "name": "stdout",
          "text": [
            "Epoch 5: Train Loss: 0.6268, Train Acc: 77.25%\n"
          ]
        },
        {
          "output_type": "stream",
          "name": "stderr",
          "text": [
            "Epoch 6/20: 100%|██████████| 83/83 [00:09<00:00,  8.78it/s]\n"
          ]
        },
        {
          "output_type": "stream",
          "name": "stdout",
          "text": [
            "Epoch 6: Train Loss: 0.5735, Train Acc: 78.85%\n"
          ]
        },
        {
          "output_type": "stream",
          "name": "stderr",
          "text": [
            "Epoch 7/20: 100%|██████████| 83/83 [00:09<00:00,  8.49it/s]\n"
          ]
        },
        {
          "output_type": "stream",
          "name": "stdout",
          "text": [
            "Epoch 7: Train Loss: 0.5298, Train Acc: 80.22%\n"
          ]
        },
        {
          "output_type": "stream",
          "name": "stderr",
          "text": [
            "Epoch 8/20: 100%|██████████| 83/83 [00:09<00:00,  8.85it/s]\n"
          ]
        },
        {
          "output_type": "stream",
          "name": "stdout",
          "text": [
            "Epoch 8: Train Loss: 0.4472, Train Acc: 84.84%\n"
          ]
        },
        {
          "output_type": "stream",
          "name": "stderr",
          "text": [
            "Epoch 9/20: 100%|██████████| 83/83 [00:09<00:00,  8.87it/s]\n"
          ]
        },
        {
          "output_type": "stream",
          "name": "stdout",
          "text": [
            "Epoch 9: Train Loss: 0.3977, Train Acc: 86.25%\n"
          ]
        },
        {
          "output_type": "stream",
          "name": "stderr",
          "text": [
            "Epoch 10/20: 100%|██████████| 83/83 [00:09<00:00,  8.70it/s]\n"
          ]
        },
        {
          "output_type": "stream",
          "name": "stdout",
          "text": [
            "Epoch 10: Train Loss: 0.3646, Train Acc: 88.27%\n"
          ]
        },
        {
          "output_type": "stream",
          "name": "stderr",
          "text": [
            "Epoch 11/20: 100%|██████████| 83/83 [00:10<00:00,  7.60it/s]\n"
          ]
        },
        {
          "output_type": "stream",
          "name": "stdout",
          "text": [
            "Epoch 11: Train Loss: 0.3067, Train Acc: 91.03%\n"
          ]
        },
        {
          "output_type": "stream",
          "name": "stderr",
          "text": [
            "Epoch 12/20: 100%|██████████| 83/83 [00:09<00:00,  8.75it/s]\n"
          ]
        },
        {
          "output_type": "stream",
          "name": "stdout",
          "text": [
            "Epoch 12: Train Loss: 0.2610, Train Acc: 93.15%\n"
          ]
        },
        {
          "output_type": "stream",
          "name": "stderr",
          "text": [
            "Epoch 13/20: 100%|██████████| 83/83 [00:09<00:00,  8.72it/s]\n"
          ]
        },
        {
          "output_type": "stream",
          "name": "stdout",
          "text": [
            "Epoch 13: Train Loss: 0.1956, Train Acc: 95.91%\n"
          ]
        },
        {
          "output_type": "stream",
          "name": "stderr",
          "text": [
            "Epoch 14/20: 100%|██████████| 83/83 [00:09<00:00,  8.72it/s]\n"
          ]
        },
        {
          "output_type": "stream",
          "name": "stdout",
          "text": [
            "Epoch 14: Train Loss: 0.1843, Train Acc: 96.08%\n"
          ]
        },
        {
          "output_type": "stream",
          "name": "stderr",
          "text": [
            "Epoch 15/20: 100%|██████████| 83/83 [00:09<00:00,  8.66it/s]\n"
          ]
        },
        {
          "output_type": "stream",
          "name": "stdout",
          "text": [
            "Epoch 15: Train Loss: 0.1344, Train Acc: 98.02%\n"
          ]
        },
        {
          "output_type": "stream",
          "name": "stderr",
          "text": [
            "Epoch 16/20: 100%|██████████| 83/83 [00:09<00:00,  8.77it/s]\n"
          ]
        },
        {
          "output_type": "stream",
          "name": "stdout",
          "text": [
            "Epoch 16: Train Loss: 0.0971, Train Acc: 99.24%\n"
          ]
        },
        {
          "output_type": "stream",
          "name": "stderr",
          "text": [
            "Epoch 17/20: 100%|██████████| 83/83 [00:09<00:00,  8.72it/s]\n"
          ]
        },
        {
          "output_type": "stream",
          "name": "stdout",
          "text": [
            "Epoch 17: Train Loss: 0.1141, Train Acc: 98.50%\n"
          ]
        },
        {
          "output_type": "stream",
          "name": "stderr",
          "text": [
            "Epoch 18/20: 100%|██████████| 83/83 [00:09<00:00,  8.64it/s]\n"
          ]
        },
        {
          "output_type": "stream",
          "name": "stdout",
          "text": [
            "Epoch 18: Train Loss: 0.0646, Train Acc: 99.70%\n"
          ]
        },
        {
          "output_type": "stream",
          "name": "stderr",
          "text": [
            "Epoch 19/20: 100%|██████████| 83/83 [00:09<00:00,  8.66it/s]\n"
          ]
        },
        {
          "output_type": "stream",
          "name": "stdout",
          "text": [
            "Epoch 19: Train Loss: 0.0790, Train Acc: 99.24%\n"
          ]
        },
        {
          "output_type": "stream",
          "name": "stderr",
          "text": [
            "Epoch 20/20: 100%|██████████| 83/83 [00:09<00:00,  8.72it/s]\n"
          ]
        },
        {
          "output_type": "stream",
          "name": "stdout",
          "text": [
            "Epoch 20: Train Loss: 0.0433, Train Acc: 99.87%\n",
            "Training SVM...\n"
          ]
        },
        {
          "output_type": "stream",
          "name": "stderr",
          "text": [
            "Extracting features: 100%|██████████| 83/83 [00:01<00:00, 54.63it/s]\n"
          ]
        },
        {
          "output_type": "stream",
          "name": "stdout",
          "text": [
            "Training SVM on 5252 samples\n",
            "Evaluating model...\n"
          ]
        },
        {
          "output_type": "stream",
          "name": "stderr",
          "text": [
            "Evaluating: 100%|██████████| 15/15 [00:00<00:00, 23.40it/s]\n"
          ]
        },
        {
          "output_type": "stream",
          "name": "stdout",
          "text": [
            "Final Validation Accuracy: 0.6160\n",
            "              precision    recall  f1-score   support\n",
            "\n",
            "           0       0.63      0.96      0.76       544\n",
            "           1       0.32      0.11      0.16        84\n",
            "           2       0.55      0.14      0.22       264\n",
            "           3       0.33      0.09      0.14        35\n",
            "\n",
            "    accuracy                           0.62       927\n",
            "   macro avg       0.46      0.32      0.32       927\n",
            "weighted avg       0.57      0.62      0.53       927\n",
            "\n",
            "Final Validation F1 Score: 0.5316\n"
          ]
        },
        {
          "output_type": "display_data",
          "data": {
            "text/plain": [
              "<Figure size 640x480 with 2 Axes>"
            ],
            "image/png": "[encoded data removed]"
          },
          "metadata": {}
        },
        {
          "output_type": "stream",
          "name": "stdout",
          "text": [
            "Weighted F1 of CNNwithSVM with on PCA_10%: 0.5316\n",
            "\n",
            "Testing CNNwithSVM with on PCA_25% dataset\n",
            "                                              signal  label\n",
            "0  [-35.75, -35.75, -35.75, -35.75, -137.0, -137....      2\n",
            "1  [-1625.75, -1625.75, -1625.75, -1625.75, -2323...      0\n",
            "2  [205.75, 205.75, 205.75, 205.75, 340.75, 340.7...      0\n",
            "3  [-30.0, -30.0, -30.0, -30.0, -36.25, -36.25, -...      1\n",
            "4  [376.5, 376.5, 376.5, 376.5, 515.5, 515.5, 515...      0\n",
            "Training CNN+SVM model on cuda\n",
            "Training CNN feature extractor...\n"
          ]
        },
        {
          "output_type": "stream",
          "name": "stderr",
          "text": [
            "\rEpoch 1/20:   0%|          | 0/83 [00:00<?, ?it/s]"
          ]
        },
        {
          "output_type": "stream",
          "name": "stdout",
          "text": [
            "Initialized fc1 with input size: 17408\n"
          ]
        },
        {
          "output_type": "stream",
          "name": "stderr",
          "text": [
            "Epoch 1/20: 100%|██████████| 83/83 [00:09<00:00,  8.59it/s]\n"
          ]
        },
        {
          "output_type": "stream",
          "name": "stdout",
          "text": [
            "Epoch 1: Train Loss: 0.9791, Train Acc: 63.12%\n"
          ]
        },
        {
          "output_type": "stream",
          "name": "stderr",
          "text": [
            "Epoch 2/20: 100%|██████████| 83/83 [00:09<00:00,  8.71it/s]\n"
          ]
        },
        {
          "output_type": "stream",
          "name": "stdout",
          "text": [
            "Epoch 2: Train Loss: 0.8091, Train Acc: 70.24%\n"
          ]
        },
        {
          "output_type": "stream",
          "name": "stderr",
          "text": [
            "Epoch 3/20: 100%|██████████| 83/83 [00:09<00:00,  8.70it/s]\n"
          ]
        },
        {
          "output_type": "stream",
          "name": "stdout",
          "text": [
            "Epoch 3: Train Loss: 0.7317, Train Acc: 72.28%\n"
          ]
        },
        {
          "output_type": "stream",
          "name": "stderr",
          "text": [
            "Epoch 4/20: 100%|██████████| 83/83 [00:09<00:00,  8.62it/s]\n"
          ]
        },
        {
          "output_type": "stream",
          "name": "stdout",
          "text": [
            "Epoch 4: Train Loss: 0.6823, Train Acc: 74.79%\n"
          ]
        },
        {
          "output_type": "stream",
          "name": "stderr",
          "text": [
            "Epoch 5/20: 100%|██████████| 83/83 [00:09<00:00,  8.53it/s]\n"
          ]
        },
        {
          "output_type": "stream",
          "name": "stdout",
          "text": [
            "Epoch 5: Train Loss: 0.6298, Train Acc: 76.75%\n"
          ]
        },
        {
          "output_type": "stream",
          "name": "stderr",
          "text": [
            "Epoch 6/20: 100%|██████████| 83/83 [00:09<00:00,  8.32it/s]\n"
          ]
        },
        {
          "output_type": "stream",
          "name": "stdout",
          "text": [
            "Epoch 6: Train Loss: 0.5905, Train Acc: 78.60%\n"
          ]
        },
        {
          "output_type": "stream",
          "name": "stderr",
          "text": [
            "Epoch 7/20: 100%|██████████| 83/83 [00:09<00:00,  8.61it/s]\n"
          ]
        },
        {
          "output_type": "stream",
          "name": "stdout",
          "text": [
            "Epoch 7: Train Loss: 0.5578, Train Acc: 79.28%\n"
          ]
        },
        {
          "output_type": "stream",
          "name": "stderr",
          "text": [
            "Epoch 8/20: 100%|██████████| 83/83 [00:09<00:00,  8.67it/s]\n"
          ]
        },
        {
          "output_type": "stream",
          "name": "stdout",
          "text": [
            "Epoch 8: Train Loss: 0.4820, Train Acc: 82.79%\n"
          ]
        },
        {
          "output_type": "stream",
          "name": "stderr",
          "text": [
            "Epoch 9/20: 100%|██████████| 83/83 [00:09<00:00,  8.56it/s]\n"
          ]
        },
        {
          "output_type": "stream",
          "name": "stdout",
          "text": [
            "Epoch 9: Train Loss: 0.4270, Train Acc: 85.17%\n"
          ]
        },
        {
          "output_type": "stream",
          "name": "stderr",
          "text": [
            "Epoch 10/20: 100%|██████████| 83/83 [00:09<00:00,  8.60it/s]\n"
          ]
        },
        {
          "output_type": "stream",
          "name": "stdout",
          "text": [
            "Epoch 10: Train Loss: 0.3911, Train Acc: 86.75%\n"
          ]
        },
        {
          "output_type": "stream",
          "name": "stderr",
          "text": [
            "Epoch 11/20: 100%|██████████| 83/83 [00:09<00:00,  8.72it/s]\n"
          ]
        },
        {
          "output_type": "stream",
          "name": "stdout",
          "text": [
            "Epoch 11: Train Loss: 0.3355, Train Acc: 89.41%\n"
          ]
        },
        {
          "output_type": "stream",
          "name": "stderr",
          "text": [
            "Epoch 12/20: 100%|██████████| 83/83 [00:09<00:00,  8.65it/s]\n"
          ]
        },
        {
          "output_type": "stream",
          "name": "stdout",
          "text": [
            "Epoch 12: Train Loss: 0.3136, Train Acc: 90.10%\n"
          ]
        },
        {
          "output_type": "stream",
          "name": "stderr",
          "text": [
            "Epoch 13/20: 100%|██████████| 83/83 [00:09<00:00,  8.63it/s]\n"
          ]
        },
        {
          "output_type": "stream",
          "name": "stdout",
          "text": [
            "Epoch 13: Train Loss: 0.2385, Train Acc: 93.41%\n"
          ]
        },
        {
          "output_type": "stream",
          "name": "stderr",
          "text": [
            "Epoch 14/20: 100%|██████████| 83/83 [00:09<00:00,  8.66it/s]\n"
          ]
        },
        {
          "output_type": "stream",
          "name": "stdout",
          "text": [
            "Epoch 14: Train Loss: 0.2022, Train Acc: 94.52%\n"
          ]
        },
        {
          "output_type": "stream",
          "name": "stderr",
          "text": [
            "Epoch 15/20: 100%|██████████| 83/83 [00:09<00:00,  8.60it/s]\n"
          ]
        },
        {
          "output_type": "stream",
          "name": "stdout",
          "text": [
            "Epoch 15: Train Loss: 0.1564, Train Acc: 97.07%\n"
          ]
        },
        {
          "output_type": "stream",
          "name": "stderr",
          "text": [
            "Epoch 16/20: 100%|██████████| 83/83 [00:10<00:00,  8.11it/s]\n"
          ]
        },
        {
          "output_type": "stream",
          "name": "stdout",
          "text": [
            "Epoch 16: Train Loss: 0.1314, Train Acc: 97.87%\n"
          ]
        },
        {
          "output_type": "stream",
          "name": "stderr",
          "text": [
            "Epoch 17/20: 100%|██████████| 83/83 [00:09<00:00,  8.73it/s]\n"
          ]
        },
        {
          "output_type": "stream",
          "name": "stdout",
          "text": [
            "Epoch 17: Train Loss: 0.1162, Train Acc: 98.31%\n"
          ]
        },
        {
          "output_type": "stream",
          "name": "stderr",
          "text": [
            "Epoch 18/20: 100%|██████████| 83/83 [00:09<00:00,  8.67it/s]\n"
          ]
        },
        {
          "output_type": "stream",
          "name": "stdout",
          "text": [
            "Epoch 18: Train Loss: 0.1066, Train Acc: 98.63%\n"
          ]
        },
        {
          "output_type": "stream",
          "name": "stderr",
          "text": [
            "Epoch 19/20: 100%|██████████| 83/83 [00:09<00:00,  8.72it/s]\n"
          ]
        },
        {
          "output_type": "stream",
          "name": "stdout",
          "text": [
            "Epoch 19: Train Loss: 0.2280, Train Acc: 92.86%\n"
          ]
        },
        {
          "output_type": "stream",
          "name": "stderr",
          "text": [
            "Epoch 20/20: 100%|██████████| 83/83 [00:09<00:00,  8.70it/s]\n"
          ]
        },
        {
          "output_type": "stream",
          "name": "stdout",
          "text": [
            "Epoch 20: Train Loss: 0.0804, Train Acc: 99.35%\n",
            "Training SVM...\n"
          ]
        },
        {
          "output_type": "stream",
          "name": "stderr",
          "text": [
            "Extracting features: 100%|██████████| 83/83 [00:01<00:00, 57.38it/s]\n"
          ]
        },
        {
          "output_type": "stream",
          "name": "stdout",
          "text": [
            "Training SVM on 5252 samples\n",
            "Evaluating model...\n"
          ]
        },
        {
          "output_type": "stream",
          "name": "stderr",
          "text": [
            "Evaluating: 100%|██████████| 15/15 [00:00<00:00, 36.12it/s]\n"
          ]
        },
        {
          "output_type": "stream",
          "name": "stdout",
          "text": [
            "Final Validation Accuracy: 0.5987\n",
            "              precision    recall  f1-score   support\n",
            "\n",
            "           0       0.73      0.70      0.72       544\n",
            "           1       0.64      0.08      0.15        84\n",
            "           2       0.44      0.56      0.49       264\n",
            "           3       0.31      0.49      0.38        35\n",
            "\n",
            "    accuracy                           0.60       927\n",
            "   macro avg       0.53      0.46      0.43       927\n",
            "weighted avg       0.62      0.60      0.59       927\n",
            "\n",
            "Final Validation F1 Score: 0.5885\n"
          ]
        },
        {
          "output_type": "display_data",
          "data": {
            "text/plain": [
              "<Figure size 640x480 with 2 Axes>"
            ],
            "image/png": "[encoded data removed]"
          },
          "metadata": {}
        },
        {
          "output_type": "stream",
          "name": "stdout",
          "text": [
            "Weighted F1 of CNNwithSVM with on PCA_25%: 0.5885\n",
            "\n",
            "Testing CNNwithSVM with on PCA_50% dataset\n",
            "                                              signal  label\n",
            "0  [-23.5, -23.5, -48.0, -48.0, -106.5, -106.5, -...      2\n",
            "1  [-1371.5, -1371.5, -1880.0, -1880.0, -2313.5, ...      0\n",
            "2  [172.5, 172.5, 239.0, 239.0, 310.5, 310.5, 371...      0\n",
            "3  [-24.5, -24.5, -35.5, -35.5, -39.5, -39.5, -33...      1\n",
            "4  [318.0, 318.0, 435.0, 435.0, 518.5, 518.5, 512...      0\n",
            "Training CNN+SVM model on cuda\n",
            "Training CNN feature extractor...\n"
          ]
        },
        {
          "output_type": "stream",
          "name": "stderr",
          "text": [
            "Epoch 1/20:   1%|          | 1/83 [00:00<00:10,  7.51it/s]"
          ]
        },
        {
          "output_type": "stream",
          "name": "stdout",
          "text": [
            "Initialized fc1 with input size: 17408\n"
          ]
        },
        {
          "output_type": "stream",
          "name": "stderr",
          "text": [
            "Epoch 1/20: 100%|██████████| 83/83 [00:09<00:00,  8.59it/s]\n"
          ]
        },
        {
          "output_type": "stream",
          "name": "stdout",
          "text": [
            "Epoch 1: Train Loss: 1.0307, Train Acc: 59.65%\n"
          ]
        },
        {
          "output_type": "stream",
          "name": "stderr",
          "text": [
            "Epoch 2/20: 100%|██████████| 83/83 [00:09<00:00,  8.68it/s]\n"
          ]
        },
        {
          "output_type": "stream",
          "name": "stdout",
          "text": [
            "Epoch 2: Train Loss: 0.8593, Train Acc: 67.69%\n"
          ]
        },
        {
          "output_type": "stream",
          "name": "stderr",
          "text": [
            "Epoch 3/20: 100%|██████████| 83/83 [00:09<00:00,  8.58it/s]\n"
          ]
        },
        {
          "output_type": "stream",
          "name": "stdout",
          "text": [
            "Epoch 3: Train Loss: 0.7680, Train Acc: 71.53%\n"
          ]
        },
        {
          "output_type": "stream",
          "name": "stderr",
          "text": [
            "Epoch 4/20: 100%|██████████| 83/83 [00:09<00:00,  8.60it/s]\n"
          ]
        },
        {
          "output_type": "stream",
          "name": "stdout",
          "text": [
            "Epoch 4: Train Loss: 0.7059, Train Acc: 73.31%\n"
          ]
        },
        {
          "output_type": "stream",
          "name": "stderr",
          "text": [
            "Epoch 5/20: 100%|██████████| 83/83 [00:09<00:00,  8.60it/s]\n"
          ]
        },
        {
          "output_type": "stream",
          "name": "stdout",
          "text": [
            "Epoch 5: Train Loss: 0.6656, Train Acc: 75.89%\n"
          ]
        },
        {
          "output_type": "stream",
          "name": "stderr",
          "text": [
            "Epoch 6/20: 100%|██████████| 83/83 [00:09<00:00,  8.62it/s]\n"
          ]
        },
        {
          "output_type": "stream",
          "name": "stdout",
          "text": [
            "Epoch 6: Train Loss: 0.6198, Train Acc: 77.44%\n"
          ]
        },
        {
          "output_type": "stream",
          "name": "stderr",
          "text": [
            "Epoch 7/20: 100%|██████████| 83/83 [00:09<00:00,  8.78it/s]\n"
          ]
        },
        {
          "output_type": "stream",
          "name": "stdout",
          "text": [
            "Epoch 7: Train Loss: 0.5814, Train Acc: 78.22%\n"
          ]
        },
        {
          "output_type": "stream",
          "name": "stderr",
          "text": [
            "Epoch 8/20: 100%|██████████| 83/83 [00:09<00:00,  8.66it/s]\n"
          ]
        },
        {
          "output_type": "stream",
          "name": "stdout",
          "text": [
            "Epoch 8: Train Loss: 0.5146, Train Acc: 81.23%\n"
          ]
        },
        {
          "output_type": "stream",
          "name": "stderr",
          "text": [
            "Epoch 9/20: 100%|██████████| 83/83 [00:09<00:00,  8.60it/s]\n"
          ]
        },
        {
          "output_type": "stream",
          "name": "stdout",
          "text": [
            "Epoch 9: Train Loss: 0.4763, Train Acc: 82.98%\n"
          ]
        },
        {
          "output_type": "stream",
          "name": "stderr",
          "text": [
            "Epoch 10/20: 100%|██████████| 83/83 [00:09<00:00,  8.65it/s]\n"
          ]
        },
        {
          "output_type": "stream",
          "name": "stdout",
          "text": [
            "Epoch 10: Train Loss: 0.4642, Train Acc: 83.49%\n"
          ]
        },
        {
          "output_type": "stream",
          "name": "stderr",
          "text": [
            "Epoch 11/20: 100%|██████████| 83/83 [00:09<00:00,  8.63it/s]\n"
          ]
        },
        {
          "output_type": "stream",
          "name": "stdout",
          "text": [
            "Epoch 11: Train Loss: 0.3861, Train Acc: 86.96%\n"
          ]
        },
        {
          "output_type": "stream",
          "name": "stderr",
          "text": [
            "Epoch 12/20: 100%|██████████| 83/83 [00:09<00:00,  8.77it/s]\n"
          ]
        },
        {
          "output_type": "stream",
          "name": "stdout",
          "text": [
            "Epoch 12: Train Loss: 0.3432, Train Acc: 89.30%\n"
          ]
        },
        {
          "output_type": "stream",
          "name": "stderr",
          "text": [
            "Epoch 13/20: 100%|██████████| 83/83 [00:09<00:00,  8.64it/s]\n"
          ]
        },
        {
          "output_type": "stream",
          "name": "stdout",
          "text": [
            "Epoch 13: Train Loss: 0.3030, Train Acc: 90.71%\n"
          ]
        },
        {
          "output_type": "stream",
          "name": "stderr",
          "text": [
            "Epoch 14/20: 100%|██████████| 83/83 [00:09<00:00,  8.73it/s]\n"
          ]
        },
        {
          "output_type": "stream",
          "name": "stdout",
          "text": [
            "Epoch 14: Train Loss: 0.2794, Train Acc: 90.94%\n"
          ]
        },
        {
          "output_type": "stream",
          "name": "stderr",
          "text": [
            "Epoch 15/20: 100%|██████████| 83/83 [00:09<00:00,  8.51it/s]\n"
          ]
        },
        {
          "output_type": "stream",
          "name": "stdout",
          "text": [
            "Epoch 15: Train Loss: 0.2090, Train Acc: 95.01%\n"
          ]
        },
        {
          "output_type": "stream",
          "name": "stderr",
          "text": [
            "Epoch 16/20: 100%|██████████| 83/83 [00:09<00:00,  8.74it/s]\n"
          ]
        },
        {
          "output_type": "stream",
          "name": "stdout",
          "text": [
            "Epoch 16: Train Loss: 0.1847, Train Acc: 95.85%\n"
          ]
        },
        {
          "output_type": "stream",
          "name": "stderr",
          "text": [
            "Epoch 17/20: 100%|██████████| 83/83 [00:09<00:00,  8.73it/s]\n"
          ]
        },
        {
          "output_type": "stream",
          "name": "stdout",
          "text": [
            "Epoch 17: Train Loss: 0.1956, Train Acc: 95.05%\n"
          ]
        },
        {
          "output_type": "stream",
          "name": "stderr",
          "text": [
            "Epoch 18/20: 100%|██████████| 83/83 [00:09<00:00,  8.61it/s]\n"
          ]
        },
        {
          "output_type": "stream",
          "name": "stdout",
          "text": [
            "Epoch 18: Train Loss: 0.1291, Train Acc: 98.06%\n"
          ]
        },
        {
          "output_type": "stream",
          "name": "stderr",
          "text": [
            "Epoch 19/20: 100%|██████████| 83/83 [00:09<00:00,  8.64it/s]\n"
          ]
        },
        {
          "output_type": "stream",
          "name": "stdout",
          "text": [
            "Epoch 19: Train Loss: 0.1445, Train Acc: 96.95%\n"
          ]
        },
        {
          "output_type": "stream",
          "name": "stderr",
          "text": [
            "Epoch 20/20: 100%|██████████| 83/83 [00:09<00:00,  8.63it/s]\n"
          ]
        },
        {
          "output_type": "stream",
          "name": "stdout",
          "text": [
            "Epoch 20: Train Loss: 0.0860, Train Acc: 99.12%\n",
            "Training SVM...\n"
          ]
        },
        {
          "output_type": "stream",
          "name": "stderr",
          "text": [
            "Extracting features: 100%|██████████| 83/83 [00:01<00:00, 44.66it/s]\n"
          ]
        },
        {
          "output_type": "stream",
          "name": "stdout",
          "text": [
            "Training SVM on 5252 samples\n",
            "Evaluating model...\n"
          ]
        },
        {
          "output_type": "stream",
          "name": "stderr",
          "text": [
            "Evaluating: 100%|██████████| 15/15 [00:00<00:00, 19.51it/s]\n"
          ]
        },
        {
          "output_type": "stream",
          "name": "stdout",
          "text": [
            "Final Validation Accuracy: 0.6095\n",
            "              precision    recall  f1-score   support\n",
            "\n",
            "           0       0.77      0.68      0.72       544\n",
            "           1       0.53      0.49      0.51        84\n",
            "           2       0.43      0.50      0.46       264\n",
            "           3       0.38      0.66      0.48        35\n",
            "\n",
            "    accuracy                           0.61       927\n",
            "   macro avg       0.53      0.58      0.54       927\n",
            "weighted avg       0.63      0.61      0.62       927\n",
            "\n",
            "Final Validation F1 Score: 0.6182\n"
          ]
        },
        {
          "output_type": "display_data",
          "data": {
            "text/plain": [
              "<Figure size 640x480 with 2 Axes>"
            ],
            "image/png": "[encoded data removed]"
          },
          "metadata": {}
        },
        {
          "output_type": "stream",
          "name": "stdout",
          "text": [
            "Weighted F1 of CNNwithSVM with on PCA_50%: 0.6182\n",
            "\n",
            "All compression tests completed.\n"
          ]
        }
      ]
    }
  ]
}