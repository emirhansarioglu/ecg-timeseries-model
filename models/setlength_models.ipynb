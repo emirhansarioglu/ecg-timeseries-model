{
  "cells": [
    {
      "cell_type": "markdown",
      "id": "abe960e8",
      "metadata": {
        "id": "abe960e8"
      },
      "source": [
        "# All of the Models using padding and trimming\n",
        "Set input length to 9000 \\\n",
        "See paddedsequence_rnn for variable length inputs\n",
        "\n",
        "| Model | Description |\n",
        "| --- | --- |\n",
        "| SimpleCNN | CNN with residual connections |\n",
        "| CNNWithSVM | SimpleCNN with SVM classifier |\n",
        "| VorgabeRNN | CNN extractor followed by RNN then FC classifier as described in the exercise sheet |\n",
        "| VorgabeLSTM | VorgabeRNN with LSTM instead of RNN |\n",
        "| VorgabeGRU | VorgabeRNN with GRU instead of RNN |"
      ]
    },
    {
      "cell_type": "code",
      "execution_count": null,
      "id": "xM1GoIFPJCIX",
      "metadata": {
        "colab": {
          "base_uri": "https://localhost:8080/"
        },
        "id": "xM1GoIFPJCIX",
        "outputId": "d869fc44-37ff-405b-800a-bbdee54015a3"
      },
      "outputs": [
        {
          "name": "stdout",
          "output_type": "stream",
          "text": [
            "Drive already mounted at /content/drive; to attempt to forcibly remount, call drive.mount(\"/content/drive\", force_remount=True).\n"
          ]
        }
      ],
      "source": [
        "try:\n",
        "    from google.colab import drive\n",
        "    drive.mount(\"/content/drive\")\n",
        "except ImportError:\n",
        "    pass"
      ]
    },
    {
      "cell_type": "code",
      "execution_count": null,
      "id": "047dcf3d",
      "metadata": {
        "colab": {
          "base_uri": "https://localhost:8080/"
        },
        "id": "047dcf3d",
        "outputId": "22471414-68c3-4313-a068-96d07e1045f9"
      },
      "outputs": [
        {
          "name": "stdout",
          "output_type": "stream",
          "text": [
            "Seed set for reproducibility.\n"
          ]
        }
      ],
      "source": [
        "import pandas as pd\n",
        "import torch.nn as nn\n",
        "import torch.nn.functional as F\n",
        "import random\n",
        "import numpy as np\n",
        "import torch\n",
        "\n",
        "# Modify this for your machine\n",
        "DEVICE =  \"cuda\" if torch.cuda.is_available() else \"mps\"\n",
        "MAIN_PATH = \"/content/drive/MyDrive/ecg-timeseries-model/models/\" if DEVICE == \"cuda\" else \"\"\n",
        "\n",
        "train_df = pd.read_pickle(MAIN_PATH + \"train_df.pkl\")\n",
        "val_df = pd.read_pickle(MAIN_PATH + \"val_df.pkl\")\n",
        "\n",
        "INPUT_LENGTH = 9000\n",
        "BATCH_SIZE = 64\n",
        "EPOCHS = 10\n",
        "NUM_WORKERS = 2 if DEVICE == \"cuda\" else 0\n",
        "NUM_CLASSES = 4\n",
        "\n",
        "N_FFT = 256\n",
        "HOP_LENGTH = 128\n",
        "\n",
        "\n",
        "CLASS_NAMES ={\n",
        "    0: \"Normal\",\n",
        "    1: \"AF\",\n",
        "    2: \"Other\",\n",
        "    3: \"Noisy\"\n",
        "}\n",
        "\n",
        "\n",
        "TRAINING_MEAN = 1.07e-09\n",
        "TRAINING_STD = 175.11\n",
        "\n",
        "\n",
        "def set_seed(seed=42):\n",
        "    random.seed(seed)  # Python random\n",
        "    np.random.seed(seed)  # NumPy\n",
        "    torch.manual_seed(seed)  # PyTorch CPU\n",
        "    torch.cuda.manual_seed(seed)  # PyTorch GPU\n",
        "    torch.backends.cudnn.deterministic = True\n",
        "    torch.backends.cudnn.benchmark = False\n",
        "\n",
        "\n",
        "set_seed(42)\n",
        "print(\"Seed set for reproducibility.\")"
      ]
    },
    {
      "cell_type": "code",
      "execution_count": null,
      "id": "e57a0c48",
      "metadata": {
        "id": "e57a0c48"
      },
      "outputs": [],
      "source": [
        "# Augmentation functions\n",
        "import scipy.signal\n",
        "import torch\n",
        "import numpy as np\n",
        "\n",
        "# wrapping them in nn.Module should not introduce huge overhead\n",
        "\n",
        "\n",
        "def time_shift(signal, shift_range=(-100, 100)):\n",
        "    shift = np.roll(signal, shift=random.randint(shift_range[0], shift_range[1]))\n",
        "    return shift\n",
        "\n",
        "\n",
        "def add_noise(signal, noise_level=0.1):\n",
        "    noise = np.random.normal(0, noise_level, signal.shape)\n",
        "    return signal + noise\n",
        "\n",
        "\n",
        "def time_warp(signal, warp_factor=0.1):\n",
        "    return scipy.signal.resample(\n",
        "        signal, int(len(signal) * (1 + np.random.uniform(-warp_factor, warp_factor)))\n",
        "    )\n",
        "\n",
        "\n",
        "def amplitude_scaling(signal, scale_range=(0.8, 1.2)):\n",
        "    scale = random.uniform(scale_range[0], scale_range[1])\n",
        "    return signal * scale\n",
        "\n",
        "\n",
        "def pad_or_trim(signal, target_length=INPUT_LENGTH):\n",
        "    current_length = len(signal)\n",
        "\n",
        "    if current_length < target_length:\n",
        "        # Pad with zeros at the end\n",
        "        padding = target_length - current_length\n",
        "        signal = np.pad(signal, (0, padding), \"constant\")\n",
        "    elif current_length > target_length:\n",
        "        # Trim from center\n",
        "        start = (current_length - target_length) // 2\n",
        "        signal = signal[start : start + target_length]\n",
        "\n",
        "    return signal\n",
        "\n",
        "\n",
        "def pad_and_augment(signal, augmentation=\"all\"):\n",
        "    if augmentation in (\"all\", \"warp_only\") and np.random.rand() < 0.5:\n",
        "        signal = time_warp(signal)\n",
        "    signal = pad_or_trim(signal, INPUT_LENGTH)\n",
        "    if augmentation in (\"all\", \"noise_only\") and np.random.rand() < 0.5:\n",
        "        signal = add_noise(signal)\n",
        "    if augmentation in (\"all\", \"shift_only\") and np.random.rand() < 0.5:\n",
        "        signal = time_shift(signal)\n",
        "    if augmentation in (\"all\", \"scale_only\") and np.random.rand() < 0.5:\n",
        "        signal = amplitude_scaling(signal)\n",
        "    return signal\n",
        "\n",
        "\n",
        "def fourier_transform(signal):\n",
        "    coeffs = np.fft.fft(signal)\n",
        "    return np.abs(coeffs)\n",
        "\n",
        "\n",
        "class ECGDataset(torch.utils.data.Dataset):\n",
        "    def __init__(self, df, signal_transform=None, augmentation=None):\n",
        "        self.df = df\n",
        "        self.signal_transform = signal_transform\n",
        "        self.augmentation = augmentation\n",
        "        self.target_length = (\n",
        "            INPUT_LENGTH\n",
        "        )\n",
        "\n",
        "    def __len__(self):\n",
        "        return len(self.df)\n",
        "\n",
        "    def __getitem__(self, idx):\n",
        "        assert self.signal_transform == None, \"Only None is supported for now\"\n",
        "        signal = self.df.iloc[idx][\"signal\"]\n",
        "        signal = np.array(signal, dtype=np.float32)\n",
        "        label = int(self.df.iloc[idx][\"label\"])\n",
        "\n",
        "        # keep it simple: time domain augmentation only\n",
        "        signal = pad_and_augment(\n",
        "            signal, self.augmentation\n",
        "        )  # has padding in it. the order of augmentations should be important (wrapping changes the shape but noise and scaling before padding makes it easier to distinguish the signal length)\n",
        "\n",
        "        signal = (signal - TRAINING_MEAN) / TRAINING_STD\n",
        "        signal = torch.tensor(signal, dtype=torch.float32)\n",
        "\n",
        "\n",
        "\n",
        "        return signal, label"
      ]
    },
    {
      "cell_type": "code",
      "execution_count": 15,
      "id": "24857f2e",
      "metadata": {
        "colab": {
          "base_uri": "https://localhost:8080/"
        },
        "id": "24857f2e",
        "outputId": "2a2c0c74-1428-48cd-93b0-bf48915ef00a"
      },
      "outputs": [
        {
          "name": "stdout",
          "output_type": "stream",
          "text": [
            "Training set - Mean: -5.337952319071822e-05, Std: 1.0851188572970303\n"
          ]
        }
      ],
      "source": [
        "from torch.utils.data import DataLoader\n",
        "\n",
        "train_dataset = ECGDataset(train_df, signal_transform=None, augmentation=None)\n",
        "val_dataset = ECGDataset(val_df)\n",
        "\n",
        "train_loader = DataLoader(\n",
        "    train_dataset,\n",
        "    batch_size=32,\n",
        "    shuffle=True,\n",
        "    generator=torch.Generator().manual_seed(42),\n",
        ")\n",
        "val_loader = DataLoader(val_dataset, batch_size=32)\n",
        "\n",
        "\n",
        "\n",
        "# get mean and std of the training set\n",
        "def get_mean_std(loader):\n",
        "    means = []\n",
        "    stds = []\n",
        "    for signals, _ in loader:\n",
        "        means.append(signals.mean().item())\n",
        "        stds.append(signals.std().item())\n",
        "    return np.mean(means), np.mean(stds)\n",
        "\n",
        "train_mean, train_std = get_mean_std(train_loader)\n",
        "print(f\"Training set - Mean: {train_mean}, Std: {train_std}\")\n"
      ]
    },
    {
      "cell_type": "code",
      "execution_count": 16,
      "id": "11dcc8b4",
      "metadata": {
        "id": "11dcc8b4"
      },
      "outputs": [],
      "source": [
        "def he_init_weights(m):\n",
        "    \"\"\"He initialization for weights\"\"\"\n",
        "    if isinstance(m, nn.Conv1d) or isinstance(m, nn.Linear):\n",
        "        nn.init.kaiming_normal_(m.weight, mode=\"fan_out\", nonlinearity=\"relu\")\n",
        "        if m.bias is not None:\n",
        "            nn.init.constant_(m.bias, 0)\n",
        "\n",
        "\n",
        "def compute_stft_batch(x, n_fft=256, hop_length=128):\n",
        "    stft = torch.stft(x, n_fft=n_fft, hop_length=hop_length, return_complex=True)\n",
        "    return torch.abs(stft)"
      ]
    },
    {
      "cell_type": "code",
      "execution_count": 17,
      "id": "7dc33a7d",
      "metadata": {
        "id": "7dc33a7d"
      },
      "outputs": [],
      "source": [
        "# add data parallelism support\n",
        "import torch.nn as nn\n",
        "from torch.nn.utils.rnn import PackedSequence\n",
        "\n",
        "\n",
        "class VorgabeRNN(nn.Module):\n",
        "    def __init__(\n",
        "        self,\n",
        "        hidden_size=50,\n",
        "        num_layers=2,\n",
        "        num_classes=NUM_CLASSES,\n",
        "        n_fft=512,\n",
        "        hop_length=256,\n",
        "        dropout_rate=0.2,\n",
        "    ):\n",
        "        super(VorgabeRNN, self).__init__()\n",
        "\n",
        "        # STFT parameters\n",
        "        self.n_fft = n_fft\n",
        "        self.hop_length = hop_length\n",
        "        self.n_freqs = n_fft // 2 + 1  # Number of frequency bins\n",
        "\n",
        "        self.conv1 = nn.Conv2d(1, 32, kernel_size=(7, 7), padding=3)\n",
        "        self.conv2 = nn.Conv2d(32, 64, kernel_size=(5, 5), padding=2)\n",
        "        self.pool = nn.MaxPool2d(2, 2)\n",
        "        self.dropout = nn.Dropout(dropout_rate)\n",
        "\n",
        "        self.conv_output_size = 64 * (\n",
        "            self.n_freqs // 4\n",
        "        )  # Assuming 2 pooling operations\n",
        "\n",
        "        self.rnn = nn.RNN(\n",
        "            self.conv_output_size, hidden_size, num_layers, batch_first=True\n",
        "        )\n",
        "        self.fc = nn.Linear(hidden_size, num_classes)\n",
        "        self.n_fft = n_fft\n",
        "        self.hop_length = hop_length\n",
        "        self.stft = compute_stft_batch\n",
        "        self.apply(he_init_weights)\n",
        "\n",
        "        self.rnn_type = \"RNN\"\n",
        "\n",
        "    def feature_extractor( self, x: torch.Tensor) -> torch.Tensor:\n",
        "        x = x.squeeze(1)  # Remove the sequence dimension if present\n",
        "        x = self.stft(x, n_fft=self.n_fft, hop_length=self.hop_length)\n",
        "\n",
        "        x = torch.log1p(x + 1e-8)\n",
        "        x = x.unsqueeze(1)\n",
        "\n",
        "        x = self.pool(F.relu(self.conv1(x)))\n",
        "        x = self.dropout(x)\n",
        "        x = self.pool(F.relu(self.conv2(x)))\n",
        "        x = self.dropout(x)\n",
        "\n",
        "        # Reshape for RNN: (batch, time, features)\n",
        "        batch_size, channels, freq_bins, time_frames = x.shape\n",
        "        x = x.view(batch_size, time_frames, -1)  # Flatten freq and channel dimensions\n",
        "\n",
        "\n",
        "        rnn_result = self.rnn(x)\n",
        "        if self.rnn_type == \"LSTM\":\n",
        "            lstm_hidden_state = rnn_result[1][0]  # Different variable name\n",
        "            return lstm_hidden_state[-1]\n",
        "        else:\n",
        "            # RNN/GRU case: hidden is direct\n",
        "            rnn_hidden_state = rnn_result[1]  # Different variable name\n",
        "            return rnn_hidden_state[-1]\n",
        "\n",
        "    def forward(self, x: torch.Tensor) -> torch.Tensor:\n",
        "        x = self.feature_extractor(x)\n",
        "        x = self.fc(x)\n",
        "        return x\n",
        "\n",
        "    def predict(self, x: torch.Tensor) -> torch.Tensor:\n",
        "        self.eval()\n",
        "        with torch.no_grad():\n",
        "            x = self.forward(x)\n",
        "            _, predicted = torch.max(x, 1)\n",
        "        return predicted"
      ]
    },
    {
      "cell_type": "code",
      "execution_count": 18,
      "id": "1a2c0f9b",
      "metadata": {
        "id": "1a2c0f9b"
      },
      "outputs": [],
      "source": [
        "class VorgabeLSTM(VorgabeRNN):\n",
        "    def __init__(self, hidden_size=50, num_layers=2, num_classes=NUM_CLASSES, n_fft=512, hop_length=256, dropout_rate=0.2):\n",
        "        super().__init__(hidden_size, num_layers, num_classes, n_fft, hop_length, dropout_rate)\n",
        "        self.rnn = nn.LSTM(self.conv_output_size, hidden_size, num_layers, batch_first=True)\n",
        "        self.rnn_type = \"LSTM\"\n",
        "\n",
        "class VorgabeGRU(VorgabeRNN):\n",
        "    def __init__(self, hidden_size=50, num_layers=2, num_classes=NUM_CLASSES, n_fft=512, hop_length=256, dropout_rate=0.2):\n",
        "        super().__init__(hidden_size, num_layers, num_classes, n_fft, hop_length, dropout_rate)\n",
        "        self.rnn = nn.GRU(self.conv_output_size, hidden_size, num_layers, batch_first=True)\n",
        "        self.rnn_type = \"GRU\""
      ]
    },
    {
      "cell_type": "code",
      "execution_count": null,
      "id": "4571b6af",
      "metadata": {
        "id": "4571b6af"
      },
      "outputs": [],
      "source": [
        "import torch\n",
        "import torch.nn as nn\n",
        "import torch.optim as optim\n",
        "from sklearn.svm import SVC\n",
        "import numpy as np\n",
        "from tqdm import tqdm\n",
        "\n",
        "\n",
        "class SimpleCNNwithoutClassifier(nn.Module):\n",
        "    def __init__(self, feature_size=50):\n",
        "        super(SimpleCNNwithoutClassifier, self).__init__()\n",
        "        self.feature_size = feature_size\n",
        "\n",
        "        self.convblock1 = nn.Sequential(\n",
        "            nn.LazyConv2d(out_channels=16, kernel_size=7, padding=3),\n",
        "            nn.BatchNorm2d(16),\n",
        "            nn.ReLU(),\n",
        "            nn.LazyConv2d(out_channels=16, kernel_size=7, padding=3),\n",
        "            nn.BatchNorm2d(16),\n",
        "        )\n",
        "        self.conv1 = nn.LazyConv2d(out_channels=16, kernel_size=1, padding=0)\n",
        "        self.maxpool1 = nn.MaxPool2d(kernel_size=2)\n",
        "\n",
        "        self.convblock2 = nn.Sequential(\n",
        "            nn.Conv2d(16, 32, kernel_size=5, padding=2),\n",
        "            nn.BatchNorm2d(32),\n",
        "            nn.ReLU(),\n",
        "        )\n",
        "        self.conv2 = nn.Conv2d(16, 32, kernel_size=1, padding=0)\n",
        "        self.maxpool2 = nn.MaxPool2d(kernel_size=2)\n",
        "\n",
        "        self.fc1 = None\n",
        "        self._fc1_initialized = False\n",
        "\n",
        "        self.apply(he_init_weights)\n",
        "\n",
        "    def forward(self, x):\n",
        "        x = x.squeeze(1)  # Remove channel dimension if present\n",
        "\n",
        "        x = compute_stft_batch(x)  # STFT → (batch, freq, time)\n",
        "        x = torch.log1p(x)  # Apply log1p transformation\n",
        "\n",
        "        x = x.unsqueeze(1)  # (batch, 1, freq, time)\n",
        "\n",
        "        # First residual block\n",
        "        x = self.convblock1(x) + self.conv1(x)  # Residual connection\n",
        "        x = nn.ReLU()(x)\n",
        "        x = self.maxpool1(x)\n",
        "        # Ensure the output shape is compatible with the next layer\n",
        "        if x.dim() == 3:  # If the output is 3D,\n",
        "            x = x.unsqueeze(1)  # Add channel dimension\n",
        "\n",
        "\n",
        "        x = self.convblock2(x) + self.conv2(x)\n",
        "        x = nn.ReLU()(x)\n",
        "        x = self.maxpool2(x)\n",
        "\n",
        "        if x.dim() == 3:  # If the output is 3D,\n",
        "            x = x.unsqueeze(1)  # Add channel dimension\n",
        "\n",
        "        # Flatten\n",
        "        batch_size = x.size(0)\n",
        "        x_flat = x.view(batch_size, -1)\n",
        "\n",
        "\n",
        "        if not self._fc1_initialized:\n",
        "            flattened_size = x_flat.size(1)\n",
        "            self.fc1 = nn.Linear(flattened_size, self.feature_size).to(x.device)\n",
        "            self._fc1_initialized = True\n",
        "            print(f\"Initialized fc1 with input size: {flattened_size}\")\n",
        "\n",
        "        x = self.fc1(x_flat)\n",
        "        return x\n",
        "\n",
        "\n",
        "class SimpleCNN(nn.Module):\n",
        "\n",
        "    def __init__(\n",
        "        self,\n",
        "        num_classes=NUM_CLASSES,\n",
        "        feature_size=128,  # hidden_size\n",
        "    ):\n",
        "\n",
        "        super(SimpleCNN, self).__init__()\n",
        "        self.num_classes = num_classes\n",
        "        self.cnn_feature_extractor = SimpleCNNwithoutClassifier(\n",
        "            feature_size=feature_size,\n",
        "        )\n",
        "        self.fc_classifier = nn.Linear(feature_size, self.num_classes)\n",
        "        self.apply(he_init_weights)\n",
        "\n",
        "    def forward(self, x):\n",
        "        x = self.cnn_feature_extractor(x)\n",
        "        x = x.view(x.size(0), -1)\n",
        "        x = self.fc_classifier(x)\n",
        "        return x\n",
        "\n",
        "    def predict(self, x):\n",
        "        with torch.no_grad():\n",
        "            x = self.forward(x)\n",
        "            _, predicted = torch.max(x, 1)\n",
        "        return predicted\n",
        "\n",
        "\n",
        "class CNNwithSVM(nn.Module):\n",
        "    def __init__(self, num_classes=NUM_CLASSES, feature_size=128, svm_params=None):  # hidden_size\n",
        "        super().__init__()\n",
        "        self.cnn_feature_extractor = SimpleCNNwithoutClassifier(\n",
        "            feature_size=feature_size,\n",
        "        )\n",
        "        self.svm = SVC(**(svm_params or {}))\n",
        "        self.is_svm_trained = False\n",
        "        self._temp_classifier = None\n",
        "\n",
        "    def forward(self, x):\n",
        "        features = self.cnn_feature_extractor(x)\n",
        "        if hasattr(self, \"_temp_classifier\") and self._temp_classifier is not None:\n",
        "            return self._temp_classifier(features)\n",
        "        return features\n",
        "\n",
        "    def predict(self, x):\n",
        "        if not self.is_svm_trained:\n",
        "            raise ValueError(\"SVM not trained yet!\")\n",
        "        self.eval()\n",
        "        with torch.no_grad():\n",
        "            features = self.cnn_feature_extractor(x).cpu().numpy()\n",
        "        return self.svm.predict(features)\n",
        "\n",
        "    def _setup_temp_classifier(self, num_classes, device):\n",
        "        \"\"\"Add temporary classifier for CNN training\"\"\"\n",
        "        feature_size = self.cnn_feature_extractor.feature_size\n",
        "        self._temp_classifier = nn.Linear(feature_size, num_classes).to(device)\n",
        "\n",
        "    def _remove_temp_classifier(self):\n",
        "        \"\"\"Remove temporary classifier after CNN training\"\"\"\n",
        "        self._temp_classifier = None"
      ]
    },
    {
      "cell_type": "code",
      "execution_count": 20,
      "id": "06243073",
      "metadata": {
        "id": "06243073"
      },
      "outputs": [],
      "source": [
        "from sklearn.utils.class_weight import compute_class_weight\n",
        "\n",
        "def train_model(\n",
        "    model, train_loader, epochs=10, lr=0.001, batch_size_factor=4\n",
        "):\n",
        "    device = \"cuda\" if torch.cuda.is_available() else \"mps\"\n",
        "    model.to(device)\n",
        "\n",
        "    is_cnn_svm = hasattr(model, \"svm\")\n",
        "    num_classes = len(torch.unique(torch.cat([labels for _, labels in train_loader])))\n",
        "\n",
        "    print(f\"Training {'CNN+SVM' if is_cnn_svm else 'CNN'} model on {device}\")\n",
        "\n",
        "    if is_cnn_svm:\n",
        "        model._setup_temp_classifier(num_classes, device)\n",
        "\n",
        "    optimizer = optim.Adam(model.parameters(), lr=lr)\n",
        "\n",
        "    # Compute class weights\n",
        "    original_weights = compute_class_weight(\n",
        "        class_weight=\"balanced\",\n",
        "        classes=np.unique(train_df[\"label\"]),\n",
        "        y=train_df[\"label\"],\n",
        "    )\n",
        "\n",
        "    scaled_weights = original_weights / original_weights.max()  # normalize to max=1\n",
        "    scaled_weights = 0.5 + (scaled_weights * 0.5)  # shrink range to [0.5, 1.0] for balance\n",
        "\n",
        "    weights_tensor = torch.tensor(scaled_weights, dtype=torch.float32).to(device)\n",
        "\n",
        "    criterion = nn.CrossEntropyLoss(weight=weights_tensor)\n",
        "\n",
        "    print(\"Training CNN feature extractor...\")\n",
        "    model.train()\n",
        "    for epoch in range(epochs):\n",
        "        total_loss, correct, total = 0, 0, 0\n",
        "\n",
        "        for signals, labels in tqdm(train_loader, desc=f\"Epoch {epoch+1}/{epochs}\"):\n",
        "            signals, labels = signals.unsqueeze(1).to(device), labels.to(device)\n",
        "\n",
        "            optimizer.zero_grad()\n",
        "            outputs = model(signals)\n",
        "            loss = criterion(outputs, labels)\n",
        "            loss.backward()\n",
        "            optimizer.step()\n",
        "\n",
        "            total_loss += loss.item()\n",
        "            _, predicted = outputs.max(1)\n",
        "            total += labels.size(0)\n",
        "            correct += predicted.eq(labels).sum().item()\n",
        "\n",
        "        acc = 100.0 * correct / total\n",
        "        print(\n",
        "            f\"Epoch {epoch+1}: Train Loss: {total_loss/len(train_loader):.4f}, Train Acc: {acc:.2f}%\"\n",
        "        )\n",
        "\n",
        "    if is_cnn_svm:\n",
        "        model._remove_temp_classifier()\n",
        "        _train_svm_phase(model, train_loader, device, batch_size_factor)\n",
        "\n",
        "    return model\n",
        "\n",
        "\n",
        "def _train_svm_phase(model, train_loader, device, batch_size_factor):\n",
        "\n",
        "    print(\"Training SVM...\")\n",
        "    model.eval()\n",
        "    all_features, all_labels = [], []\n",
        "    batch_features, batch_labels = [], []\n",
        "\n",
        "    # extract_features_from_loader(model, data_loader, device):\n",
        "    with torch.no_grad():\n",
        "        for signals, labels in tqdm(train_loader, desc=\"Extracting features\"):\n",
        "            signals = signals.unsqueeze(1).to(device)\n",
        "            features = model.cnn_feature_extractor(signals)\n",
        "\n",
        "            batch_features.append(features)\n",
        "            batch_labels.append(labels)\n",
        "\n",
        "            if len(batch_features) >= batch_size_factor:\n",
        "                combined_features = torch.cat(batch_features, dim=0).cpu().numpy()\n",
        "                combined_labels = torch.cat(batch_labels, dim=0).numpy()\n",
        "                all_features.append(combined_features)\n",
        "                all_labels.append(combined_labels)\n",
        "                batch_features, batch_labels = [], []\n",
        "\n",
        "    # Process remaining\n",
        "    if batch_features:\n",
        "        combined_features = torch.cat(batch_features, dim=0).cpu().numpy()\n",
        "        combined_labels = torch.cat(batch_labels, dim=0).numpy()\n",
        "        all_features.append(combined_features)\n",
        "        all_labels.append(combined_labels)\n",
        "\n",
        "    final_features = np.concatenate(all_features, axis=0)\n",
        "    final_labels = np.concatenate(all_labels, axis=0)\n",
        "\n",
        "    print(f\"Training SVM on {len(final_features)} samples\")\n",
        "    model.svm.fit(final_features, final_labels)\n",
        "    model.is_svm_trained = True\n",
        "\n",
        "import matplotlib.pyplot as plt\n",
        "import seaborn as sns\n",
        "from sklearn.metrics import accuracy_score, classification_report, confusion_matrix, f1_score\n",
        "\n",
        "\n",
        "def evaluate_model(model, val_loader, device):\n",
        "    print(\"Evaluating model...\")\n",
        "    model.eval()\n",
        "    all_predictions, all_labels = [], []\n",
        "    is_cnn_svm = hasattr(model, \"svm\")\n",
        "\n",
        "    with torch.no_grad():\n",
        "        for signals, labels in tqdm(val_loader, desc=\"Evaluating\"):\n",
        "            signals = signals.unsqueeze(1).to(device)\n",
        "\n",
        "            if is_cnn_svm:\n",
        "                features = model.cnn_feature_extractor(signals).cpu().numpy()\n",
        "                predictions = model.svm.predict(features)\n",
        "            else:\n",
        "                predictions = model.predict(signals)\n",
        "                predictions = predictions.cpu().numpy()\n",
        "\n",
        "            all_predictions.extend(predictions)\n",
        "            all_labels.extend(labels.numpy())\n",
        "\n",
        "    accuracy = accuracy_score(all_labels, all_predictions)\n",
        "    print(f\"Final Validation Accuracy: {accuracy:.4f}\")\n",
        "    print(classification_report(all_labels, all_predictions))\n",
        "\n",
        "    # get overall f1 score\n",
        "    f1 = f1_score(all_labels, all_predictions, average=\"weighted\")\n",
        "    print(f\"Final Validation F1 Score: {f1:.4f}\")\n",
        "\n",
        "    # confusion matrix\n",
        "    cm = confusion_matrix(all_labels, all_predictions)\n",
        "    # normalize heatmap colors in each row for class distribution\n",
        "    cm_normalized = cm.astype(\"float\") / cm.sum(axis=1)[:, np.newaxis]\n",
        "    sns.heatmap(cm_normalized, annot=True, fmt=\".2f\", cmap=\"Blues\", xticklabels=CLASS_NAMES.values(), yticklabels=CLASS_NAMES.values())\n",
        "    plt.xlabel(\"Predicted\")\n",
        "    plt.ylabel(\"True\")\n",
        "    plt.title(\"Confusion Matrix\")\n",
        "    plt.show()\n",
        "\n",
        "\n",
        "    return accuracy"
      ]
    },
    {
      "cell_type": "code",
      "execution_count": 21,
      "id": "102ef608",
      "metadata": {
        "colab": {
          "base_uri": "https://localhost:8080/",
          "height": 1000
        },
        "id": "102ef608",
        "outputId": "ffa89bb0-d8ac-4fdd-fa49-2c8097ece580"
      },
      "outputs": [
        {
          "name": "stdout",
          "output_type": "stream",
          "text": [
            "Starting tests with different configurations...\n",
            "Testing VorgabeRNN with None and all\n",
            "Training CNN model on cuda\n",
            "Training CNN feature extractor...\n"
          ]
        },
        {
          "name": "stderr",
          "output_type": "stream",
          "text": [
            "Epoch 1/20: 100%|██████████| 83/83 [00:04<00:00, 17.92it/s]\n"
          ]
        },
        {
          "name": "stdout",
          "output_type": "stream",
          "text": [
            "Epoch 1: Train Loss: 1.3216, Train Acc: 55.29%\n"
          ]
        },
        {
          "name": "stderr",
          "output_type": "stream",
          "text": [
            "Epoch 2/20: 100%|██████████| 83/83 [00:04<00:00, 18.60it/s]\n"
          ]
        },
        {
          "name": "stdout",
          "output_type": "stream",
          "text": [
            "Epoch 2: Train Loss: 0.9981, Train Acc: 60.43%\n"
          ]
        },
        {
          "name": "stderr",
          "output_type": "stream",
          "text": [
            "Epoch 3/20: 100%|██████████| 83/83 [00:06<00:00, 13.49it/s]\n"
          ]
        },
        {
          "name": "stdout",
          "output_type": "stream",
          "text": [
            "Epoch 3: Train Loss: 0.9440, Train Acc: 61.79%\n"
          ]
        },
        {
          "name": "stderr",
          "output_type": "stream",
          "text": [
            "Epoch 4/20: 100%|██████████| 83/83 [00:04<00:00, 18.12it/s]\n"
          ]
        },
        {
          "name": "stdout",
          "output_type": "stream",
          "text": [
            "Epoch 4: Train Loss: 0.8860, Train Acc: 64.36%\n"
          ]
        },
        {
          "name": "stderr",
          "output_type": "stream",
          "text": [
            "Epoch 5/20: 100%|██████████| 83/83 [00:05<00:00, 15.61it/s]\n"
          ]
        },
        {
          "name": "stdout",
          "output_type": "stream",
          "text": [
            "Epoch 5: Train Loss: 0.8702, Train Acc: 65.08%\n"
          ]
        },
        {
          "name": "stderr",
          "output_type": "stream",
          "text": [
            "Epoch 6/20: 100%|██████████| 83/83 [00:05<00:00, 15.77it/s]\n"
          ]
        },
        {
          "name": "stdout",
          "output_type": "stream",
          "text": [
            "Epoch 6: Train Loss: 0.8414, Train Acc: 66.30%\n"
          ]
        },
        {
          "name": "stderr",
          "output_type": "stream",
          "text": [
            "Epoch 7/20: 100%|██████████| 83/83 [00:04<00:00, 18.26it/s]\n"
          ]
        },
        {
          "name": "stdout",
          "output_type": "stream",
          "text": [
            "Epoch 7: Train Loss: 0.8302, Train Acc: 66.74%\n"
          ]
        },
        {
          "name": "stderr",
          "output_type": "stream",
          "text": [
            "Epoch 8/20: 100%|██████████| 83/83 [00:06<00:00, 13.33it/s]\n"
          ]
        },
        {
          "name": "stdout",
          "output_type": "stream",
          "text": [
            "Epoch 8: Train Loss: 0.7952, Train Acc: 68.64%\n"
          ]
        },
        {
          "name": "stderr",
          "output_type": "stream",
          "text": [
            "Epoch 9/20: 100%|██████████| 83/83 [00:04<00:00, 18.07it/s]\n"
          ]
        },
        {
          "name": "stdout",
          "output_type": "stream",
          "text": [
            "Epoch 9: Train Loss: 0.7914, Train Acc: 68.87%\n"
          ]
        },
        {
          "name": "stderr",
          "output_type": "stream",
          "text": [
            "Epoch 10/20: 100%|██████████| 83/83 [00:04<00:00, 18.24it/s]\n"
          ]
        },
        {
          "name": "stdout",
          "output_type": "stream",
          "text": [
            "Epoch 10: Train Loss: 0.7699, Train Acc: 69.54%\n"
          ]
        },
        {
          "name": "stderr",
          "output_type": "stream",
          "text": [
            "Epoch 11/20: 100%|██████████| 83/83 [00:06<00:00, 13.59it/s]\n"
          ]
        },
        {
          "name": "stdout",
          "output_type": "stream",
          "text": [
            "Epoch 11: Train Loss: 0.8610, Train Acc: 65.94%\n"
          ]
        },
        {
          "name": "stderr",
          "output_type": "stream",
          "text": [
            "Epoch 12/20: 100%|██████████| 83/83 [00:04<00:00, 18.74it/s]\n"
          ]
        },
        {
          "name": "stdout",
          "output_type": "stream",
          "text": [
            "Epoch 12: Train Loss: 0.7713, Train Acc: 69.69%\n"
          ]
        },
        {
          "name": "stderr",
          "output_type": "stream",
          "text": [
            "Epoch 13/20: 100%|██████████| 83/83 [00:04<00:00, 17.10it/s]\n"
          ]
        },
        {
          "name": "stdout",
          "output_type": "stream",
          "text": [
            "Epoch 13: Train Loss: 0.7472, Train Acc: 70.18%\n"
          ]
        },
        {
          "name": "stderr",
          "output_type": "stream",
          "text": [
            "Epoch 14/20: 100%|██████████| 83/83 [00:05<00:00, 14.05it/s]\n"
          ]
        },
        {
          "name": "stdout",
          "output_type": "stream",
          "text": [
            "Epoch 14: Train Loss: 0.7593, Train Acc: 69.06%\n"
          ]
        },
        {
          "name": "stderr",
          "output_type": "stream",
          "text": [
            "Epoch 15/20: 100%|██████████| 83/83 [00:04<00:00, 18.66it/s]\n"
          ]
        },
        {
          "name": "stdout",
          "output_type": "stream",
          "text": [
            "Epoch 15: Train Loss: 0.7496, Train Acc: 70.64%\n"
          ]
        },
        {
          "name": "stderr",
          "output_type": "stream",
          "text": [
            "Epoch 16/20: 100%|██████████| 83/83 [00:05<00:00, 14.64it/s]\n"
          ]
        },
        {
          "name": "stdout",
          "output_type": "stream",
          "text": [
            "Epoch 16: Train Loss: 0.6984, Train Acc: 72.45%\n"
          ]
        },
        {
          "name": "stderr",
          "output_type": "stream",
          "text": [
            "Epoch 17/20: 100%|██████████| 83/83 [00:04<00:00, 17.22it/s]\n"
          ]
        },
        {
          "name": "stdout",
          "output_type": "stream",
          "text": [
            "Epoch 17: Train Loss: 0.7868, Train Acc: 68.70%\n"
          ]
        },
        {
          "name": "stderr",
          "output_type": "stream",
          "text": [
            "Epoch 18/20: 100%|██████████| 83/83 [00:04<00:00, 16.92it/s]\n"
          ]
        },
        {
          "name": "stdout",
          "output_type": "stream",
          "text": [
            "Epoch 18: Train Loss: 0.7233, Train Acc: 71.00%\n"
          ]
        },
        {
          "name": "stderr",
          "output_type": "stream",
          "text": [
            "Epoch 19/20: 100%|██████████| 83/83 [00:06<00:00, 13.21it/s]\n"
          ]
        },
        {
          "name": "stdout",
          "output_type": "stream",
          "text": [
            "Epoch 19: Train Loss: 0.7049, Train Acc: 72.03%\n"
          ]
        },
        {
          "name": "stderr",
          "output_type": "stream",
          "text": [
            "Epoch 20/20: 100%|██████████| 83/83 [00:04<00:00, 18.17it/s]\n"
          ]
        },
        {
          "name": "stdout",
          "output_type": "stream",
          "text": [
            "Epoch 20: Train Loss: 0.6980, Train Acc: 71.86%\n",
            "Evaluating model...\n"
          ]
        },
        {
          "name": "stderr",
          "output_type": "stream",
          "text": [
            "Evaluating: 100%|██████████| 15/15 [00:00<00:00, 38.09it/s]\n"
          ]
        },
        {
          "name": "stdout",
          "output_type": "stream",
          "text": [
            "Final Validation Accuracy: 0.7184\n",
            "              precision    recall  f1-score   support\n",
            "\n",
            "           0       0.76      0.95      0.84       544\n",
            "           1       0.48      0.57      0.52        84\n",
            "           2       0.78      0.30      0.44       264\n",
            "           3       0.51      0.63      0.56        35\n",
            "\n",
            "    accuracy                           0.72       927\n",
            "   macro avg       0.63      0.61      0.59       927\n",
            "weighted avg       0.73      0.72      0.69       927\n",
            "\n",
            "Final Validation F1 Score: 0.6871\n"
          ]
        },
        {
          "data": {
            "image/png": "[encoded data removed]",
            "text/plain": [
              "<Figure size 640x480 with 2 Axes>"
            ]
          },
          "metadata": {},
          "output_type": "display_data"
        },
        {
          "name": "stdout",
          "output_type": "stream",
          "text": [
            "Validation Accuracy of VorgabeRNN with None and all: 0.7184\n",
            "\n",
            "Testing VorgabeLSTM with None and all\n",
            "Training CNN model on cuda\n",
            "Training CNN feature extractor...\n"
          ]
        },
        {
          "name": "stderr",
          "output_type": "stream",
          "text": [
            "Epoch 1/20: 100%|██████████| 83/83 [00:06<00:00, 13.27it/s]\n"
          ]
        },
        {
          "name": "stdout",
          "output_type": "stream",
          "text": [
            "Epoch 1: Train Loss: 1.1179, Train Acc: 57.67%\n"
          ]
        },
        {
          "name": "stderr",
          "output_type": "stream",
          "text": [
            "Epoch 2/20: 100%|██████████| 83/83 [00:04<00:00, 17.86it/s]\n"
          ]
        },
        {
          "name": "stdout",
          "output_type": "stream",
          "text": [
            "Epoch 2: Train Loss: 0.9785, Train Acc: 60.30%\n"
          ]
        },
        {
          "name": "stderr",
          "output_type": "stream",
          "text": [
            "Epoch 3/20: 100%|██████████| 83/83 [00:05<00:00, 16.42it/s]\n"
          ]
        },
        {
          "name": "stdout",
          "output_type": "stream",
          "text": [
            "Epoch 3: Train Loss: 0.9430, Train Acc: 62.62%\n"
          ]
        },
        {
          "name": "stderr",
          "output_type": "stream",
          "text": [
            "Epoch 4/20: 100%|██████████| 83/83 [00:05<00:00, 14.39it/s]\n"
          ]
        },
        {
          "name": "stdout",
          "output_type": "stream",
          "text": [
            "Epoch 4: Train Loss: 0.9215, Train Acc: 62.74%\n"
          ]
        },
        {
          "name": "stderr",
          "output_type": "stream",
          "text": [
            "Epoch 5/20: 100%|██████████| 83/83 [00:04<00:00, 18.49it/s]\n"
          ]
        },
        {
          "name": "stdout",
          "output_type": "stream",
          "text": [
            "Epoch 5: Train Loss: 0.9067, Train Acc: 63.12%\n"
          ]
        },
        {
          "name": "stderr",
          "output_type": "stream",
          "text": [
            "Epoch 6/20: 100%|██████████| 83/83 [00:05<00:00, 14.34it/s]\n"
          ]
        },
        {
          "name": "stdout",
          "output_type": "stream",
          "text": [
            "Epoch 6: Train Loss: 0.8786, Train Acc: 64.64%\n"
          ]
        },
        {
          "name": "stderr",
          "output_type": "stream",
          "text": [
            "Epoch 7/20: 100%|██████████| 83/83 [00:04<00:00, 17.04it/s]\n"
          ]
        },
        {
          "name": "stdout",
          "output_type": "stream",
          "text": [
            "Epoch 7: Train Loss: 0.8835, Train Acc: 64.11%\n"
          ]
        },
        {
          "name": "stderr",
          "output_type": "stream",
          "text": [
            "Epoch 8/20: 100%|██████████| 83/83 [00:04<00:00, 18.61it/s]\n"
          ]
        },
        {
          "name": "stdout",
          "output_type": "stream",
          "text": [
            "Epoch 8: Train Loss: 0.8750, Train Acc: 64.83%\n"
          ]
        },
        {
          "name": "stderr",
          "output_type": "stream",
          "text": [
            "Epoch 9/20: 100%|██████████| 83/83 [00:06<00:00, 13.04it/s]\n"
          ]
        },
        {
          "name": "stdout",
          "output_type": "stream",
          "text": [
            "Epoch 9: Train Loss: 0.8529, Train Acc: 65.50%\n"
          ]
        },
        {
          "name": "stderr",
          "output_type": "stream",
          "text": [
            "Epoch 10/20: 100%|██████████| 83/83 [00:04<00:00, 17.66it/s]\n"
          ]
        },
        {
          "name": "stdout",
          "output_type": "stream",
          "text": [
            "Epoch 10: Train Loss: 0.8841, Train Acc: 64.62%\n"
          ]
        },
        {
          "name": "stderr",
          "output_type": "stream",
          "text": [
            "Epoch 11/20: 100%|██████████| 83/83 [00:04<00:00, 18.05it/s]\n"
          ]
        },
        {
          "name": "stdout",
          "output_type": "stream",
          "text": [
            "Epoch 11: Train Loss: 0.8562, Train Acc: 65.46%\n"
          ]
        },
        {
          "name": "stderr",
          "output_type": "stream",
          "text": [
            "Epoch 12/20: 100%|██████████| 83/83 [00:06<00:00, 13.37it/s]\n"
          ]
        },
        {
          "name": "stdout",
          "output_type": "stream",
          "text": [
            "Epoch 12: Train Loss: 0.8514, Train Acc: 66.01%\n"
          ]
        },
        {
          "name": "stderr",
          "output_type": "stream",
          "text": [
            "Epoch 13/20: 100%|██████████| 83/83 [00:04<00:00, 17.95it/s]\n"
          ]
        },
        {
          "name": "stdout",
          "output_type": "stream",
          "text": [
            "Epoch 13: Train Loss: 0.8446, Train Acc: 65.25%\n"
          ]
        },
        {
          "name": "stderr",
          "output_type": "stream",
          "text": [
            "Epoch 14/20: 100%|██████████| 83/83 [00:05<00:00, 15.01it/s]\n"
          ]
        },
        {
          "name": "stdout",
          "output_type": "stream",
          "text": [
            "Epoch 14: Train Loss: 0.8211, Train Acc: 66.32%\n"
          ]
        },
        {
          "name": "stderr",
          "output_type": "stream",
          "text": [
            "Epoch 15/20: 100%|██████████| 83/83 [00:05<00:00, 15.96it/s]\n"
          ]
        },
        {
          "name": "stdout",
          "output_type": "stream",
          "text": [
            "Epoch 15: Train Loss: 0.8337, Train Acc: 66.39%\n"
          ]
        },
        {
          "name": "stderr",
          "output_type": "stream",
          "text": [
            "Epoch 16/20: 100%|██████████| 83/83 [00:04<00:00, 18.58it/s]\n"
          ]
        },
        {
          "name": "stdout",
          "output_type": "stream",
          "text": [
            "Epoch 16: Train Loss: 0.8185, Train Acc: 67.14%\n"
          ]
        },
        {
          "name": "stderr",
          "output_type": "stream",
          "text": [
            "Epoch 17/20: 100%|██████████| 83/83 [00:06<00:00, 12.64it/s]\n"
          ]
        },
        {
          "name": "stdout",
          "output_type": "stream",
          "text": [
            "Epoch 17: Train Loss: 0.8071, Train Acc: 67.82%\n"
          ]
        },
        {
          "name": "stderr",
          "output_type": "stream",
          "text": [
            "Epoch 18/20: 100%|██████████| 83/83 [00:04<00:00, 17.74it/s]\n"
          ]
        },
        {
          "name": "stdout",
          "output_type": "stream",
          "text": [
            "Epoch 18: Train Loss: 0.8130, Train Acc: 67.35%\n"
          ]
        },
        {
          "name": "stderr",
          "output_type": "stream",
          "text": [
            "Epoch 19/20: 100%|██████████| 83/83 [00:04<00:00, 18.23it/s]\n"
          ]
        },
        {
          "name": "stdout",
          "output_type": "stream",
          "text": [
            "Epoch 19: Train Loss: 0.7973, Train Acc: 68.32%\n"
          ]
        },
        {
          "name": "stderr",
          "output_type": "stream",
          "text": [
            "Epoch 20/20: 100%|██████████| 83/83 [00:06<00:00, 12.40it/s]\n"
          ]
        },
        {
          "name": "stdout",
          "output_type": "stream",
          "text": [
            "Epoch 20: Train Loss: 0.7988, Train Acc: 68.51%\n",
            "Evaluating model...\n"
          ]
        },
        {
          "name": "stderr",
          "output_type": "stream",
          "text": [
            "Evaluating: 100%|██████████| 15/15 [00:00<00:00, 34.67it/s]\n"
          ]
        },
        {
          "name": "stdout",
          "output_type": "stream",
          "text": [
            "Final Validation Accuracy: 0.6936\n",
            "              precision    recall  f1-score   support\n",
            "\n",
            "           0       0.76      0.87      0.81       544\n",
            "           1       0.82      0.11      0.19        84\n",
            "           2       0.56      0.50      0.53       264\n",
            "           3       0.46      0.77      0.57        35\n",
            "\n",
            "    accuracy                           0.69       927\n",
            "   macro avg       0.65      0.56      0.53       927\n",
            "weighted avg       0.70      0.69      0.67       927\n",
            "\n",
            "Final Validation F1 Score: 0.6679\n"
          ]
        },
        {
          "data": {
            "image/png": "[encoded data removed]",
            "text/plain": [
              "<Figure size 640x480 with 2 Axes>"
            ]
          },
          "metadata": {},
          "output_type": "display_data"
        },
        {
          "name": "stdout",
          "output_type": "stream",
          "text": [
            "Validation Accuracy of VorgabeLSTM with None and all: 0.6936\n",
            "\n",
            "Testing VorgabeGRU with None and all\n",
            "Training CNN model on cuda\n",
            "Training CNN feature extractor...\n"
          ]
        },
        {
          "name": "stderr",
          "output_type": "stream",
          "text": [
            "Epoch 1/20: 100%|██████████| 83/83 [00:05<00:00, 14.88it/s]\n"
          ]
        },
        {
          "name": "stdout",
          "output_type": "stream",
          "text": [
            "Epoch 1: Train Loss: 1.1830, Train Acc: 58.21%\n"
          ]
        },
        {
          "name": "stderr",
          "output_type": "stream",
          "text": [
            "Epoch 2/20: 100%|██████████| 83/83 [00:05<00:00, 16.06it/s]\n"
          ]
        },
        {
          "name": "stdout",
          "output_type": "stream",
          "text": [
            "Epoch 2: Train Loss: 0.9931, Train Acc: 60.13%\n"
          ]
        },
        {
          "name": "stderr",
          "output_type": "stream",
          "text": [
            "Epoch 3/20: 100%|██████████| 83/83 [00:04<00:00, 17.97it/s]\n"
          ]
        },
        {
          "name": "stdout",
          "output_type": "stream",
          "text": [
            "Epoch 3: Train Loss: 0.9622, Train Acc: 60.30%\n"
          ]
        },
        {
          "name": "stderr",
          "output_type": "stream",
          "text": [
            "Epoch 4/20: 100%|██████████| 83/83 [00:06<00:00, 13.18it/s]\n"
          ]
        },
        {
          "name": "stdout",
          "output_type": "stream",
          "text": [
            "Epoch 4: Train Loss: 0.9331, Train Acc: 62.95%\n"
          ]
        },
        {
          "name": "stderr",
          "output_type": "stream",
          "text": [
            "Epoch 5/20: 100%|██████████| 83/83 [00:04<00:00, 17.94it/s]\n"
          ]
        },
        {
          "name": "stdout",
          "output_type": "stream",
          "text": [
            "Epoch 5: Train Loss: 0.9380, Train Acc: 62.11%\n"
          ]
        },
        {
          "name": "stderr",
          "output_type": "stream",
          "text": [
            "Epoch 6/20: 100%|██████████| 83/83 [00:04<00:00, 17.85it/s]\n"
          ]
        },
        {
          "name": "stdout",
          "output_type": "stream",
          "text": [
            "Epoch 6: Train Loss: 0.8876, Train Acc: 65.12%\n"
          ]
        },
        {
          "name": "stderr",
          "output_type": "stream",
          "text": [
            "Epoch 7/20: 100%|██████████| 83/83 [00:06<00:00, 13.26it/s]\n"
          ]
        },
        {
          "name": "stdout",
          "output_type": "stream",
          "text": [
            "Epoch 7: Train Loss: 0.8874, Train Acc: 64.22%\n"
          ]
        },
        {
          "name": "stderr",
          "output_type": "stream",
          "text": [
            "Epoch 8/20: 100%|██████████| 83/83 [00:04<00:00, 18.34it/s]\n"
          ]
        },
        {
          "name": "stdout",
          "output_type": "stream",
          "text": [
            "Epoch 8: Train Loss: 0.8456, Train Acc: 65.75%\n"
          ]
        },
        {
          "name": "stderr",
          "output_type": "stream",
          "text": [
            "Epoch 9/20: 100%|██████████| 83/83 [00:04<00:00, 17.25it/s]\n"
          ]
        },
        {
          "name": "stdout",
          "output_type": "stream",
          "text": [
            "Epoch 9: Train Loss: 0.8794, Train Acc: 65.42%\n"
          ]
        },
        {
          "name": "stderr",
          "output_type": "stream",
          "text": [
            "Epoch 10/20: 100%|██████████| 83/83 [00:05<00:00, 13.93it/s]\n"
          ]
        },
        {
          "name": "stdout",
          "output_type": "stream",
          "text": [
            "Epoch 10: Train Loss: 0.8265, Train Acc: 66.58%\n"
          ]
        },
        {
          "name": "stderr",
          "output_type": "stream",
          "text": [
            "Epoch 11/20: 100%|██████████| 83/83 [00:04<00:00, 18.19it/s]\n"
          ]
        },
        {
          "name": "stdout",
          "output_type": "stream",
          "text": [
            "Epoch 11: Train Loss: 0.8131, Train Acc: 67.54%\n"
          ]
        },
        {
          "name": "stderr",
          "output_type": "stream",
          "text": [
            "Epoch 12/20: 100%|██████████| 83/83 [00:05<00:00, 13.93it/s]\n"
          ]
        },
        {
          "name": "stdout",
          "output_type": "stream",
          "text": [
            "Epoch 12: Train Loss: 0.8239, Train Acc: 66.74%\n"
          ]
        },
        {
          "name": "stderr",
          "output_type": "stream",
          "text": [
            "Epoch 13/20: 100%|██████████| 83/83 [00:04<00:00, 16.79it/s]\n"
          ]
        },
        {
          "name": "stdout",
          "output_type": "stream",
          "text": [
            "Epoch 13: Train Loss: 0.7919, Train Acc: 67.73%\n"
          ]
        },
        {
          "name": "stderr",
          "output_type": "stream",
          "text": [
            "Epoch 14/20: 100%|██████████| 83/83 [00:04<00:00, 17.95it/s]\n"
          ]
        },
        {
          "name": "stdout",
          "output_type": "stream",
          "text": [
            "Epoch 14: Train Loss: 0.7810, Train Acc: 68.22%\n"
          ]
        },
        {
          "name": "stderr",
          "output_type": "stream",
          "text": [
            "Epoch 15/20: 100%|██████████| 83/83 [00:06<00:00, 13.32it/s]\n"
          ]
        },
        {
          "name": "stdout",
          "output_type": "stream",
          "text": [
            "Epoch 15: Train Loss: 0.7632, Train Acc: 69.46%\n"
          ]
        },
        {
          "name": "stderr",
          "output_type": "stream",
          "text": [
            "Epoch 16/20: 100%|██████████| 83/83 [00:04<00:00, 18.25it/s]\n"
          ]
        },
        {
          "name": "stdout",
          "output_type": "stream",
          "text": [
            "Epoch 16: Train Loss: 0.7523, Train Acc: 69.23%\n"
          ]
        },
        {
          "name": "stderr",
          "output_type": "stream",
          "text": [
            "Epoch 17/20: 100%|██████████| 83/83 [00:05<00:00, 16.32it/s]\n"
          ]
        },
        {
          "name": "stdout",
          "output_type": "stream",
          "text": [
            "Epoch 17: Train Loss: 0.7627, Train Acc: 69.44%\n"
          ]
        },
        {
          "name": "stderr",
          "output_type": "stream",
          "text": [
            "Epoch 18/20: 100%|██████████| 83/83 [00:06<00:00, 13.66it/s]\n"
          ]
        },
        {
          "name": "stdout",
          "output_type": "stream",
          "text": [
            "Epoch 18: Train Loss: 0.7641, Train Acc: 69.17%\n"
          ]
        },
        {
          "name": "stderr",
          "output_type": "stream",
          "text": [
            "Epoch 19/20: 100%|██████████| 83/83 [00:04<00:00, 18.67it/s]\n"
          ]
        },
        {
          "name": "stdout",
          "output_type": "stream",
          "text": [
            "Epoch 19: Train Loss: 0.7305, Train Acc: 70.53%\n"
          ]
        },
        {
          "name": "stderr",
          "output_type": "stream",
          "text": [
            "Epoch 20/20: 100%|██████████| 83/83 [00:05<00:00, 15.30it/s]\n"
          ]
        },
        {
          "name": "stdout",
          "output_type": "stream",
          "text": [
            "Epoch 20: Train Loss: 0.7273, Train Acc: 70.87%\n",
            "Evaluating model...\n"
          ]
        },
        {
          "name": "stderr",
          "output_type": "stream",
          "text": [
            "Evaluating: 100%|██████████| 15/15 [00:00<00:00, 25.00it/s]\n"
          ]
        },
        {
          "name": "stdout",
          "output_type": "stream",
          "text": [
            "Final Validation Accuracy: 0.7260\n",
            "              precision    recall  f1-score   support\n",
            "\n",
            "           0       0.77      0.91      0.84       544\n",
            "           1       0.58      0.35      0.43        84\n",
            "           2       0.63      0.46      0.53       264\n",
            "           3       0.66      0.71      0.68        35\n",
            "\n",
            "    accuracy                           0.73       927\n",
            "   macro avg       0.66      0.61      0.62       927\n",
            "weighted avg       0.71      0.73      0.71       927\n",
            "\n",
            "Final Validation F1 Score: 0.7073\n"
          ]
        },
        {
          "data": {
            "image/png": "[encoded data removed]",
            "text/plain": [
              "<Figure size 640x480 with 2 Axes>"
            ]
          },
          "metadata": {},
          "output_type": "display_data"
        },
        {
          "name": "stdout",
          "output_type": "stream",
          "text": [
            "Validation Accuracy of VorgabeGRU with None and all: 0.7260\n",
            "\n",
            "Testing CNNwithSVM with None and all\n",
            "Training CNN+SVM model on cuda\n",
            "Training CNN feature extractor...\n"
          ]
        },
        {
          "name": "stderr",
          "output_type": "stream",
          "text": [
            "\rEpoch 1/20:   0%|          | 0/83 [00:00<?, ?it/s]"
          ]
        },
        {
          "name": "stdout",
          "output_type": "stream",
          "text": [
            "Initialized fc1 with input size: 17408\n"
          ]
        },
        {
          "name": "stderr",
          "output_type": "stream",
          "text": [
            "Epoch 1/20: 100%|██████████| 83/83 [00:09<00:00,  8.71it/s]\n"
          ]
        },
        {
          "name": "stdout",
          "output_type": "stream",
          "text": [
            "Epoch 1: Train Loss: 1.0479, Train Acc: 59.37%\n"
          ]
        },
        {
          "name": "stderr",
          "output_type": "stream",
          "text": [
            "Epoch 2/20: 100%|██████████| 83/83 [00:09<00:00,  9.17it/s]\n"
          ]
        },
        {
          "name": "stdout",
          "output_type": "stream",
          "text": [
            "Epoch 2: Train Loss: 0.9119, Train Acc: 65.18%\n"
          ]
        },
        {
          "name": "stderr",
          "output_type": "stream",
          "text": [
            "Epoch 3/20: 100%|██████████| 83/83 [00:09<00:00,  8.97it/s]\n"
          ]
        },
        {
          "name": "stdout",
          "output_type": "stream",
          "text": [
            "Epoch 3: Train Loss: 0.8459, Train Acc: 67.38%\n"
          ]
        },
        {
          "name": "stderr",
          "output_type": "stream",
          "text": [
            "Epoch 4/20: 100%|██████████| 83/83 [00:09<00:00,  9.18it/s]\n"
          ]
        },
        {
          "name": "stdout",
          "output_type": "stream",
          "text": [
            "Epoch 4: Train Loss: 0.7854, Train Acc: 70.32%\n"
          ]
        },
        {
          "name": "stderr",
          "output_type": "stream",
          "text": [
            "Epoch 5/20: 100%|██████████| 83/83 [00:08<00:00,  9.26it/s]\n"
          ]
        },
        {
          "name": "stdout",
          "output_type": "stream",
          "text": [
            "Epoch 5: Train Loss: 0.7596, Train Acc: 71.33%\n"
          ]
        },
        {
          "name": "stderr",
          "output_type": "stream",
          "text": [
            "Epoch 6/20: 100%|██████████| 83/83 [00:09<00:00,  9.08it/s]\n"
          ]
        },
        {
          "name": "stdout",
          "output_type": "stream",
          "text": [
            "Epoch 6: Train Loss: 0.7481, Train Acc: 71.55%\n"
          ]
        },
        {
          "name": "stderr",
          "output_type": "stream",
          "text": [
            "Epoch 7/20: 100%|██████████| 83/83 [00:08<00:00,  9.56it/s]\n"
          ]
        },
        {
          "name": "stdout",
          "output_type": "stream",
          "text": [
            "Epoch 7: Train Loss: 0.7336, Train Acc: 71.74%\n"
          ]
        },
        {
          "name": "stderr",
          "output_type": "stream",
          "text": [
            "Epoch 8/20: 100%|██████████| 83/83 [00:09<00:00,  8.96it/s]\n"
          ]
        },
        {
          "name": "stdout",
          "output_type": "stream",
          "text": [
            "Epoch 8: Train Loss: 0.7134, Train Acc: 72.47%\n"
          ]
        },
        {
          "name": "stderr",
          "output_type": "stream",
          "text": [
            "Epoch 9/20: 100%|██████████| 83/83 [00:09<00:00,  9.02it/s]\n"
          ]
        },
        {
          "name": "stdout",
          "output_type": "stream",
          "text": [
            "Epoch 9: Train Loss: 0.7111, Train Acc: 73.46%\n"
          ]
        },
        {
          "name": "stderr",
          "output_type": "stream",
          "text": [
            "Epoch 10/20: 100%|██████████| 83/83 [00:08<00:00,  9.50it/s]\n"
          ]
        },
        {
          "name": "stdout",
          "output_type": "stream",
          "text": [
            "Epoch 10: Train Loss: 0.6870, Train Acc: 73.69%\n"
          ]
        },
        {
          "name": "stderr",
          "output_type": "stream",
          "text": [
            "Epoch 11/20: 100%|██████████| 83/83 [00:09<00:00,  9.00it/s]\n"
          ]
        },
        {
          "name": "stdout",
          "output_type": "stream",
          "text": [
            "Epoch 11: Train Loss: 0.6821, Train Acc: 73.40%\n"
          ]
        },
        {
          "name": "stderr",
          "output_type": "stream",
          "text": [
            "Epoch 12/20: 100%|██████████| 83/83 [00:09<00:00,  9.10it/s]\n"
          ]
        },
        {
          "name": "stdout",
          "output_type": "stream",
          "text": [
            "Epoch 12: Train Loss: 0.6665, Train Acc: 73.84%\n"
          ]
        },
        {
          "name": "stderr",
          "output_type": "stream",
          "text": [
            "Epoch 13/20: 100%|██████████| 83/83 [00:08<00:00,  9.36it/s]\n"
          ]
        },
        {
          "name": "stdout",
          "output_type": "stream",
          "text": [
            "Epoch 13: Train Loss: 0.6507, Train Acc: 75.38%\n"
          ]
        },
        {
          "name": "stderr",
          "output_type": "stream",
          "text": [
            "Epoch 14/20: 100%|██████████| 83/83 [00:09<00:00,  9.12it/s]\n"
          ]
        },
        {
          "name": "stdout",
          "output_type": "stream",
          "text": [
            "Epoch 14: Train Loss: 0.6421, Train Acc: 75.42%\n"
          ]
        },
        {
          "name": "stderr",
          "output_type": "stream",
          "text": [
            "Epoch 15/20: 100%|██████████| 83/83 [00:09<00:00,  9.02it/s]\n"
          ]
        },
        {
          "name": "stdout",
          "output_type": "stream",
          "text": [
            "Epoch 15: Train Loss: 0.6494, Train Acc: 74.90%\n"
          ]
        },
        {
          "name": "stderr",
          "output_type": "stream",
          "text": [
            "Epoch 16/20: 100%|██████████| 83/83 [00:09<00:00,  9.18it/s]\n"
          ]
        },
        {
          "name": "stdout",
          "output_type": "stream",
          "text": [
            "Epoch 16: Train Loss: 0.6441, Train Acc: 75.55%\n"
          ]
        },
        {
          "name": "stderr",
          "output_type": "stream",
          "text": [
            "Epoch 17/20: 100%|██████████| 83/83 [00:09<00:00,  8.96it/s]\n"
          ]
        },
        {
          "name": "stdout",
          "output_type": "stream",
          "text": [
            "Epoch 17: Train Loss: 0.6369, Train Acc: 75.65%\n"
          ]
        },
        {
          "name": "stderr",
          "output_type": "stream",
          "text": [
            "Epoch 18/20: 100%|██████████| 83/83 [00:08<00:00,  9.24it/s]\n"
          ]
        },
        {
          "name": "stdout",
          "output_type": "stream",
          "text": [
            "Epoch 18: Train Loss: 0.6194, Train Acc: 76.39%\n"
          ]
        },
        {
          "name": "stderr",
          "output_type": "stream",
          "text": [
            "Epoch 19/20: 100%|██████████| 83/83 [00:09<00:00,  9.20it/s]\n"
          ]
        },
        {
          "name": "stdout",
          "output_type": "stream",
          "text": [
            "Epoch 19: Train Loss: 0.6046, Train Acc: 76.96%\n"
          ]
        },
        {
          "name": "stderr",
          "output_type": "stream",
          "text": [
            "Epoch 20/20: 100%|██████████| 83/83 [00:09<00:00,  8.91it/s]\n"
          ]
        },
        {
          "name": "stdout",
          "output_type": "stream",
          "text": [
            "Epoch 20: Train Loss: 0.5992, Train Acc: 76.85%\n",
            "Training SVM...\n"
          ]
        },
        {
          "name": "stderr",
          "output_type": "stream",
          "text": [
            "Extracting features: 100%|██████████| 83/83 [00:04<00:00, 20.08it/s]\n"
          ]
        },
        {
          "name": "stdout",
          "output_type": "stream",
          "text": [
            "Training SVM on 5252 samples\n",
            "Evaluating model...\n"
          ]
        },
        {
          "name": "stderr",
          "output_type": "stream",
          "text": [
            "Evaluating: 100%|██████████| 15/15 [00:00<00:00, 22.12it/s]\n"
          ]
        },
        {
          "name": "stdout",
          "output_type": "stream",
          "text": [
            "Final Validation Accuracy: 0.7465\n",
            "              precision    recall  f1-score   support\n",
            "\n",
            "           0       0.76      0.95      0.85       544\n",
            "           1       0.76      0.49      0.59        84\n",
            "           2       0.71      0.44      0.54       264\n",
            "           3       0.64      0.51      0.57        35\n",
            "\n",
            "    accuracy                           0.75       927\n",
            "   macro avg       0.72      0.60      0.64       927\n",
            "weighted avg       0.74      0.75      0.72       927\n",
            "\n",
            "Final Validation F1 Score: 0.7247\n"
          ]
        },
        {
          "data": {
            "image/png": "[encoded data removed]",
            "text/plain": [
              "<Figure size 640x480 with 2 Axes>"
            ]
          },
          "metadata": {},
          "output_type": "display_data"
        },
        {
          "name": "stdout",
          "output_type": "stream",
          "text": [
            "Validation Accuracy of CNNwithSVM with None and all: 0.7465\n",
            "\n",
            "Testing SimpleCNN with None and all\n",
            "Training CNN model on cuda\n",
            "Training CNN feature extractor...\n"
          ]
        },
        {
          "name": "stderr",
          "output_type": "stream",
          "text": [
            "Epoch 1/20:   1%|          | 1/83 [00:00<00:34,  2.39it/s]"
          ]
        },
        {
          "name": "stdout",
          "output_type": "stream",
          "text": [
            "Initialized fc1 with input size: 17408\n"
          ]
        },
        {
          "name": "stderr",
          "output_type": "stream",
          "text": [
            "Epoch 1/20: 100%|██████████| 83/83 [00:08<00:00,  9.40it/s]\n"
          ]
        },
        {
          "name": "stdout",
          "output_type": "stream",
          "text": [
            "Epoch 1: Train Loss: 1.0949, Train Acc: 59.35%\n"
          ]
        },
        {
          "name": "stderr",
          "output_type": "stream",
          "text": [
            "Epoch 2/20: 100%|██████████| 83/83 [00:09<00:00,  9.05it/s]\n"
          ]
        },
        {
          "name": "stdout",
          "output_type": "stream",
          "text": [
            "Epoch 2: Train Loss: 0.8975, Train Acc: 65.67%\n"
          ]
        },
        {
          "name": "stderr",
          "output_type": "stream",
          "text": [
            "Epoch 3/20: 100%|██████████| 83/83 [00:09<00:00,  9.12it/s]\n"
          ]
        },
        {
          "name": "stdout",
          "output_type": "stream",
          "text": [
            "Epoch 3: Train Loss: 0.8717, Train Acc: 65.58%\n"
          ]
        },
        {
          "name": "stderr",
          "output_type": "stream",
          "text": [
            "Epoch 4/20: 100%|██████████| 83/83 [00:09<00:00,  9.07it/s]\n"
          ]
        },
        {
          "name": "stdout",
          "output_type": "stream",
          "text": [
            "Epoch 4: Train Loss: 0.8412, Train Acc: 68.09%\n"
          ]
        },
        {
          "name": "stderr",
          "output_type": "stream",
          "text": [
            "Epoch 5/20: 100%|██████████| 83/83 [00:09<00:00,  8.89it/s]\n"
          ]
        },
        {
          "name": "stdout",
          "output_type": "stream",
          "text": [
            "Epoch 5: Train Loss: 0.8267, Train Acc: 66.98%\n"
          ]
        },
        {
          "name": "stderr",
          "output_type": "stream",
          "text": [
            "Epoch 6/20: 100%|██████████| 83/83 [00:09<00:00,  9.21it/s]\n"
          ]
        },
        {
          "name": "stdout",
          "output_type": "stream",
          "text": [
            "Epoch 6: Train Loss: 0.7923, Train Acc: 68.58%\n"
          ]
        },
        {
          "name": "stderr",
          "output_type": "stream",
          "text": [
            "Epoch 7/20: 100%|██████████| 83/83 [00:09<00:00,  9.14it/s]\n"
          ]
        },
        {
          "name": "stdout",
          "output_type": "stream",
          "text": [
            "Epoch 7: Train Loss: 0.7785, Train Acc: 68.35%\n"
          ]
        },
        {
          "name": "stderr",
          "output_type": "stream",
          "text": [
            "Epoch 8/20: 100%|██████████| 83/83 [00:09<00:00,  9.09it/s]\n"
          ]
        },
        {
          "name": "stdout",
          "output_type": "stream",
          "text": [
            "Epoch 8: Train Loss: 0.7506, Train Acc: 70.54%\n"
          ]
        },
        {
          "name": "stderr",
          "output_type": "stream",
          "text": [
            "Epoch 9/20: 100%|██████████| 83/83 [00:08<00:00,  9.31it/s]\n"
          ]
        },
        {
          "name": "stdout",
          "output_type": "stream",
          "text": [
            "Epoch 9: Train Loss: 0.7386, Train Acc: 71.04%\n"
          ]
        },
        {
          "name": "stderr",
          "output_type": "stream",
          "text": [
            "Epoch 10/20: 100%|██████████| 83/83 [00:10<00:00,  7.72it/s]\n"
          ]
        },
        {
          "name": "stdout",
          "output_type": "stream",
          "text": [
            "Epoch 10: Train Loss: 0.7221, Train Acc: 72.18%\n"
          ]
        },
        {
          "name": "stderr",
          "output_type": "stream",
          "text": [
            "Epoch 11/20: 100%|██████████| 83/83 [00:09<00:00,  8.43it/s]\n"
          ]
        },
        {
          "name": "stdout",
          "output_type": "stream",
          "text": [
            "Epoch 11: Train Loss: 0.7331, Train Acc: 71.92%\n"
          ]
        },
        {
          "name": "stderr",
          "output_type": "stream",
          "text": [
            "Epoch 12/20: 100%|██████████| 83/83 [00:08<00:00,  9.33it/s]\n"
          ]
        },
        {
          "name": "stdout",
          "output_type": "stream",
          "text": [
            "Epoch 12: Train Loss: 0.7182, Train Acc: 71.93%\n"
          ]
        },
        {
          "name": "stderr",
          "output_type": "stream",
          "text": [
            "Epoch 13/20: 100%|██████████| 83/83 [00:09<00:00,  9.12it/s]\n"
          ]
        },
        {
          "name": "stdout",
          "output_type": "stream",
          "text": [
            "Epoch 13: Train Loss: 0.7149, Train Acc: 72.56%\n"
          ]
        },
        {
          "name": "stderr",
          "output_type": "stream",
          "text": [
            "Epoch 14/20: 100%|██████████| 83/83 [00:09<00:00,  9.08it/s]\n"
          ]
        },
        {
          "name": "stdout",
          "output_type": "stream",
          "text": [
            "Epoch 14: Train Loss: 0.6914, Train Acc: 73.00%\n"
          ]
        },
        {
          "name": "stderr",
          "output_type": "stream",
          "text": [
            "Epoch 15/20: 100%|██████████| 83/83 [00:08<00:00,  9.29it/s]\n"
          ]
        },
        {
          "name": "stdout",
          "output_type": "stream",
          "text": [
            "Epoch 15: Train Loss: 0.6863, Train Acc: 72.89%\n"
          ]
        },
        {
          "name": "stderr",
          "output_type": "stream",
          "text": [
            "Epoch 16/20: 100%|██████████| 83/83 [00:09<00:00,  9.02it/s]\n"
          ]
        },
        {
          "name": "stdout",
          "output_type": "stream",
          "text": [
            "Epoch 16: Train Loss: 0.6962, Train Acc: 73.40%\n"
          ]
        },
        {
          "name": "stderr",
          "output_type": "stream",
          "text": [
            "Epoch 17/20: 100%|██████████| 83/83 [00:09<00:00,  9.05it/s]\n"
          ]
        },
        {
          "name": "stdout",
          "output_type": "stream",
          "text": [
            "Epoch 17: Train Loss: 0.7060, Train Acc: 73.42%\n"
          ]
        },
        {
          "name": "stderr",
          "output_type": "stream",
          "text": [
            "Epoch 18/20: 100%|██████████| 83/83 [00:08<00:00,  9.45it/s]\n"
          ]
        },
        {
          "name": "stdout",
          "output_type": "stream",
          "text": [
            "Epoch 18: Train Loss: 0.6890, Train Acc: 73.46%\n"
          ]
        },
        {
          "name": "stderr",
          "output_type": "stream",
          "text": [
            "Epoch 19/20: 100%|██████████| 83/83 [00:09<00:00,  8.94it/s]\n"
          ]
        },
        {
          "name": "stdout",
          "output_type": "stream",
          "text": [
            "Epoch 19: Train Loss: 0.6575, Train Acc: 74.22%\n"
          ]
        },
        {
          "name": "stderr",
          "output_type": "stream",
          "text": [
            "Epoch 20/20: 100%|██████████| 83/83 [00:09<00:00,  8.97it/s]\n"
          ]
        },
        {
          "name": "stdout",
          "output_type": "stream",
          "text": [
            "Epoch 20: Train Loss: 0.6628, Train Acc: 73.71%\n",
            "Evaluating model...\n"
          ]
        },
        {
          "name": "stderr",
          "output_type": "stream",
          "text": [
            "Evaluating: 100%|██████████| 15/15 [00:00<00:00, 32.53it/s]\n"
          ]
        },
        {
          "name": "stdout",
          "output_type": "stream",
          "text": [
            "Final Validation Accuracy: 0.5933\n",
            "              precision    recall  f1-score   support\n",
            "\n",
            "           0       0.86      0.70      0.77       544\n",
            "           1       0.25      0.83      0.38        84\n",
            "           2       0.66      0.29      0.41       264\n",
            "           3       0.24      0.60      0.35        35\n",
            "\n",
            "    accuracy                           0.59       927\n",
            "   macro avg       0.50      0.61      0.48       927\n",
            "weighted avg       0.73      0.59      0.62       927\n",
            "\n",
            "Final Validation F1 Score: 0.6174\n"
          ]
        },
        {
          "data": {
            "image/png": "[encoded data removed]",
            "text/plain": [
              "<Figure size 640x480 with 2 Axes>"
            ]
          },
          "metadata": {},
          "output_type": "display_data"
        },
        {
          "name": "stdout",
          "output_type": "stream",
          "text": [
            "Validation Accuracy of SimpleCNN with None and all: 0.5933\n",
            "\n",
            "All tests completed.\n",
            "Best result:\n",
            "Model: CNNwithSVM, Signal Transform: None, Augmentation: all, Accuracy: 0.7465\n"
          ]
        }
      ],
      "source": [
        "test_space = {\n",
        "    \"model\": [\n",
        "        VorgabeRNN,\n",
        "        VorgabeLSTM,\n",
        "        VorgabeGRU,\n",
        "        CNNwithSVM,\n",
        "        SimpleCNN,\n",
        "    ],\n",
        "    \"signal_transform\": [None],\n",
        "    \"augmentation\": [\"all\"],\n",
        "}\n",
        "\n",
        "results = []\n",
        "print(\"Starting tests with different configurations...\")\n",
        "\n",
        "device = \"cuda\" if torch.cuda.is_available() else \"mps\"\n",
        "\n",
        "for signal_transform in test_space[\"signal_transform\"]:\n",
        "    for augmentation in test_space[\"augmentation\"]:\n",
        "        train_set = ECGDataset(train_df, signal_transform=signal_transform, augmentation=augmentation)\n",
        "        val_set = ECGDataset(val_df, signal_transform=signal_transform)\n",
        "        train_loader = DataLoader(train_set,\n",
        "                                  batch_size=BATCH_SIZE,\n",
        "                                  num_workers=NUM_WORKERS,\n",
        "                                  shuffle=True,\n",
        "                                  generator=torch.Generator().manual_seed(42))\n",
        "\n",
        "        val_loader = DataLoader(val_set,\n",
        "                                batch_size=BATCH_SIZE,\n",
        "                                num_workers=NUM_WORKERS,\n",
        "                                shuffle=False)\n",
        "\n",
        "        for model_cls in test_space[\"model\"]:\n",
        "            print(f\"Testing {model_cls.__name__} with {signal_transform} and {augmentation}\")\n",
        "            if issubclass(model_cls, VorgabeRNN):\n",
        "                model = model_cls(\n",
        "                    hidden_size=128,\n",
        "                    num_layers=1,\n",
        "                    num_classes=NUM_CLASSES,\n",
        "                    n_fft=256,\n",
        "                    hop_length=128,\n",
        "                    dropout_rate=0.0,\n",
        "                )\n",
        "            else:\n",
        "                model = model_cls(\n",
        "                    feature_size=50,\n",
        "                    num_classes=NUM_CLASSES\n",
        "                )\n",
        "            model.to(device)\n",
        "            trained_model = train_model(model, train_loader, epochs=20, lr=0.001, batch_size_factor=4)\n",
        "            acc = evaluate_model(trained_model, val_loader, device)\n",
        "            print(f\"Validation Accuracy of {model_cls.__name__} with {signal_transform} and {augmentation}: {acc:.4f}\\n\")\n",
        "            results.append({\n",
        "                \"model\": model_cls.__name__,\n",
        "                \"signal_transform\": signal_transform,\n",
        "                \"augmentation\": augmentation,\n",
        "                \"accuracy\": acc,\n",
        "            })\n",
        "            del trained_model\n",
        "            torch.cuda.empty_cache()\n",
        "        del train_set, val_set, train_loader, val_loader\n",
        "\n",
        "print(\"All tests completed.\")\n",
        "best_result = max(results, key=lambda x: x[\"accuracy\"])\n",
        "print(f\"Best result:\\nModel: {best_result['model']}, Signal Transform: {best_result['signal_transform']}, Augmentation: {best_result['augmentation']}, Accuracy: {best_result['accuracy']:.4f}\")"
      ]
    }
  ],
  "metadata": {
    "accelerator": "GPU",
    "colab": {
      "gpuType": "T4",
      "provenance": []
    },
    "kernelspec": {
      "display_name": "amls-project-py3.13",
      "language": "python",
      "name": "python3"
    },
    "language_info": {
      "codemirror_mode": {
        "name": "ipython",
        "version": 3
      },
      "file_extension": ".py",
      "mimetype": "text/x-python",
      "name": "python",
      "nbconvert_exporter": "python",
      "pygments_lexer": "ipython3",
      "version": "3.13.1"
    }
  },
  "nbformat": 4,
  "nbformat_minor": 5
}
